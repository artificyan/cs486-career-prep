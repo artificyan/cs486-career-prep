{
 "cells": [
  {
   "cell_type": "markdown",
   "metadata": {
    "slideshow": {
     "slide_type": "slide"
    }
   },
   "source": [
    "<center><img src=\"images/diversity.jpg\" width=\"700\"/></center>"
   ]
  },
  {
   "cell_type": "markdown",
   "metadata": {
    "slideshow": {
     "slide_type": "slide"
    }
   },
   "source": [
    "JobFest Check-in\n",
    "----\n",
    "\n",
    "<center><img src=\"https://img.memecdn.com/the-good-bad-and-ugly-meme-style_o_199524.webp\" width=\"700\"/></center>"
   ]
  },
  {
   "cell_type": "markdown",
   "metadata": {
    "slideshow": {
     "slide_type": "slide"
    }
   },
   "source": [
    "Interview Question: What is your greatest strength?\n",
    "-------"
   ]
  },
  {
   "cell_type": "markdown",
   "metadata": {
    "slideshow": {
     "slide_type": "slide"
    }
   },
   "source": [
    "<center><img src=\"https://pbs.twimg.com/media/CxpvbeUXAAQYBsc.jpg\" width=\"700\"/></center>\n",
    "\n",
    "Please take this seriously!"
   ]
  },
  {
   "cell_type": "markdown",
   "metadata": {
    "format": "column",
    "slideshow": {
     "slide_type": "slide"
    }
   },
   "source": [
    "Interview Question: What is your greatest strength?\n",
    "-------\n",
    "\n",
    "__List 3__:\n",
    "\n",
    "1. Independent \n",
    "2. Curious\n",
    "3. Continous Improvement\n",
    "\n",
    "__Tell a story__: \n",
    "\n",
    "> In my last role as a faculty at a startup (__Context__), I was in charge of developing new curriculum (__Action__). ... That content was adopted across the organization and students were able get a job in that domain (__Result__)."
   ]
  },
  {
   "cell_type": "markdown",
   "metadata": {
    "format": "column",
    "slideshow": {
     "slide_type": "slide"
    }
   },
   "source": [
    "Interview Question: What is your greatest weakness?\n",
    "-------"
   ]
  },
  {
   "cell_type": "markdown",
   "metadata": {
    "slideshow": {
     "slide_type": "fragment"
    }
   },
   "source": [
    "List a single\n",
    "\n",
    "Typically, I say one of my strengths. For example, being independent I have to buy into way I'm working on. I need to understand the vision and purpose behind projects.\n"
   ]
  },
  {
   "cell_type": "markdown",
   "metadata": {
    "slideshow": {
     "slide_type": "slide"
    }
   },
   "source": [
    "Interview Question: What is your greatest weakness?\n",
    "-------\n",
    "\n",
    "Be simple: “I can be overly critical of myself and my work.”\n",
    "\n",
    "Do not apologize.\n",
    "\n",
    "Explain how you are self-aware, mitigate it, and (possible) turn it into a strength:\n",
    "> “But because I am at times very critical of my work, I have also realized how meticulous I am. This proves that I will be very attentive and careful toward the work that I do, so you can be sure that there will be little correction needed.”"
   ]
  },
  {
   "cell_type": "markdown",
   "metadata": {
    "slideshow": {
     "slide_type": "slide"
    }
   },
   "source": [
    "__DO NOT SAY__: \"My biggest weakness is I work too hard.\"\n",
    "-------\n",
    "<center><img src=\"http://blog.agcareers.com/career-cultivation/wp-content/uploads/2015/06/05f6646d4d1cfe87d2d63eab32f89fdb32d7f005a0671afdfb04277faf4553a8.jpg\" width=\"700\"/></center>"
   ]
  },
  {
   "cell_type": "markdown",
   "metadata": {
    "slideshow": {
     "slide_type": "slide"
    }
   },
   "source": [
    "Interview Question (Again): What is your greatest weakness?\n",
    "-------"
   ]
  },
  {
   "cell_type": "markdown",
   "metadata": {
    "slideshow": {
     "slide_type": "slide"
    }
   },
   "source": [
    "Binary Search Tree (BST)\n",
    "-----\n",
    "<center><img src=\"https://imgs.xkcd.com/comics/tree.png\" width=\"700\"/></center>"
   ]
  },
  {
   "cell_type": "markdown",
   "metadata": {
    "slideshow": {
     "slide_type": "slide"
    }
   },
   "source": [
    "Interview Question: What is a binary search tree (BST)? Why is it important?\n",
    "------\n",
    "\n",
    "Think, Pair, Share"
   ]
  },
  {
   "cell_type": "markdown",
   "metadata": {
    "slideshow": {
     "slide_type": "fragment"
    }
   },
   "source": [
    "A BST is a type of binary tree, each node as at most two nodes, where each node has a associated value. All values are larger in a node’s left subtree and smaller in the  node’s right subtree."
   ]
  },
  {
   "cell_type": "markdown",
   "metadata": {
    "slideshow": {
     "slide_type": "fragment"
    }
   },
   "source": [
    "<center><img src=\"images/Binary_search_tree.svg\" width=\"400\"/></center>"
   ]
  },
  {
   "cell_type": "markdown",
   "metadata": {
    "slideshow": {
     "slide_type": "slide"
    }
   },
   "source": [
    "BST are a generally acceptable data structure for space and time performance\n",
    "------\n",
    "\n",
    "__Time complexity__:\n",
    "\n",
    "O(n) worst case  \n",
    "O(nlog(n)) average case\n",
    "\n",
    "__Space complexity__:\n",
    "\n",
    "O(n)\n",
    "\n",
    "http://bigocheatsheet.com/"
   ]
  },
  {
   "cell_type": "markdown",
   "metadata": {
    "slideshow": {
     "slide_type": "slide"
    }
   },
   "source": [
    "Interview Problem: Write the insert method for BST\n",
    "====\n",
    "\n",
    "Independently at your own computer.\n",
    "\n",
    "Try it without help."
   ]
  },
  {
   "cell_type": "code",
   "execution_count": 92,
   "metadata": {
    "slideshow": {
     "slide_type": "skip"
    }
   },
   "outputs": [],
   "source": [
    "reset -fs"
   ]
  },
  {
   "cell_type": "code",
   "execution_count": 93,
   "metadata": {
    "slideshow": {
     "slide_type": "skip"
    }
   },
   "outputs": [
    {
     "name": "stdout",
     "output_type": "stream",
     "text": [
      "The autoreload extension is already loaded. To reload it, use:\n",
      "  %reload_ext autoreload\n"
     ]
    }
   ],
   "source": [
    "%load_ext autoreload\n",
    "%autoreload 2"
   ]
  },
  {
   "cell_type": "code",
   "execution_count": 94,
   "metadata": {
    "slideshow": {
     "slide_type": "skip"
    }
   },
   "outputs": [],
   "source": [
    "from bst import *"
   ]
  },
  {
   "cell_type": "code",
   "execution_count": 95,
   "metadata": {
    "slideshow": {
     "slide_type": "slide"
    }
   },
   "outputs": [],
   "source": [
    "tree = BinarySearchTree()\n",
    "for n in [8, 3, 10, 14, 6, 13, 7, 4, 1]:\n",
    "    tree.insert(n)"
   ]
  },
  {
   "cell_type": "code",
   "execution_count": 96,
   "metadata": {
    "slideshow": {
     "slide_type": "slide"
    }
   },
   "outputs": [
    {
     "name": "stdout",
     "output_type": "stream",
     "text": [
      "8\n",
      "3\n",
      "10\n",
      "1\n"
     ]
    }
   ],
   "source": [
    "print(tree.root.data)\n",
    "print(tree.root.left.data)\n",
    "print(tree.root.right.data)\n",
    "print(tree.root.left.left.data)"
   ]
  },
  {
   "cell_type": "code",
   "execution_count": 97,
   "metadata": {
    "slideshow": {
     "slide_type": "slide"
    }
   },
   "outputs": [],
   "source": [
    "class Node:\n",
    "    \"\"\"Base Binary Tree Data Structure\"\"\"\n",
    "    def __init__(self, data=None, left=None, right=None):\n",
    "        self.data = data\n",
    "        self.left = left\n",
    "        self.right = right"
   ]
  },
  {
   "cell_type": "markdown",
   "metadata": {
    "slideshow": {
     "slide_type": "fragment"
    }
   },
   "source": [
    "<center><img src=\"images/binary_tree.png\" width=\"400\"/></center>"
   ]
  },
  {
   "cell_type": "code",
   "execution_count": 98,
   "metadata": {
    "slideshow": {
     "slide_type": "slide"
    }
   },
   "outputs": [],
   "source": [
    "class BinarySearchTree:\n",
    "    \"\"\"https://en.wikipedia.org/wiki/Binary_search_tree\"\"\"\n",
    "    def __init__(self, root=None):\n",
    "        self.root = root\n",
    "\n",
    "    def insert(self, item):\n",
    "        \"\"\"Insert an element into the bst.\"\"\"\n",
    "        if self.root is None:\n",
    "            self.root = Node(item)\n",
    "        else:\n",
    "            new_node = self.root\n",
    "            while new_node is not None:\n",
    "                if item < nd.data:\n",
    "                    if new_node.left is None:\n",
    "                        new_node.left = Node(item)\n",
    "                        return\n",
    "                    else:\n",
    "                        new_node = nd.left\n",
    "                else: # Assume greater than or equal\n",
    "                    if new_node.right is None:\n",
    "                        new_node.right = Node(item)\n",
    "                        return\n",
    "                    else:\n",
    "                        new_node = nd.right"
   ]
  },
  {
   "cell_type": "code",
   "execution_count": 99,
   "metadata": {
    "slideshow": {
     "slide_type": "slide"
    }
   },
   "outputs": [],
   "source": [
    "def test_bst():\n",
    "    # Setup\n",
    "    tree = BinarySearchTree()\n",
    "    for n in [8, 3, 10, 14, 6, 13, 7, 4, 1]:\n",
    "        tree.insert(n)\n",
    "\n",
    "    # Test inserts    \n",
    "    assert tree.root.data == 8\n",
    "    assert tree.root.left.data == 3\n",
    "    assert tree.root.right.data == 10\n",
    "    assert tree.root.left.left.data == 1\n",
    "\n",
    "test_bst()"
   ]
  },
  {
   "cell_type": "markdown",
   "metadata": {
    "slideshow": {
     "slide_type": "slide"
    }
   },
   "source": [
    "Interview Problem: Write the search function for BST\n",
    "====\n",
    "\n",
    "In small groups at the whiteboard."
   ]
  },
  {
   "cell_type": "markdown",
   "metadata": {
    "slideshow": {
     "slide_type": "slide"
    }
   },
   "source": [
    "There are two ways:\n",
    "\n",
    "- Interative\n",
    "- Recusive"
   ]
  },
  {
   "cell_type": "code",
   "execution_count": 100,
   "metadata": {
    "slideshow": {
     "slide_type": "slide"
    }
   },
   "outputs": [],
   "source": [
    "class BinarySearchTree(BinarySearchTree):\n",
    "    \n",
    "    def search_iterative(self, needle):\n",
    "        \"\"\"Iteratively search an element.\"\"\"\n",
    "        if self.root is None:\n",
    "            return False\n",
    "        else:\n",
    "            current_node = self.root\n",
    "            while current_node is not None:\n",
    "                if current_node.data == needle:\n",
    "                    return True\n",
    "                elif current_node.data < needle:\n",
    "                    current_node = current_node.right\n",
    "                else:\n",
    "                    current_node = current_node.left\n",
    "            return False\n",
    "\n",
    "    def search_recursive(self, node, needle):\n",
    "        \"\"\"Recursively search an element.\"\"\"\n",
    "        if node is None:\n",
    "            return False\n",
    "        else:\n",
    "            if node.data == needle:\n",
    "                return True\n",
    "            elif node.data < needle:\n",
    "                return self.search_recursive(node.right, needle)\n",
    "            else:\n",
    "                return self.search_recursive(node.left, needle)"
   ]
  },
  {
   "cell_type": "code",
   "execution_count": 101,
   "metadata": {
    "slideshow": {
     "slide_type": "slide"
    }
   },
   "outputs": [],
   "source": [
    "def test_bst():\n",
    "    # Setup\n",
    "    tree = BinarySearchTree()\n",
    "    for n in [8, 3, 10, 14, 6, 13, 7, 4, 1]:\n",
    "        tree.insert(n)\n",
    "\n",
    "    # Test inserts    \n",
    "    assert tree.root.data == 8\n",
    "    assert tree.root.left.data == 3\n",
    "    assert tree.root.right.data == 10\n",
    "    assert tree.root.left.left.data == 1\n",
    "\n",
    "    # Test search\n",
    "    assert tree.search_iterative(1)\n",
    "    assert tree.search_recursive(tree.root, 1)\n",
    "    assert not tree.search_iterative(-1)\n",
    "    assert not tree.search_recursive(tree.root, -1) \n",
    "    assert not tree.search_iterative(2)\n",
    "    assert not tree.search_recursive(tree.root, 2)\n",
    "    \n",
    "test_bst()"
   ]
  },
  {
   "cell_type": "markdown",
   "metadata": {
    "slideshow": {
     "slide_type": "slide"
    }
   },
   "source": [
    "Break\n",
    "====="
   ]
  },
  {
   "cell_type": "markdown",
   "metadata": {
    "slideshow": {
     "slide_type": "slide"
    }
   },
   "source": [
    "Given this job description, share a personal story about how you are qualified…\n",
    "------\n",
    "\n",
    "[bit.ly/jd-CS486](http://bit.ly/jd-CS486)\n",
    "\n",
    "__Software Engineer Intern - Sony Interactive Entertainment__\n",
    "\n",
    "We are looking for a full stack developer intern who loves developing highly scalable applications, testing and participating in understanding how code is deployed to production \n",
    "\n",
    "- Experience or understanding of with web development technologies such as React, Angular, CSS3, Bootstrap, HTML5, -JavaScript, JQuery. \n",
    "\n",
    "- Develop effective, reusable and maintainable automated functional test framework and test cases to achieve maximum code coverage. \n",
    "\n",
    "- Collaborate with developers to define and develop reusable test frameworks \n",
    "\n",
    "- Build tools that make our Development teams more productive"
   ]
  },
  {
   "cell_type": "markdown",
   "metadata": {
    "slideshow": {
     "slide_type": "slide"
    }
   },
   "source": [
    "Interview Problem: How you verify whether a binary tree is a binary search tree?\n",
    "===="
   ]
  },
  {
   "cell_type": "code",
   "execution_count": 102,
   "metadata": {
    "slideshow": {
     "slide_type": "slide"
    }
   },
   "outputs": [],
   "source": [
    "from bst import *\n",
    "\n",
    "tree = BinarySearchTree()\n",
    "for n in [8, 3, 10, 14, 6, 13, 7, 4, 1]:\n",
    "    tree.insert(n)"
   ]
  },
  {
   "cell_type": "code",
   "execution_count": 103,
   "metadata": {
    "format": "column",
    "slideshow": {
     "slide_type": "fragment"
    }
   },
   "outputs": [
    {
     "data": {
      "text/plain": [
       "[1, 3, 4, 6, 7, 8, 10, 13, 14]"
      ]
     },
     "execution_count": 103,
     "metadata": {},
     "output_type": "execute_result"
    }
   ],
   "source": [
    "tree.inorder(tree.root)"
   ]
  },
  {
   "cell_type": "code",
   "execution_count": 104,
   "metadata": {
    "slideshow": {
     "slide_type": "fragment"
    }
   },
   "outputs": [],
   "source": [
    "inorder_results = tree.inorder(tree.root)\n",
    "assert  inorder_results == sorted(inorder_results)"
   ]
  },
  {
   "cell_type": "markdown",
   "metadata": {
    "slideshow": {
     "slide_type": "slide"
    }
   },
   "source": [
    "Interview Problem: Write the inorder traversal method for BST\n",
    "====\n",
    "\n",
    "Independently with a piece of paper 😱\n",
    "\n",
    "Assume you already have a BST class that does everything else."
   ]
  },
  {
   "cell_type": "markdown",
   "metadata": {
    "slideshow": {
     "slide_type": "fragment"
    }
   },
   "source": [
    "__HINT__: It is more a logic problem than a coding problem"
   ]
  },
  {
   "cell_type": "code",
   "execution_count": 105,
   "metadata": {
    "slideshow": {
     "slide_type": "slide"
    }
   },
   "outputs": [],
   "source": [
    "# Print the answers\n",
    "class BinarySearchTree(BinarySearchTree):\n",
    "    def inorder(self, node):\n",
    "        \"\"\"Inorder traversal; Data should be sorted from low to high\"\"\"\n",
    "        if node:\n",
    "            self.inorder(node.left) # If possible, always traverse left\n",
    "            print(node.data)\n",
    "            self.inorder(node.right) # Otherwise traverse right"
   ]
  },
  {
   "cell_type": "code",
   "execution_count": 106,
   "metadata": {
    "slideshow": {
     "slide_type": "fragment"
    }
   },
   "outputs": [],
   "source": [
    "# Return a list for testing\n",
    "class BinarySearchTree(BinarySearchTree):         \n",
    "    def inorder(self, node):\n",
    "        \"\"\"Inorder traversal; Data should be sorted from low to high\"\"\"\n",
    "        return (self.inorder(node.left)    # If possible, always traverse left\n",
    "                + [node.data]              # If data, put it in list\n",
    "                + self.inorder(node.right) # Otherwise traverse right\n",
    "                ) if node else []"
   ]
  },
  {
   "cell_type": "markdown",
   "metadata": {
    "slideshow": {
     "slide_type": "slide"
    }
   },
   "source": [
    "On Your Own\n",
    "-----\n",
    "\n",
    "- Remove element (tricky)\n",
    "- Get size (easy)\n",
    "- Find maximum depth\n",
    "- Find maximum width\n",
    "- Find number of leafs\n",
    "- Get minimum value\n",
    "- Get maximum value\n",
    "- Find k-smallest value\n",
    "- So many more…"
   ]
  },
  {
   "cell_type": "markdown",
   "metadata": {
    "slideshow": {
     "slide_type": "slide"
    }
   },
   "source": [
    "My take on BST - https://gist.github.com/brianspiering/fdc63c8c0372aa867e331a2049a8073b"
   ]
  },
  {
   "cell_type": "markdown",
   "metadata": {
    "slideshow": {
     "slide_type": "slide"
    }
   },
   "source": [
    "Course Check-in\n",
    "------"
   ]
  },
  {
   "cell_type": "markdown",
   "metadata": {
    "slideshow": {
     "slide_type": "fragment"
    }
   },
   "source": [
    "What do you want more of?\n",
    "\n",
    "What do you less of?\n",
    "\n",
    "How can I better serve you?"
   ]
  },
  {
   "cell_type": "markdown",
   "metadata": {
    "slideshow": {
     "slide_type": "slide"
    }
   },
   "source": [
    "For 2018-03-20 🏖 😎 ☀️\n",
    "-----\n",
    "\n",
    "- Review dynamic programming (this is the _one weird trick_ that works at interviews)\n",
    "- Be prepared to answer an easier question in non-preferred language. If use a compiled language, pick a dynamic language. Vice versa."
   ]
  },
  {
   "cell_type": "markdown",
   "metadata": {
    "slideshow": {
     "slide_type": "slide"
    }
   },
   "source": [
    "<br>\n",
    "<br> \n",
    "<br>\n",
    "\n",
    "----"
   ]
  }
 ],
 "metadata": {
  "celltoolbar": "Slideshow",
  "kernelspec": {
   "display_name": "Python 3",
   "language": "python",
   "name": "python3"
  },
  "language_info": {
   "codemirror_mode": {
    "name": "ipython",
    "version": 3
   },
   "file_extension": ".py",
   "mimetype": "text/x-python",
   "name": "python",
   "nbconvert_exporter": "python",
   "pygments_lexer": "ipython3",
   "version": "3.6.4"
  }
 },
 "nbformat": 4,
 "nbformat_minor": 2
}
