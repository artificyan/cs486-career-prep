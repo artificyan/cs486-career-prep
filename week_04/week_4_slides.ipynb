{
 "cells": [
  {
   "cell_type": "markdown",
   "metadata": {
    "slideshow": {
     "slide_type": "slide"
    }
   },
   "source": [
    "CareerPrep Week 4\n",
    "------\n",
    "\n",
    "<center><img src=\"https://imgs.xkcd.com/comics/sierpinski_valentine.png\" width=\"700\"/></center>"
   ]
  },
  {
   "cell_type": "markdown",
   "metadata": {
    "slideshow": {
     "slide_type": "slide"
    }
   },
   "source": [
    "LinkedIn\n",
    "-------\n",
    "\n",
    "Just needs to exist (then get your profile to 100%)"
   ]
  },
  {
   "cell_type": "markdown",
   "metadata": {
    "slideshow": {
     "slide_type": "slide"
    }
   },
   "source": [
    "Here’s what makes your LinkedIn profile an all-star profile:\n",
    "----\n",
    "\n",
    "- Professional profile picture\n",
    "- Location and industry\n",
    "- Experience (a current position with a brief description)\n",
    "- Skills (at least three)\n",
    "- Education\n",
    "- At least 50 connections\n",
    "- I'm not sure about recommendations"
   ]
  },
  {
   "cell_type": "markdown",
   "metadata": {
    "slideshow": {
     "slide_type": "slide"
    }
   },
   "source": [
    "Keywords are really important\n",
    "------\n",
    "\n",
    "They can be aspirational:\n",
    "\n",
    "> … working on Bitcoin / cryptocurrency sideproject\n",
    "\n",
    "> … learning about Docker and containers"
   ]
  },
  {
   "cell_type": "markdown",
   "metadata": {
    "slideshow": {
     "slide_type": "slide"
    }
   },
   "source": [
    "Later in your career LinkedIn is very important. \n",
    "\n",
    "__97%__ of recruiters use LinkedIn  \n",
    "Only 36% of job seekers are active on LinkedIn"
   ]
  },
  {
   "cell_type": "markdown",
   "metadata": {
    "slideshow": {
     "slide_type": "fragment"
    }
   },
   "source": [
    "https://www.codementor.io/learn-programming/9-linkedin-profile-tips-for-junior-developers"
   ]
  },
  {
   "cell_type": "markdown",
   "metadata": {
    "slideshow": {
     "slide_type": "slide"
    }
   },
   "source": [
    "Problem:\n",
    "-----\n",
    "\n",
    "Given an array of integers, every element appears twice except for one. Find that single one.\n",
    "\n",
    "`nums = [1, 1, 3, 2, 3, 1, 1] # 2 is unpaired`\n",
    "\n",
    "In Big O terms, what is the runtime complexity?  "
   ]
  },
  {
   "cell_type": "markdown",
   "metadata": {
    "slideshow": {
     "slide_type": "slide"
    }
   },
   "source": [
    "https://leetcode.com/problems/single-number/solution/"
   ]
  },
  {
   "cell_type": "code",
   "execution_count": 24,
   "metadata": {
    "slideshow": {
     "slide_type": "fragment"
    }
   },
   "outputs": [],
   "source": [
    "# Bitwise\n",
    "from functools import reduce\n",
    "\n",
    "nums = [1, 1, 3, 2, 3, 1, 1]\n",
    "\n",
    "assert reduce(lambda x, y: x ^ y, nums) == 2 # Use exclusive or\n",
    "\n",
    "# Time complexity : O(n). We only iterate through nums, so the time complexity is the number of elements in nums.\n",
    "# Space complexity : O(1) Happens in place"
   ]
  },
  {
   "cell_type": "code",
   "execution_count": 25,
   "metadata": {
    "slideshow": {
     "slide_type": "slide"
    }
   },
   "outputs": [
    {
     "name": "stdout",
     "output_type": "stream",
     "text": [
      "####################\n",
      "Current:\n",
      "decimal result: 1 \t item: 1\n",
      " binary result: 01 \t item: 01\n",
      "\n",
      "Updated:\n",
      "decimal updated result: 0\n",
      " binary updated result: 00\n",
      "\n",
      "####################\n",
      "Current:\n",
      "decimal result: 0 \t item: 3\n",
      " binary result: 00 \t item: 11\n",
      "\n",
      "Updated:\n",
      "decimal updated result: 3\n",
      " binary updated result: 11\n",
      "\n",
      "####################\n",
      "Current:\n",
      "decimal result: 3 \t item: 2\n",
      " binary result: 11 \t item: 10\n",
      "\n",
      "Updated:\n",
      "decimal updated result: 1\n",
      " binary updated result: 01\n",
      "\n",
      "####################\n",
      "Current:\n",
      "decimal result: 1 \t item: 3\n",
      " binary result: 01 \t item: 11\n",
      "\n",
      "Updated:\n",
      "decimal updated result: 2\n",
      " binary updated result: 10\n",
      "\n",
      "####################\n",
      "Current:\n",
      "decimal result: 2 \t item: 1\n",
      " binary result: 10 \t item: 01\n",
      "\n",
      "Updated:\n",
      "decimal updated result: 3\n",
      " binary updated result: 11\n",
      "\n",
      "####################\n",
      "Current:\n",
      "decimal result: 3 \t item: 1\n",
      " binary result: 11 \t item: 01\n",
      "\n",
      "Updated:\n",
      "decimal updated result: 2\n",
      " binary updated result: 10\n",
      "\n",
      "Final result: 2\n"
     ]
    }
   ],
   "source": [
    "result = 1\n",
    "\n",
    "for i, num in enumerate(nums[1:]):\n",
    "    print('#'*20)\n",
    "    print('Current:')\n",
    "    print(f\"decimal result: {result} \\t item: {num}\")\n",
    "    print(f\" binary result: {result:02b} \\t item: {num:02b}\", end='\\n\\n')\n",
    "    \n",
    "    print('Updated:')\n",
    "    result = result ^ num\n",
    "    print(f\"decimal updated result: {result}\")\n",
    "    print(f\" binary updated result: {result:02b}\", end='\\n\\n')\n",
    "\n",
    "    \n",
    "print(f\"Final result: {result}\")"
   ]
  },
  {
   "cell_type": "markdown",
   "metadata": {
    "slideshow": {
     "slide_type": "slide"
    }
   },
   "source": [
    "What is cheaper than hardware?\n",
    "------"
   ]
  },
  {
   "cell_type": "markdown",
   "metadata": {
    "slideshow": {
     "slide_type": "fragment"
    }
   },
   "source": [
    "<center><img src=\"http://picsmine.com/wp-content/uploads/2017/03/Math-Meme-Math.jpg\" width=\"400\"/></center>"
   ]
  },
  {
   "cell_type": "markdown",
   "metadata": {
    "slideshow": {
     "slide_type": "slide"
    }
   },
   "source": [
    "Space Complexity: The Final Frontier\n",
    "-----\n",
    "\n",
    "Space complexity is a measure of the amount of __working storage__ an algorithm needs.\n",
    "\n",
    "Talking about memory cost (or \"space complexity\") is very similar to talking about time cost. \n",
    "\n",
    "Sometimes we want to optimize for using less memory instead of (or in addition to) using less time. \n",
    "\n",
    "We simply look at the total size (relative to the size of the input) of any new variables we're using.\n",
    "\n",
    "Usually when we talk about space complexity, we're talking about additional space. __Don't include space taken up by the inputs__"
   ]
  },
  {
   "cell_type": "markdown",
   "metadata": {
    "slideshow": {
     "slide_type": "skip"
    }
   },
   "source": [
    "https://www.interviewcake.com/article/java/big-o-notation-time-and-space-complexity"
   ]
  },
  {
   "cell_type": "markdown",
   "metadata": {
    "slideshow": {
     "slide_type": "slide"
    }
   },
   "source": [
    "Space–time Tradeoff\n",
    "----\n",
    "\n",
    "<center><img src=\"http://www.cs.bu.edu/fac/lnd/toc/z/img241.gif\" width=\"700\"/></center>"
   ]
  },
  {
   "cell_type": "markdown",
   "metadata": {
    "slideshow": {
     "slide_type": "slide"
    }
   },
   "source": [
    "<center><img src=\"https://image.slidesharecdn.com/kamat-singh-june27-425pm-room210c-v2-130710105851-phpapp01/95/compression-options-in-hadoop-a-tale-of-tradeoffs-8-638.jpg?cb=1373454050\" width=\"700\"/></center>"
   ]
  },
  {
   "cell_type": "markdown",
   "metadata": {
    "slideshow": {
     "slide_type": "slide"
    }
   },
   "source": [
    "Check for understanding\n",
    "-----\n",
    "\n",
    "In Big O terms, what is the space complexity of a hash map for all characters?"
   ]
  },
  {
   "cell_type": "markdown",
   "metadata": {
    "slideshow": {
     "slide_type": "slide"
    }
   },
   "source": [
    "128 or 256 ASCII characters\n",
    "------\n",
    "\n",
    "<center><img src=\"http://durofy.com/wp-content/uploads/2012/10/1000px-Ascii_Table-nocolor.svg_.png\" width=\"700\"/></center>\n",
    "\n",
    "[Read more here](https://stackoverflow.com/questions/27679137/what-does-256-means-for-128-unique-characters-in-ascii-table)"
   ]
  },
  {
   "cell_type": "markdown",
   "metadata": {
    "slideshow": {
     "slide_type": "slide"
    }
   },
   "source": [
    "Unicode allows for 17 planes, each of 65,536 possible characters (or 'code points'). This gives a total of 1,114,112 possible characters."
   ]
  },
  {
   "cell_type": "markdown",
   "metadata": {
    "slideshow": {
     "slide_type": "slide"
    }
   },
   "source": [
    "Check for understanding\n",
    "-----\n",
    "\n",
    "In Big O terms, what is the space complexity of merge sort?\n",
    "\n",
    "In Big O terms, what is the space complexity of bubble sort?"
   ]
  },
  {
   "cell_type": "markdown",
   "metadata": {
    "slideshow": {
     "slide_type": "slide"
    }
   },
   "source": [
    "Merge sort: Space complexity is O(n) (YIKES!)\n",
    "------\n",
    "\n",
    "<center><img src=\"https://upload.wikimedia.org/wikipedia/commons/thumb/e/e6/Merge_sort_algorithm_diagram.svg/300px-Merge_sort_algorithm_diagram.svg.png\" width=\"700\"/></center>"
   ]
  },
  {
   "cell_type": "markdown",
   "metadata": {
    "slideshow": {
     "slide_type": "slide"
    }
   },
   "source": [
    "Bubble Sort: Space Complexity is O(1) (AWESOME!!)\n",
    "------\n",
    "\n",
    "<center><img src=\"http://interactivepython.org/runestone/static/pythonds/_images/bubblepass.png\" width=\"700\"/></center>"
   ]
  },
  {
   "cell_type": "markdown",
   "metadata": {
    "slideshow": {
     "slide_type": "slide"
    }
   },
   "source": [
    "Probabilistic Data Structures (PSD)\n",
    "-----\n",
    "\n",
    "<center><img src=\"https://highlyscalable.files.wordpress.com/2012/04/probabilistic-sizes.png\" width=\"700\"/></center>\n",
    "\n",
    "Reduce size by a lot, trade-off is some small about of errors.\n",
    "\n",
    "PSD are narrow and brittle. CS still needs general purpose PSD."
   ]
  },
  {
   "cell_type": "markdown",
   "metadata": {
    "slideshow": {
     "slide_type": "slide"
    }
   },
   "source": [
    "Bit Twiddling For Fun & Profit\n",
    "-----\n",
    "\n",
    "<center><img src=\"https://memegenerator.net/img/instances/500x/66860588/fancy-bitwise-operators-are-fancy.jpg\" width=\"400\"/></center>\n",
    "\n",
    "Bitwise operates at the level of individual bits. \n",
    "\n",
    "Thus, it is a fast, simple action directly supported by the processor and often the best solution for many problems."
   ]
  },
  {
   "cell_type": "markdown",
   "metadata": {
    "slideshow": {
     "slide_type": "slide"
    }
   },
   "source": [
    "Interview Problem\n",
    "------\n",
    "\n",
    "Check if a number is power of two.\n",
    "\n",
    "In Big O terms, what is the runtime complexity?  \n",
    "In Big O terms, what is the space complexity?  "
   ]
  },
  {
   "cell_type": "markdown",
   "metadata": {
    "slideshow": {
     "slide_type": "slide"
    }
   },
   "source": [
    "Solve this in small groups at the white board.\n",
    "\n",
    "1 person is the interviewee.  \n",
    "1 person is the interviewer.  \n",
    "All other take notes.\n",
    "\n",
    "What is the Big O for your solution? Both time and space..."
   ]
  },
  {
   "cell_type": "code",
   "execution_count": 26,
   "metadata": {
    "slideshow": {
     "slide_type": "skip"
    }
   },
   "outputs": [],
   "source": [
    "# Hidden from students but let's all slides run\n",
    "def is_power2(num):\n",
    "    \"Check if num is a power of two\"\n",
    "    return ((num & (num - 1)) == 0) and (num > 0)"
   ]
  },
  {
   "cell_type": "code",
   "execution_count": 27,
   "metadata": {
    "format": "row",
    "slideshow": {
     "slide_type": "slide"
    }
   },
   "outputs": [],
   "source": [
    "# Tests\n",
    "assert is_power2(1)\n",
    "assert is_power2(2)\n",
    "assert is_power2(4)\n",
    "assert is_power2(64)\n",
    "assert is_power2(128)\n",
    "assert is_power2(9_223_372_036_854_775_808)\n",
    "\n",
    "assert not is_power2(0)\n",
    "assert not is_power2(3)\n",
    "assert not is_power2(65)"
   ]
  },
  {
   "cell_type": "code",
   "execution_count": 28,
   "metadata": {
    "slideshow": {
     "slide_type": "slide"
    }
   },
   "outputs": [],
   "source": [
    "def is_power2(num):\n",
    "    \"Check if num is a power of two\"\n",
    "    return ((num & (num - 1)) == 0) and (num > 0)"
   ]
  },
  {
   "cell_type": "code",
   "execution_count": 29,
   "metadata": {
    "slideshow": {
     "slide_type": "slide"
    }
   },
   "outputs": [
    {
     "name": "stdout",
     "output_type": "stream",
     "text": [
      "4 in binary: 100\n"
     ]
    }
   ],
   "source": [
    "num = 4 # A power of two\n",
    "print(f'{num} in binary: {num:03b}')"
   ]
  },
  {
   "cell_type": "code",
   "execution_count": 30,
   "metadata": {
    "slideshow": {
     "slide_type": "fragment"
    }
   },
   "outputs": [
    {
     "name": "stdout",
     "output_type": "stream",
     "text": [
      "3 in binary: 011\n"
     ]
    }
   ],
   "source": [
    "# Any power of 2 minus 1 is all ones:\n",
    "print(f'{num - 1 } in binary: {num - 1:03b}')"
   ]
  },
  {
   "cell_type": "code",
   "execution_count": 31,
   "metadata": {
    "slideshow": {
     "slide_type": "fragment"
    }
   },
   "outputs": [
    {
     "name": "stdout",
     "output_type": "stream",
     "text": [
      "4 & 3 = 000\n"
     ]
    }
   ],
   "source": [
    "print(f'{num} & {num-1} = {num&num-1:03b}')"
   ]
  },
  {
   "cell_type": "markdown",
   "metadata": {
    "slideshow": {
     "slide_type": "slide"
    }
   },
   "source": [
    "Big O for bitwise check\n",
    "-----\n",
    "\n",
    "Time: O(1)  \n",
    "Space: O(1)    "
   ]
  },
  {
   "cell_type": "code",
   "execution_count": 32,
   "metadata": {
    "slideshow": {
     "slide_type": "fragment"
    }
   },
   "outputs": [
    {
     "name": "stdout",
     "output_type": "stream",
     "text": [
      "272 ns ± 18.1 ns per loop (mean ± std. dev. of 7 runs, 1000000 loops each)\n"
     ]
    }
   ],
   "source": [
    "%timeit is_power2(num=2)"
   ]
  },
  {
   "cell_type": "code",
   "execution_count": 33,
   "metadata": {
    "slideshow": {
     "slide_type": "fragment"
    }
   },
   "outputs": [
    {
     "name": "stdout",
     "output_type": "stream",
     "text": [
      "356 ns ± 33.2 ns per loop (mean ± std. dev. of 7 runs, 1000000 loops each)\n"
     ]
    }
   ],
   "source": [
    "%timeit is_power2(num=9_223_372_036_854_775_808)"
   ]
  },
  {
   "cell_type": "markdown",
   "metadata": {
    "format": "row",
    "slideshow": {
     "slide_type": "slide"
    }
   },
   "source": [
    "Break\n",
    "-----"
   ]
  },
  {
   "cell_type": "markdown",
   "metadata": {
    "slideshow": {
     "slide_type": "slide"
    }
   },
   "source": [
    "Whiteboard Mechanics\n",
    "------\n",
    "\n",
    "- Practice on an actual whiteboard!\n",
    "- Act like code editor - simple monospace font.\n",
    "- Use the whole board. Starting in upper left.\n",
    "- Think out loud and ask for feedback (\"Does this sound like a reasonable plan?\")\n",
    "- Go slow! It may take up to an hour to solve.\n",
    "- Don't quit (make the interviewer tap out)"
   ]
  },
  {
   "cell_type": "markdown",
   "metadata": {
    "slideshow": {
     "slide_type": "slide"
    }
   },
   "source": [
    "Interview Tips\n",
    "-----\n",
    "\n",
    "<center><img src=\"https://cdn-images-1.medium.com/max/800/1*vbQ8FGNAlEC4jnxg8Z7Ceg.png\" width=\"700\"/></center>\n",
    "\n",
    "- Read the question twice\n",
    "- Write down examples - I/O\n",
    "- Brainstorm solutions"
   ]
  },
  {
   "cell_type": "markdown",
   "metadata": {
    "slideshow": {
     "slide_type": "slide"
    }
   },
   "source": [
    "Things for next time\n",
    "-----\n",
    "\n",
    "1. Save The Date: The JOB FEST Career & Internship Festival on Friday, March 2, 2018\n",
    "1. Create a GitHub profile and 1 repo. Share by Friday 5pm via Slack \n",
    "    - Best GitHub profile wins a sticker 💥\n",
    "1. Prepare for yourself for mock negotiation.\n",
    "    - What are non-negotiatable for you (salary, location, job title)?\n",
    "    - What are negotiatable for you?\n",
    "1. OOP"
   ]
  },
  {
   "cell_type": "markdown",
   "metadata": {
    "slideshow": {
     "slide_type": "slide"
    }
   },
   "source": [
    "Interview Problem\n",
    "------\n",
    "\n",
    "Easier: Add two numbers without using arithmetic operators\n",
    "\n",
    "Harder: Multiple two numbers without using arithmetic operators\n",
    "\n",
    "In Big O terms, what is the runtime complexity?  \n",
    "In Big O terms, what is the space complexity?  "
   ]
  },
  {
   "cell_type": "code",
   "execution_count": 34,
   "metadata": {
    "slideshow": {
     "slide_type": "slide"
    }
   },
   "outputs": [],
   "source": [
    "def bitwise_add(a:int, b:int)->int:\n",
    " \n",
    "    # Iterate till there is no carry \n",
    "    while (b != 0):\n",
    "     \n",
    "        # Carry now contains common set bits of numbers\n",
    "        carry = a & b\n",
    " \n",
    "        # Sum of bits of numbers where at least one of the bits is not set\n",
    "        a ^= b\n",
    " \n",
    "        # Carry is shifted by one so that adding it to number gives the required sum\n",
    "        b = carry << 1\n",
    "     \n",
    "    return a"
   ]
  },
  {
   "cell_type": "code",
   "execution_count": 35,
   "metadata": {
    "slideshow": {
     "slide_type": "slide"
    }
   },
   "outputs": [],
   "source": [
    "assert bitwise_add(1, 1) == 2\n",
    "assert bitwise_add(101, 209) == 310"
   ]
  },
  {
   "cell_type": "markdown",
   "metadata": {
    "slideshow": {
     "slide_type": "slide"
    }
   },
   "source": [
    "Sum of two bits can be obtained by performing XOR (^) of the two bits. \n",
    "\n",
    "Carry bit can be obtained by performing AND (&) of two bits.\n",
    "\n",
    "If x and y don’t have set bits at same position(s), then bitwise XOR (^) of x and y gives the sum of x and y. To incorporate common set bits also, bitwise AND (&) is used. Bitwise AND of x and y gives all carry bits. We calculate (x & y) << 1 and add it to x ^ y to get the required result.\n",
    "\n",
    "https://www.geeksforgeeks.org/add-two-numbers-without-using-arithmetic-operators/"
   ]
  },
  {
   "cell_type": "code",
   "execution_count": 36,
   "metadata": {
    "slideshow": {
     "slide_type": "slide"
    }
   },
   "outputs": [],
   "source": [
    "def bitwise_multiply(a:int, b:int)->int:\n",
    "    result = 0\n",
    "    while (b != 0):\n",
    "        if (b & 1): # if b is odd, add a to result\n",
    "            result += a \n",
    "        a <<= 1 # Left Shift\n",
    "        b >>= 1 # Right Shift\n",
    "\n",
    "    return result"
   ]
  },
  {
   "cell_type": "code",
   "execution_count": 37,
   "metadata": {
    "slideshow": {
     "slide_type": "slide"
    }
   },
   "outputs": [],
   "source": [
    "assert bitwise_multiply(1, 1) == 1\n",
    "assert bitwise_multiply(2, 3) == 6\n",
    "assert bitwise_multiply(2, 3) == 6\n",
    "assert bitwise_multiply(7153513518915, 15138436453) == 108293009821771141008495"
   ]
  },
  {
   "cell_type": "markdown",
   "metadata": {
    "slideshow": {
     "slide_type": "slide"
    }
   },
   "source": [
    "https://www.geeksforgeeks.org/russian-peasant-multiply-two-numbers-using-bitwise-operators/\n",
    "\n",
    "https://stackoverflow.com/questions/3722004/how-to-perform-multiplication-using-bitwise-operators"
   ]
  },
  {
   "cell_type": "markdown",
   "metadata": {
    "slideshow": {
     "slide_type": "slide"
    }
   },
   "source": [
    "<br>\n",
    "<br> \n",
    "<br>\n",
    "\n",
    "----"
   ]
  }
 ],
 "metadata": {
  "celltoolbar": "Slideshow",
  "kernelspec": {
   "display_name": "Python 3",
   "language": "python",
   "name": "python3"
  },
  "language_info": {
   "codemirror_mode": {
    "name": "ipython",
    "version": 3
   },
   "file_extension": ".py",
   "mimetype": "text/x-python",
   "name": "python",
   "nbconvert_exporter": "python",
   "pygments_lexer": "ipython3",
   "version": "3.6.4"
  }
 },
 "nbformat": 4,
 "nbformat_minor": 2
}
