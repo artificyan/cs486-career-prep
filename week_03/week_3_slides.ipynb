{
 "cells": [
  {
   "cell_type": "markdown",
   "metadata": {
    "slideshow": {
     "slide_type": "slide"
    }
   },
   "source": [
    "Discussion\n",
    "------\n",
    "\n",
    "<center><img src=\"https://imgs.xkcd.com/comics/algorithms.png\" width=\"700\"/></center>\n",
    "\n",
    "__Interview Question__: What is the most complex system or algorithm you have worked on?"
   ]
  },
  {
   "cell_type": "markdown",
   "metadata": {
    "slideshow": {
     "slide_type": "slide"
    }
   },
   "source": [
    "Grace Hopper Celebration\n",
    "------\n",
    "\n",
    "<center><img src=\"https://news.yale.edu/sites/default/files/styles/horizontal_image/public/d6_files/YaleNews_hopper-grace.UNIVAC.102635875-CC_0.jpg?itok=0MWjJzB9\" width=\"700\"/></center>\n",
    "\n",
    "Department Sponsorship – Ask me"
   ]
  },
  {
   "cell_type": "markdown",
   "metadata": {
    "slideshow": {
     "slide_type": "slide"
    }
   },
   "source": [
    "Resume Review\n",
    "-----\n",
    "<center><img src=\"images/ch.jpg\" width=\"400\"/></center>"
   ]
  },
  {
   "cell_type": "markdown",
   "metadata": {
    "slideshow": {
     "slide_type": "slide"
    }
   },
   "source": [
    "Resume Elements\n",
    "-----\n",
    "\n",
    "1. No typos. Use 2 spell checkers. Brian suggests Word Doc & Grammarly\n",
    "2. An Engaging Summary\n",
    "3. Proof of Expertise \n",
    "4. Relevant Experience\n",
    "5. Education Highlights"
   ]
  },
  {
   "cell_type": "markdown",
   "metadata": {
    "slideshow": {
     "slide_type": "slide"
    }
   },
   "source": [
    "> No one has a resume that they are 100% comfortable with, nor does anyone have a life that they are 100% comfortable with.   \n",
    "> \\- Jay Baruchel  \n"
   ]
  },
  {
   "cell_type": "markdown",
   "metadata": {
    "format": "row",
    "slideshow": {
     "slide_type": "slide"
    }
   },
   "source": [
    "Resume Review Part 1: Résumé sanity check\n",
    "------\n",
    "\n",
    "Find Pairs\n",
    "\n",
    "10-30 seconds to skim \n",
    "\n",
    "5 minutes of feedback\n",
    "\n",
    "It is important that you not spend more than 10-30\n",
    "seconds skimming. A recruiter only spends 6 seconds!"
   ]
  },
  {
   "cell_type": "markdown",
   "metadata": {
    "slideshow": {
     "slide_type": "slide"
    }
   },
   "source": [
    "Resume Review Part 1: Résumé close\n",
    "------\n",
    "\n",
    "Find new Pairs\n",
    "\n",
    "10 minutes of close reading\n",
    "\n",
    "10 minutes exchanging feedback\n",
    "\n",
    "Ask me questions"
   ]
  },
  {
   "cell_type": "markdown",
   "metadata": {
    "slideshow": {
     "slide_type": "slide"
    }
   },
   "source": [
    "Observations?\n",
    "-----\n",
    "\n",
    "What works?\n",
    "\n",
    "What does __not)) work?"
   ]
  },
  {
   "cell_type": "markdown",
   "metadata": {
    "slideshow": {
     "slide_type": "slide"
    }
   },
   "source": [
    "Big O Notation Survival Guide\n",
    "------\n",
    "\n",
    "Big-O measures how well an operation will “scale” when you increase the amount of “things” it operates on.\n",
    "\n"
   ]
  },
  {
   "cell_type": "markdown",
   "metadata": {
    "slideshow": {
     "slide_type": "slide"
    }
   },
   "source": [
    "What are the levels of Big O?\n",
    "-----"
   ]
  },
  {
   "cell_type": "markdown",
   "metadata": {
    "slideshow": {
     "slide_type": "fragment"
    }
   },
   "source": [
    "1. Constant O(1)\n",
    "2. Sublinear O(log n)\n",
    "3. Linear O(n)\n",
    "4. Superlinear O(n log n)\n",
    "5. Polynomial O(n^c) usually c = 2\n",
    "6. Exponential O(c^n) usually c = 2\n",
    "7. Factorial O(n!) "
   ]
  },
  {
   "cell_type": "markdown",
   "metadata": {
    "slideshow": {
     "slide_type": "slide"
    }
   },
   "source": [
    "<center><img src=\"images/big_o.png\" width=\"700\"/></center>"
   ]
  },
  {
   "cell_type": "markdown",
   "metadata": {
    "slideshow": {
     "slide_type": "slide"
    }
   },
   "source": [
    "<center><img src=\"https://www.daveperrett.com/images/articles/2010-12-07-comp-sci-101-big-o-notation/Time_Complexity.png\" width=\"700\"/></center>"
   ]
  },
  {
   "cell_type": "markdown",
   "metadata": {
    "slideshow": {
     "slide_type": "skip"
    }
   },
   "source": [
    "https://www.daveperrett.com/articles/2010/12/07/comp-sci-101-big-o-notation/"
   ]
  },
  {
   "cell_type": "markdown",
   "metadata": {
    "slideshow": {
     "slide_type": "slide"
    }
   },
   "source": [
    "Check for understanding\n",
    "-----\n",
    "\n",
    "What is the Big O for the following:\n",
    "\n",
    "Determining if a number is even or odd."
   ]
  },
  {
   "cell_type": "markdown",
   "metadata": {
    "slideshow": {
     "slide_type": "fragment"
    }
   },
   "source": [
    "O(1)\n",
    "\n"
   ]
  },
  {
   "cell_type": "code",
   "execution_count": 18,
   "metadata": {
    "slideshow": {
     "slide_type": "slide"
    }
   },
   "outputs": [
    {
     "data": {
      "text/plain": [
       "True"
      ]
     },
     "execution_count": 18,
     "metadata": {},
     "output_type": "execute_result"
    }
   ],
   "source": [
    "# How to do the check?\n",
    "\n",
    "x = 100\n",
    "x % 2 == 0 # Modulus\n",
    "x & 1 == 0 # Last bit is 1"
   ]
  },
  {
   "cell_type": "code",
   "execution_count": 32,
   "metadata": {
    "slideshow": {
     "slide_type": "fragment"
    }
   },
   "outputs": [
    {
     "name": "stdout",
     "output_type": "stream",
     "text": [
      "79.6 ms ± 2.37 ms per loop (mean ± std. dev. of 7 runs, 10 loops each)\n"
     ]
    }
   ],
   "source": [
    "%%timeit \n",
    "for x in range(1, 1_000_000):\n",
    "     x % 2 == 0 "
   ]
  },
  {
   "cell_type": "code",
   "execution_count": 34,
   "metadata": {
    "slideshow": {
     "slide_type": "fragment"
    }
   },
   "outputs": [
    {
     "name": "stdout",
     "output_type": "stream",
     "text": [
      "102 ms ± 5.46 ms per loop (mean ± std. dev. of 7 runs, 10 loops each)\n"
     ]
    }
   ],
   "source": [
    "%%timeit \n",
    "for x in range(1, 1_000_000):\n",
    "     x & 1 == 0"
   ]
  },
  {
   "cell_type": "markdown",
   "metadata": {
    "slideshow": {
     "slide_type": "fragment"
    }
   },
   "source": [
    "Typically, Pythonic is faster"
   ]
  },
  {
   "cell_type": "markdown",
   "metadata": {
    "slideshow": {
     "slide_type": "slide"
    }
   },
   "source": [
    "```python\n",
    "# What is the Big O of this code?\n",
    "\n",
    "def bubble_sort(list)\n",
    "    for i in 0..(list.size - 1)\n",
    "        for j in 0..(list.size - i - 2)\n",
    "              if (list[j + 1] <=> list[j]) == -1\n",
    "                list[j], list[j + 1] = list[j + 1], list[j]\n",
    "            end\n",
    "        end\n",
    "    end\n",
    "    return list\n",
    "end\n",
    "```"
   ]
  },
  {
   "cell_type": "markdown",
   "metadata": {
    "slideshow": {
     "slide_type": "fragment"
    }
   },
   "source": [
    "О(n^2 ), where n is the number of items being sorted. \n",
    "\n",
    "This is because every element in the list is being compared to every other element. "
   ]
  },
  {
   "cell_type": "markdown",
   "metadata": {
    "slideshow": {
     "slide_type": "slide"
    }
   },
   "source": [
    "Big O of binary search?"
   ]
  },
  {
   "cell_type": "markdown",
   "metadata": {
    "slideshow": {
     "slide_type": "fragment"
    }
   },
   "source": [
    "O(log n)"
   ]
  },
  {
   "cell_type": "markdown",
   "metadata": {
    "slideshow": {
     "slide_type": "slide"
    }
   },
   "source": [
    "```python\n",
    "# What is the Big O of this code?\n",
    "\n",
    "def word_occurrence(word, phrase)\n",
    "    result = 0\n",
    "    array  = phrase.split(' ')\n",
    "    for item in array\n",
    "        result += 1 if item.downcase == word.downcase\n",
    "    end\n",
    "    return result\n",
    "end\n",
    "```"
   ]
  },
  {
   "cell_type": "markdown",
   "metadata": {
    "slideshow": {
     "slide_type": "fragment"
    }
   },
   "source": [
    "O(n) - each word in the input phrase is compared to our target word."
   ]
  },
  {
   "cell_type": "markdown",
   "metadata": {
    "slideshow": {
     "slide_type": "slide"
    }
   },
   "source": [
    "What is the Big O of the best sorting algorithm? Which sort is it?"
   ]
  },
  {
   "cell_type": "markdown",
   "metadata": {
    "slideshow": {
     "slide_type": "fragment"
    }
   },
   "source": [
    "O(n log n)\n",
    "\n",
    "heap sort  \n",
    "merge sort  "
   ]
  },
  {
   "cell_type": "markdown",
   "metadata": {
    "slideshow": {
     "slide_type": "slide"
    }
   },
   "source": [
    "8 minute break\n",
    "-----"
   ]
  },
  {
   "cell_type": "markdown",
   "metadata": {
    "slideshow": {
     "slide_type": "slide"
    }
   },
   "source": [
    "Hash Maps: The best trick for interviews\n",
    "-----\n",
    "\n",
    "<center><img src=\"http://s2.quickmeme.com/img/f7/f7f4e4c0f3561c10346594c6bbc240f70b918e262e901c767ea6e6ab3b4ed532.jpg\" width=\"300\"/></center>"
   ]
  },
  {
   "cell_type": "markdown",
   "metadata": {
    "slideshow": {
     "slide_type": "slide"
    }
   },
   "source": [
    "Filter a Set for Matching String Permutations\n",
    "-----\n",
    "\n",
    "Given a needle: 'act'  \n",
    "Return all elements in a haystack that are anagrams: {'cat', 'rat', 'dog', 'act'}  \n",
    "Answer: {'act', 'cat'}  \n",
    "\n",
    "Another neddle: 'cattiness'  \n",
    "Another haystack: {'scantiest', 'scatology', 'taciturn', 'tacitness', 'tacitnest'}  \n",
    "Answer: {'tacitness', 'scantiest'}  "
   ]
  },
  {
   "cell_type": "markdown",
   "metadata": {
    "slideshow": {
     "slide_type": "fragment"
    }
   },
   "source": [
    "Solve this independently with https://coderpad.io\n",
    "\n",
    "What is the Big O for your solution?"
   ]
  },
  {
   "cell_type": "code",
   "execution_count": 21,
   "metadata": {
    "slideshow": {
     "slide_type": "slide"
    }
   },
   "outputs": [],
   "source": [
    "from collections import Counter\n",
    "\n",
    "def find_permutations(needle: str, haystack: set) -> set:\n",
    "    char_count = Counter(string)\n",
    "    return {w for w in words if char_count == Counter(w)}\n",
    "\n",
    "assert find_permutations('act', {'cat', 'rat', 'dog', 'act'}) == {'act', 'cat'}\n",
    "assert find_permutations('cattiness', {'scantiest', 'scatology', 'taciturn', 'tacitness'}) == {'tacitness', 'scantiest'}  "
   ]
  },
  {
   "cell_type": "markdown",
   "metadata": {
    "slideshow": {
     "slide_type": "slide"
    }
   },
   "source": [
    "https://stackoverflow.com/questions/44857962/filter-a-set-for-matching-string-permutations\n",
    "\n",
    "See \"Problem Category\" solution"
   ]
  },
  {
   "cell_type": "markdown",
   "metadata": {
    "slideshow": {
     "slide_type": "slide"
    }
   },
   "source": [
    "FYI - This problem is core to genetic testing.\n",
    "\n",
    "Replace the English alphabet with DNA bases - ATGC\n",
    "\n",
    "Replace the needle with a gene mutation.\n",
    "\n",
    "Replace the haystack with people that may have the mutation."
   ]
  },
  {
   "cell_type": "markdown",
   "metadata": {
    "slideshow": {
     "slide_type": "slide"
    }
   },
   "source": [
    "<center><img src=\"http://www.azquotes.com/picture-quotes/quote-make-it-work-make-it-right-make-it-fast-kent-beck-136-16-22.jpg\" width=\"700\"/></center>"
   ]
  },
  {
   "cell_type": "markdown",
   "metadata": {
    "slideshow": {
     "slide_type": "slide"
    }
   },
   "source": [
    "Word Count: The \"Hello, World!\" of Data Science\n",
    "------\n",
    "\n",
    "Count the number of words in a document"
   ]
  },
  {
   "cell_type": "code",
   "execution_count": 35,
   "metadata": {
    "slideshow": {
     "slide_type": "fragment"
    }
   },
   "outputs": [],
   "source": [
    "s = \"\"\"One Fish, Two Fish, Red Fish, Blue Fish\n",
    "By Dr. Seuss.\n",
    "One fish\n",
    "Two fish\n",
    "Red fish\n",
    "Blue fish.\n",
    "Black fish\n",
    "Blue fish\n",
    "Old fish\n",
    "New fish.\"\"\""
   ]
  },
  {
   "cell_type": "markdown",
   "metadata": {
    "slideshow": {
     "slide_type": "slide"
    }
   },
   "source": [
    "Rules\n",
    "-----\n",
    "\n",
    "- Ignore punctuation\n",
    "- Normalize words"
   ]
  },
  {
   "cell_type": "markdown",
   "metadata": {
    "slideshow": {
     "slide_type": "fragment"
    }
   },
   "source": [
    "Solve this in small groups at the white board.\n",
    "\n",
    "1 person is the interviewee.  \n",
    "1 person is the interviewer.  \n",
    "All other take notes.\n",
    "\n",
    "What is the Big O for your solution?"
   ]
  },
  {
   "cell_type": "markdown",
   "metadata": {
    "slideshow": {
     "slide_type": "slide"
    }
   },
   "source": [
    "__Challenge__: How would extend to counting bigrams (pairs of words)?"
   ]
  },
  {
   "cell_type": "code",
   "execution_count": 23,
   "metadata": {
    "format": "column",
    "scrolled": true,
    "slideshow": {
     "slide_type": "slide"
    }
   },
   "outputs": [
    {
     "data": {
      "text/plain": [
       "Counter({'black': 1,\n",
       "         'blue': 3,\n",
       "         'by': 1,\n",
       "         'dr': 1,\n",
       "         'fish': 12,\n",
       "         'new': 1,\n",
       "         'old': 1,\n",
       "         'one': 2,\n",
       "         'red': 2,\n",
       "         'seuss': 1,\n",
       "         'two': 2})"
      ]
     },
     "execution_count": 23,
     "metadata": {},
     "output_type": "execute_result"
    }
   ],
   "source": [
    "Counter(s.lower()          # Normalize\n",
    "        .replace('.', '')  # Remove punctuation\n",
    "        .replace(',', '')  # Remove punctuation\n",
    "        .replace('\\n', ' ')# Remove line breaks\n",
    "        .split(' '))       # Separate into words"
   ]
  },
  {
   "cell_type": "code",
   "execution_count": 24,
   "metadata": {
    "format": "column",
    "slideshow": {
     "slide_type": "slide"
    }
   },
   "outputs": [
    {
     "data": {
      "text/plain": [
       "['one',\n",
       " 'fish',\n",
       " 'two',\n",
       " 'fish',\n",
       " 'red',\n",
       " 'fish',\n",
       " 'blue',\n",
       " 'fish',\n",
       " 'by',\n",
       " 'dr',\n",
       " 'seuss',\n",
       " 'one',\n",
       " 'fish',\n",
       " 'two',\n",
       " 'fish',\n",
       " 'red',\n",
       " 'fish',\n",
       " 'blue',\n",
       " 'fish',\n",
       " 'black',\n",
       " 'fish',\n",
       " 'blue',\n",
       " 'fish',\n",
       " 'old',\n",
       " 'fish',\n",
       " 'new',\n",
       " 'fish']"
      ]
     },
     "execution_count": 24,
     "metadata": {},
     "output_type": "execute_result"
    }
   ],
   "source": [
    "import re\n",
    "\n",
    "def find_tokens(text):\n",
    "    \"List all the word tokens (consecutive letters) in a text.\"\n",
    "    return re.findall('[a-z]+', text.lower())\n",
    "\n",
    "tokens = find_tokens(s)\n",
    "tokens"
   ]
  },
  {
   "cell_type": "code",
   "execution_count": 25,
   "metadata": {
    "format": "column",
    "slideshow": {
     "slide_type": "slide"
    }
   },
   "outputs": [
    {
     "data": {
      "text/plain": [
       "defaultdict(int,\n",
       "            {'black': 1,\n",
       "             'blue': 3,\n",
       "             'by': 1,\n",
       "             'dr': 1,\n",
       "             'fish': 12,\n",
       "             'new': 1,\n",
       "             'old': 1,\n",
       "             'one': 2,\n",
       "             'red': 2,\n",
       "             'seuss': 1,\n",
       "             'two': 2})"
      ]
     },
     "execution_count": 25,
     "metadata": {},
     "output_type": "execute_result"
    }
   ],
   "source": [
    "from collections import defaultdict\n",
    "\n",
    "wordcount = defaultdict(int)\n",
    "for token in tokens:\n",
    "    wordcount[token] += 1 \n",
    "    \n",
    "wordcount"
   ]
  },
  {
   "cell_type": "code",
   "execution_count": 26,
   "metadata": {
    "format": "column",
    "slideshow": {
     "slide_type": "slide"
    }
   },
   "outputs": [
    {
     "data": {
      "text/plain": [
       "{'black': 1,\n",
       " 'blue': 3,\n",
       " 'by': 1,\n",
       " 'dr': 1,\n",
       " 'fish': 12,\n",
       " 'new': 1,\n",
       " 'old': 1,\n",
       " 'one': 2,\n",
       " 'red': 2,\n",
       " 'seuss': 1,\n",
       " 'two': 2}"
      ]
     },
     "execution_count": 26,
     "metadata": {},
     "output_type": "execute_result"
    }
   ],
   "source": [
    "wordcount = {}\n",
    "for token in tokens:\n",
    "    wordcount[token] = wordcount.get(token, 0) + 1 \n",
    "    \n",
    "wordcount"
   ]
  },
  {
   "cell_type": "code",
   "execution_count": 27,
   "metadata": {
    "format": "column",
    "slideshow": {
     "slide_type": "slide"
    }
   },
   "outputs": [
    {
     "data": {
      "text/plain": [
       "{'black fish': 1,\n",
       " 'blue fish': 3,\n",
       " 'by dr': 1,\n",
       " 'dr seuss': 1,\n",
       " 'fish black': 1,\n",
       " 'fish blue': 3,\n",
       " 'fish by': 1,\n",
       " 'fish new': 1,\n",
       " 'fish old': 1,\n",
       " 'fish red': 2,\n",
       " 'fish two': 2,\n",
       " 'new fish': 1,\n",
       " 'old fish': 1,\n",
       " 'one fish': 1,\n",
       " 'red fish': 2,\n",
       " 'seuss one': 1,\n",
       " 'two fish': 2}"
      ]
     },
     "execution_count": 27,
     "metadata": {},
     "output_type": "execute_result"
    }
   ],
   "source": [
    "tokens = find_tokens(s)\n",
    "n = len(tokens)\n",
    "bigrams_count = {} \n",
    "\n",
    "for i in range(1, n-1):\n",
    "    bigram = tokens[i] + ' ' +tokens[i+1]\n",
    "    bigrams_count[bigram] = bigrams_count.get(bigram, 0) + 1 \n",
    "    \n",
    "bigrams_count"
   ]
  },
  {
   "cell_type": "markdown",
   "metadata": {
    "format": "column",
    "slideshow": {
     "slide_type": "slide"
    }
   },
   "source": [
    "Hash Map Trick\n",
    "-----"
   ]
  },
  {
   "cell_type": "code",
   "execution_count": 12,
   "metadata": {},
   "outputs": [],
   "source": [
    "reset -fs"
   ]
  },
  {
   "cell_type": "code",
   "execution_count": 26,
   "metadata": {
    "format": "column",
    "slideshow": {
     "slide_type": "fragment"
    }
   },
   "outputs": [
    {
     "data": {
      "text/plain": [
       "{0: 'v',\n",
       " 1: 'y',\n",
       " 2: 'e',\n",
       " 3: 'c',\n",
       " 4: 'b',\n",
       " 5: 'g',\n",
       " 6: 's',\n",
       " 7: 'a',\n",
       " 8: 'p',\n",
       " 9: 'l',\n",
       " 10: 'u',\n",
       " 11: 'k',\n",
       " 12: 'w',\n",
       " 13: 'j',\n",
       " 14: 't',\n",
       " 15: 'r',\n",
       " 16: 'f',\n",
       " 17: 'x',\n",
       " 18: 'n',\n",
       " 19: 'q',\n",
       " 20: 'h',\n",
       " 21: 'i',\n",
       " 22: 'o',\n",
       " 23: 'm',\n",
       " 24: 'z',\n",
       " 25: 'd'}"
      ]
     },
     "execution_count": 26,
     "metadata": {},
     "output_type": "execute_result"
    }
   ],
   "source": [
    "# Create a mapping from letters to strings\n",
    "\n",
    "from random import shuffle\n",
    "from string import ascii_lowercase as letters\n",
    "\n",
    "letters = list(letters)\n",
    "shuffle(letters)\n",
    "num2str = dict(enumerate(letters))\n",
    "num2str "
   ]
  },
  {
   "cell_type": "markdown",
   "metadata": {
    "slideshow": {
     "slide_type": "slide"
    }
   },
   "source": [
    "What is the Big O to serach and a specific value, aka a letter, in a hash map?"
   ]
  },
  {
   "cell_type": "markdown",
   "metadata": {
    "slideshow": {
     "slide_type": "fragment"
    }
   },
   "source": [
    "O(n) where n is the number of values in your hash map."
   ]
  },
  {
   "cell_type": "markdown",
   "metadata": {
    "slideshow": {
     "slide_type": "fragment"
    }
   },
   "source": [
    "What is the Big O to find a specific key?"
   ]
  },
  {
   "cell_type": "markdown",
   "metadata": {
    "slideshow": {
     "slide_type": "fragment"
    }
   },
   "source": [
    "O(1) \n",
    "\n",
    "Much better. Make sure your keys are useful!"
   ]
  },
  {
   "cell_type": "code",
   "execution_count": 27,
   "metadata": {
    "format": "column",
    "slideshow": {
     "slide_type": "slide"
    }
   },
   "outputs": [
    {
     "data": {
      "text/plain": [
       "{'a': 7,\n",
       " 'b': 4,\n",
       " 'c': 3,\n",
       " 'd': 25,\n",
       " 'e': 2,\n",
       " 'f': 16,\n",
       " 'g': 5,\n",
       " 'h': 20,\n",
       " 'i': 21,\n",
       " 'j': 13,\n",
       " 'k': 11,\n",
       " 'l': 9,\n",
       " 'm': 23,\n",
       " 'n': 18,\n",
       " 'o': 22,\n",
       " 'p': 8,\n",
       " 'q': 19,\n",
       " 'r': 15,\n",
       " 's': 6,\n",
       " 't': 14,\n",
       " 'u': 10,\n",
       " 'v': 0,\n",
       " 'w': 12,\n",
       " 'x': 17,\n",
       " 'y': 1,\n",
       " 'z': 24}"
      ]
     },
     "execution_count": 27,
     "metadata": {},
     "output_type": "execute_result"
    }
   ],
   "source": [
    "# Flip it\n",
    "str2num = {k:v for v, k in num2str.items()} # Note `k:v` switcheroo\n",
    "str2num"
   ]
  },
  {
   "cell_type": "markdown",
   "metadata": {
    "slideshow": {
     "slide_type": "slide"
    }
   },
   "source": [
    "What about when the values are not unique (1 to many mapping)?\n",
    "-----"
   ]
  },
  {
   "cell_type": "code",
   "execution_count": 30,
   "metadata": {
    "slideshow": {
     "slide_type": "fragment"
    }
   },
   "outputs": [],
   "source": [
    "span2eng = {'vaca': 'cow',\n",
    "            'gratis': 'free',\n",
    "            'libre': 'free'}"
   ]
  },
  {
   "cell_type": "code",
   "execution_count": 31,
   "metadata": {
    "format": "column",
    "slideshow": {
     "slide_type": "slide"
    }
   },
   "outputs": [
    {
     "data": {
      "text/plain": [
       "defaultdict(list, {'cow': ['vaca'], 'free': ['gratis', 'libre']})"
      ]
     },
     "execution_count": 31,
     "metadata": {},
     "output_type": "execute_result"
    }
   ],
   "source": [
    "from collections import defaultdict\n",
    "\n",
    "eng2span = defaultdict(list)\n",
    "for k, v in span2eng.items():\n",
    "    eng2span[v].append(k)\n",
    "    \n",
    "eng2span"
   ]
  },
  {
   "cell_type": "markdown",
   "metadata": {
    "slideshow": {
     "slide_type": "slide"
    }
   },
   "source": [
    "LinkedIn: The Modern Rolodex\n",
    "-----\n",
    "\n",
    "<center><img src=\"https://www.staples-3p.com/s7/is/image/Staples/s0187955_sc7?$splssku$\" width=\"300\"/></center>\n",
    "\n",
    "- A clear professional photo.\n",
    "- Easy to read; Lot's of buzz words and bullet points.\n",
    "- At this point in your career it just needs to exist. Does not need to be perfect."
   ]
  },
  {
   "cell_type": "markdown",
   "metadata": {
    "slideshow": {
     "slide_type": "fragment"
    }
   },
   "source": [
    "For Next Time\n",
    "------\n",
    "\n",
    "1. Share LinkedIn profile in [Slack channel](https://usf-cs-courses.slack.com/messages/C8Z52FNUW) by Friday 5pm\n",
    "\n",
    "3. __Save the date__: JOB FEST Career & Internship Festival will take place on March 2, 2018.\n",
    "    - https://usfca.joinhandshake.com/login\n",
    "    - https://myusf.usfca.edu/STUDENT-LIFE/CAREER-SERVICES\n",
    "4. Bitwise Problems"
   ]
  },
  {
   "cell_type": "markdown",
   "metadata": {
    "slideshow": {
     "slide_type": "slide"
    }
   },
   "source": [
    "__Optional__: [Career Service's LinkedIn Profile Worksop](https://myusf.usfca.edu/STUDENT-LIFE/CAREER-SERVICES) Feb 8\n",
    "\n",
    "<center><img src=\"images/IMG_3151.JPG\" width=\"300\"/></center>"
   ]
  },
  {
   "cell_type": "markdown",
   "metadata": {
    "slideshow": {
     "slide_type": "slide"
    }
   },
   "source": [
    "<br>\n",
    "<br> \n",
    "<br>\n",
    "\n",
    "----"
   ]
  }
 ],
 "metadata": {
  "celltoolbar": "Slideshow",
  "kernelspec": {
   "display_name": "Python 3",
   "language": "python",
   "name": "python3"
  },
  "language_info": {
   "codemirror_mode": {
    "name": "ipython",
    "version": 3
   },
   "file_extension": ".py",
   "mimetype": "text/x-python",
   "name": "python",
   "nbconvert_exporter": "python",
   "pygments_lexer": "ipython3",
   "version": "3.6.4"
  }
 },
 "nbformat": 4,
 "nbformat_minor": 2
}
