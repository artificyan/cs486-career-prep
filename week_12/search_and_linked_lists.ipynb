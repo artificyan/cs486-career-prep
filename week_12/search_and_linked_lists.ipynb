{
 "cells": [
  {
   "cell_type": "markdown",
   "metadata": {
    "slideshow": {
     "slide_type": "slide"
    }
   },
   "source": [
    "Search\n",
    "-------\n",
    "\n",
    "<center><img src=\" https://imgs.xkcd.com/comics/the_search.png\" width=\"700\"/></center>"
   ]
  },
  {
   "cell_type": "markdown",
   "metadata": {
    "slideshow": {
     "slide_type": "slide"
    }
   },
   "source": [
    "Why should we care about search?\n",
    "--------"
   ]
  },
  {
   "cell_type": "markdown",
   "metadata": {
    "slideshow": {
     "slide_type": "fragment"
    }
   },
   "source": [
    "- CS fundamental (a relative of sort)\n",
    "- Search is a function a working engineer really does (in different forms)\n",
    "- Time and space complexity makes a difference\n",
    "- Every company becomes a search company"
   ]
  },
  {
   "cell_type": "markdown",
   "metadata": {
    "slideshow": {
     "slide_type": "slide"
    }
   },
   "source": [
    "What are the ways to search an array?\n",
    "-------"
   ]
  },
  {
   "cell_type": "markdown",
   "metadata": {
    "slideshow": {
     "slide_type": "fragment"
    }
   },
   "source": [
    "- Linear (brute force)\n",
    "- Binary "
   ]
  },
  {
   "cell_type": "markdown",
   "metadata": {
    "format": "row",
    "slideshow": {
     "slide_type": "slide"
    }
   },
   "source": [
    "Interview Problem: Write binary search for an array\n",
    "-------\n",
    "\n",
    "On your own at your computer"
   ]
  },
  {
   "cell_type": "markdown",
   "metadata": {
    "slideshow": {
     "slide_type": "slide"
    }
   },
   "source": [
    "Ask!!! \n",
    "------\n",
    "\n",
    "- What is the data structure?\n",
    "- What is the data type?\n",
    "- Should I return a boolean or index?"
   ]
  },
  {
   "cell_type": "markdown",
   "metadata": {
    "slideshow": {
     "slide_type": "slide"
    }
   },
   "source": [
    "[Let's visualize it...](https://www.cs.usfca.edu/~galles/visualization/Search.html)"
   ]
  },
  {
   "cell_type": "markdown",
   "metadata": {
    "slideshow": {
     "slide_type": "slide"
    }
   },
   "source": [
    "> Although the basic idea of binary search is comparatively straightforward, the details can be surprisingly tricky ...\n",
    "\n",
    "> — Donald Knuth"
   ]
  },
  {
   "cell_type": "code",
   "execution_count": 54,
   "metadata": {
    "slideshow": {
     "slide_type": "slide"
    }
   },
   "outputs": [],
   "source": [
    "def search(data, item):\n",
    "    'Binary search on a sequence'\n",
    "    data = sorted(data) # Make sure it is sorted\n",
    "    left, right = 0, len(data) - 1\n",
    "    \n",
    "    while left <= right:\n",
    "        middle = (left + right) // 2 # XXX: Possible bug\n",
    "        \n",
    "        if item < data[middle]:\n",
    "            right = middle - 1\n",
    "        elif item > data[middle]:\n",
    "            left = middle + 1\n",
    "        else:\n",
    "            return middle # Return index\n",
    "        \n",
    "    return -1 # Item not found"
   ]
  },
  {
   "cell_type": "code",
   "execution_count": 55,
   "metadata": {
    "slideshow": {
     "slide_type": "fragment"
    }
   },
   "outputs": [],
   "source": [
    "assert search([2, 3, 4, 8, 10], 8) == 3\n",
    "assert search([2, 3, 4, 8, 10], 0) == -1\n",
    "assert search(['a', 'm', 'q', 'y', 'z'], 'm') == 1"
   ]
  },
  {
   "cell_type": "markdown",
   "metadata": {
    "slideshow": {
     "slide_type": "slide"
    }
   },
   "source": [
    "Binary Search Bug\n",
    "-------\n",
    "\n",
    "[Nearly all binary searches are broken](https://research.googleblog.com/2006/06/extra-extra-read-all-about-it-nearly.html)"
   ]
  },
  {
   "cell_type": "markdown",
   "metadata": {
    "slideshow": {
     "slide_type": "slide"
    }
   },
   "source": [
    "What is the time and space complexity?\n",
    "-----"
   ]
  },
  {
   "cell_type": "markdown",
   "metadata": {
    "slideshow": {
     "slide_type": "fragment"
    }
   },
   "source": [
    "Time: O(log n)   \n",
    "Space: O(1)"
   ]
  },
  {
   "cell_type": "markdown",
   "metadata": {
    "slideshow": {
     "slide_type": "slide"
    }
   },
   "source": [
    "Bisection Method\n",
    "------\n",
    "\n",
    "Generalized version of binary search"
   ]
  },
  {
   "cell_type": "markdown",
   "metadata": {
    "slideshow": {
     "slide_type": "slide"
    }
   },
   "source": [
    "Interview question: Write a bisection function to find the roots of a polynomial.\n",
    "-----\n",
    "\n",
    "In groups at the whiteboard."
   ]
  },
  {
   "cell_type": "markdown",
   "metadata": {
    "slideshow": {
     "slide_type": "fragment"
    }
   },
   "source": [
    "<center><img src=\"https://upload.wikimedia.org/wikipedia/commons/thumb/8/8c/Bisection_method.svg/250px-Bisection_method.svg.png\" width=\"400\"/></center>\n",
    "The roots of a polynominal function are where f(x) = 0"
   ]
  },
  {
   "cell_type": "markdown",
   "metadata": {
    "slideshow": {
     "slide_type": "fragment"
    }
   },
   "source": [
    "f(x) = -26 + 85x - 91x^2 +44x^3 -8x^4 + x^5\n",
    "\n",
    "[Let's visualize it](http://www.wolframalpha.com/input/?i=-26+%2B+85x+-+91x%5E2+%2B44x%5E3+-8x%5E4+%2B+x%5E5)"
   ]
  },
  {
   "cell_type": "code",
   "execution_count": 56,
   "metadata": {
    "slideshow": {
     "slide_type": "slide"
    }
   },
   "outputs": [],
   "source": [
    "def bisect(function, low, high, n_steps=54):\n",
    "    \"Find root of continuous function where f(low) and f(high) have opposite signs\"\n",
    "\n",
    "    for i in range(n_steps): # Could also be a while loop with some epsilon\n",
    "        midpoint = (low + high) / 2\n",
    "        if samesign(function(low), function(midpoint)):\n",
    "            low = midpoint\n",
    "        else:\n",
    "            high = midpoint\n",
    "\n",
    "    return midpoint"
   ]
  },
  {
   "cell_type": "code",
   "execution_count": 57,
   "metadata": {
    "slideshow": {
     "slide_type": "fragment"
    }
   },
   "outputs": [],
   "source": [
    "def samesign(a, b):\n",
    "        return a * b > 0"
   ]
  },
  {
   "cell_type": "code",
   "execution_count": 58,
   "metadata": {
    "slideshow": {
     "slide_type": "slide"
    }
   },
   "outputs": [],
   "source": [
    "# Some polynomial function\n",
    "# f(x) = -26 + 85x - 91x^2 +44x^3 -8x^4 + x^5\n",
    "def f(x):\n",
    "        return -26 + 85*x - 91*x**2 +44*x**3 -8*x**4 + x**5"
   ]
  },
  {
   "cell_type": "code",
   "execution_count": 59,
   "metadata": {
    "slideshow": {
     "slide_type": "fragment"
    }
   },
   "outputs": [
    {
     "name": "stdout",
     "output_type": "stream",
     "text": [
      " x = 0.56 \n",
      " f(x) = 3.7470027081099033e-16\n"
     ]
    }
   ],
   "source": [
    "x = bisect(f, 0, 1)\n",
    "print(f\" x = {x:.2f} \\n f(x) = {f(x)}\")"
   ]
  },
  {
   "cell_type": "markdown",
   "metadata": {
    "slideshow": {
     "slide_type": "skip"
    }
   },
   "source": [
    "https://stackoverflow.com/questions/14392208/how-to-do-the-bisection-method-in-python"
   ]
  },
  {
   "cell_type": "markdown",
   "metadata": {
    "slideshow": {
     "slide_type": "slide"
    }
   },
   "source": [
    "Feedback on Course\n",
    "------"
   ]
  },
  {
   "cell_type": "markdown",
   "metadata": {
    "slideshow": {
     "slide_type": "fragment"
    }
   },
   "source": [
    "- General...\n",
    "- Next time for undergraduate vs graduate"
   ]
  },
  {
   "cell_type": "markdown",
   "metadata": {
    "slideshow": {
     "slide_type": "slide"
    }
   },
   "source": [
    "Engineering Retro\n",
    "------\n",
    "\n",
    "The big goals (aka, hills to climb) 🏔:\n",
    "\n",
    "\n",
    "Things we did well 😀:\n",
    "\n",
    "\n",
    "Observations 😶:\n",
    "\n",
    "\n",
    "Things we can improve on 😦:\n",
    "\n",
    "\n",
    "Action Items & Owners 👷:\n"
   ]
  },
  {
   "cell_type": "markdown",
   "metadata": {
    "slideshow": {
     "slide_type": "slide"
    }
   },
   "source": [
    "Break\n",
    "------"
   ]
  },
  {
   "cell_type": "markdown",
   "metadata": {
    "slideshow": {
     "slide_type": "slide"
    }
   },
   "source": [
    "Interview Problem: Search a 2D matrix\n",
    "------\n",
    "\n",
    "Write an efficient algorithm that searches for a value in an m x n matrix. \n",
    "\n",
    "This matrix has the following properties:\n",
    "\n",
    "- Integers in each row are sorted in ascending from left to right.\n",
    "- Integers in each column are sorted in ascending from top to bottom."
   ]
  },
  {
   "cell_type": "code",
   "execution_count": 60,
   "metadata": {
    "slideshow": {
     "slide_type": "fragment"
    }
   },
   "outputs": [],
   "source": [
    "matrix = [\n",
    "  [1,   4,  7, 11, 15],\n",
    "  [2,   5,  8, 12, 19],\n",
    "  [3,   6,  9, 16, 22],\n",
    "  [10, 13, 14, 17, 24],\n",
    "  [18, 21, 23, 26, 30]\n",
    "]"
   ]
  },
  {
   "cell_type": "markdown",
   "metadata": {
    "slideshow": {
     "slide_type": "slide"
    }
   },
   "source": [
    "Naive binary search will __not__ work because it requires a total ordering:\n",
    "    \n",
    "```python\n",
    "matrix = [\n",
    "  [1,   3,  5,  7],\n",
    "  [10, 11, 16, 20],\n",
    "  [23, 30, 34, 50]\n",
    "]\n",
    "```"
   ]
  },
  {
   "cell_type": "markdown",
   "metadata": {
    "slideshow": {
     "slide_type": "fragment"
    }
   },
   "source": [
    "How about a _clever_ brute force matrix search?"
   ]
  },
  {
   "cell_type": "markdown",
   "metadata": {
    "slideshow": {
     "slide_type": "skip"
    }
   },
   "source": [
    "https://leetcode.com/problems/search-a-2d-matrix-ii/description/"
   ]
  },
  {
   "cell_type": "code",
   "execution_count": 61,
   "metadata": {
    "slideshow": {
     "slide_type": "slide"
    }
   },
   "outputs": [],
   "source": [
    "def search_matrix(matrix, target):\n",
    "    \"Divide and conquer for structured matrix\"\n",
    "    m = len(matrix)    # Number of rows\n",
    "    n = len(matrix[0]) # Number of columns\n",
    "    r = 0              # Start at the first row \n",
    "    c = n - 1          # Start at the last column\n",
    "    while (r < m) and (c >= 0):\n",
    "        if matrix[r][c] == target:\n",
    "            return r, c\n",
    "        if matrix[r][c] > target: # Too high\n",
    "            c -= 1                # Decrement column\n",
    "        else:                     # Too low \n",
    "            r += 1                # Increment row\n",
    "    return -1"
   ]
  },
  {
   "cell_type": "code",
   "execution_count": 62,
   "metadata": {
    "slideshow": {
     "slide_type": "fragment"
    }
   },
   "outputs": [],
   "source": [
    "assert search_matrix(matrix, 14) == (3, 2)\n",
    "assert search_matrix(matrix, 99) == -1"
   ]
  },
  {
   "cell_type": "markdown",
   "metadata": {
    "slideshow": {
     "slide_type": "skip"
    }
   },
   "source": [
    "https://leetcode.com/problems/search-a-2d-matrix-ii/discuss/66139/6-9-lines-C++Python-Solutions-with-Explanations"
   ]
  },
  {
   "cell_type": "markdown",
   "metadata": {
    "slideshow": {
     "slide_type": "slide"
    }
   },
   "source": [
    "Solution caveats\n",
    "-----\n",
    "\n",
    "- Simple but not optimal (acceptable for an interview)\n",
    "- Could a far more complex binary search tracking both row and column"
   ]
  },
  {
   "cell_type": "markdown",
   "metadata": {
    "slideshow": {
     "slide_type": "slide"
    }
   },
   "source": [
    "Interview Problem: Reverse Linked List\n",
    "------\n",
    "\n",
    "1) Reverse a singly linked list.\n",
    "\n",
    "    Given: 1->2->3->4->5->NULL\n",
    "\n",
    "    Return: 5->4->3->2->1->NULL\n",
    "\n",
    "----\n",
    "\n",
    "2) Given a linked list, remove the n-th node from the end of list and return its head.\n",
    "\n",
    "\n",
    "    Given: 1->2->3->4->5 and n = 2\n",
    "\n",
    "    Return: 1->2->3->5"
   ]
  },
  {
   "cell_type": "markdown",
   "metadata": {
    "slideshow": {
     "slide_type": "skip"
    }
   },
   "source": [
    "https://leetcode.com/problems/reverse-linked-list/\n",
    "\n",
    "https://leetcode.com/problems/remove-nth-node-from-end-of-list/description/"
   ]
  },
  {
   "cell_type": "code",
   "execution_count": 69,
   "metadata": {
    "slideshow": {
     "slide_type": "slide"
    }
   },
   "outputs": [],
   "source": [
    "class Node:\n",
    "    \"Singly linked list\"\n",
    "    def __init__(self, value, next_node=None):\n",
    "        self.value = value\n",
    "        self.next_node = next_node"
   ]
  },
  {
   "cell_type": "code",
   "execution_count": 70,
   "metadata": {
    "slideshow": {
     "slide_type": "fragment"
    }
   },
   "outputs": [],
   "source": [
    "def traverse(n):\n",
    "    \"Print the value of each node following links\"\n",
    "    next_node = n.next_node\n",
    "    print(n.value)\n",
    "    if next_node is not None:\n",
    "        traverse(next_node)"
   ]
  },
  {
   "cell_type": "code",
   "execution_count": 71,
   "metadata": {
    "slideshow": {
     "slide_type": "slide"
    }
   },
   "outputs": [
    {
     "name": "stdout",
     "output_type": "stream",
     "text": [
      "1\n",
      "2\n",
      "3\n",
      "4\n",
      "5\n"
     ]
    }
   ],
   "source": [
    "# Make a linked list from back-to-front\n",
    "n4 = Node(5, None) \n",
    "n3 = Node(4, n4)\n",
    "n2 = Node(3, n3)\n",
    "n1 = Node(2, n2)\n",
    "n0 = Node(1, n1)\n",
    "\n",
    "traverse(n0)"
   ]
  },
  {
   "cell_type": "code",
   "execution_count": 66,
   "metadata": {
    "slideshow": {
     "slide_type": "slide"
    }
   },
   "outputs": [
    {
     "name": "stdout",
     "output_type": "stream",
     "text": [
      "5\n",
      "4\n",
      "3\n",
      "2\n",
      "1\n"
     ]
    }
   ],
   "source": [
    "def reverse_iteratively(head):\n",
    "    \"Iteratively\"\n",
    "    last = None\n",
    "    current = head\n",
    "\n",
    "    while current is not None:\n",
    "        new_next_node = current.next_node\n",
    "        current.next_node = last \n",
    "        last = current\n",
    "        current = new_next_node\n",
    "\n",
    "    return last\n",
    "\n",
    "reversed_list = reverse_iteratively(n0)\n",
    "traverse(reversed_list)"
   ]
  },
  {
   "cell_type": "code",
   "execution_count": 67,
   "metadata": {
    "slideshow": {
     "slide_type": "slide"
    }
   },
   "outputs": [
    {
     "name": "stdout",
     "output_type": "stream",
     "text": [
      "1\n",
      "2\n",
      "3\n",
      "4\n",
      "5\n"
     ]
    }
   ],
   "source": [
    "def reverse_recrusively(node, last):\n",
    "    \"Recursively\"\n",
    "    if node is None:\n",
    "        return last\n",
    "    new_next_node = node.next_node\n",
    "    node.next_node = last\n",
    "    return reverse_recrusively(new_next_node, node)\n",
    "\n",
    "# Reverse it back\n",
    "reversed_list = reverse_recrusively(n4, None) \n",
    "traverse(reversed_list)"
   ]
  },
  {
   "cell_type": "markdown",
   "metadata": {
    "slideshow": {
     "slide_type": "skip"
    }
   },
   "source": [
    "https://leetcode.com/problems/remove-nth-node-from-end-of-list/discuss/8802/3-short-Python-solutions"
   ]
  },
  {
   "cell_type": "code",
   "execution_count": 73,
   "metadata": {
    "slideshow": {
     "slide_type": "slide"
    }
   },
   "outputs": [
    {
     "name": "stdout",
     "output_type": "stream",
     "text": [
      "1\n",
      "2\n",
      "5\n"
     ]
    }
   ],
   "source": [
    "def remove_nth_from_end(head, n):\n",
    "        # Define 2 pointers, fast one and slow one\n",
    "        fast = slow = head\n",
    "\n",
    "        # Put the fast pointer ahead\n",
    "        for _ in range(n):\n",
    "            fast = fast.next_node\n",
    "            \n",
    "        # If we try to remove head    \n",
    "        if not fast:\n",
    "            return head.next_node\n",
    "        \n",
    "        # Move pointers\n",
    "        while fast.next_node:\n",
    "            fast = fast.next_node\n",
    "            slow = slow.next_node\n",
    "        \n",
    "        # Update\n",
    "        slow.next_node = slow.next_node.next_node\n",
    "        \n",
    "        return head\n",
    "    \n",
    "    \n",
    "updated_list = remove_nth_from_end(n0, n=2)\n",
    "traverse(updated_list)"
   ]
  },
  {
   "cell_type": "markdown",
   "metadata": {
    "slideshow": {
     "slide_type": "slide"
    }
   },
   "source": [
    "For Next Time\n",
    "-------\n",
    "\n",
    "Last Class / \"Final exam\"\n",
    "\n",
    "Bring all materials for review:\n",
    "\n",
    "- Resume\n",
    "- Links to online profiles\n",
    "\n",
    "Be prepared for complete mock interviews"
   ]
  },
  {
   "cell_type": "markdown",
   "metadata": {
    "slideshow": {
     "slide_type": "slide"
    }
   },
   "source": [
    "<br>\n",
    "<br> \n",
    "<br>\n",
    "\n",
    "----"
   ]
  }
 ],
 "metadata": {
  "celltoolbar": "Slideshow",
  "kernelspec": {
   "display_name": "Python 3",
   "language": "python",
   "name": "python3"
  },
  "language_info": {
   "codemirror_mode": {
    "name": "ipython",
    "version": 3
   },
   "file_extension": ".py",
   "mimetype": "text/x-python",
   "name": "python",
   "nbconvert_exporter": "python",
   "pygments_lexer": "ipython3",
   "version": "3.6.4"
  }
 },
 "nbformat": 4,
 "nbformat_minor": 2
}
