{
 "cells": [
  {
   "cell_type": "markdown",
   "metadata": {
    "slideshow": {
     "slide_type": "slide"
    }
   },
   "source": [
    "Interview Problem: Build Minesweeper\n",
    "------"
   ]
  },
  {
   "cell_type": "markdown",
   "metadata": {
    "slideshow": {
     "slide_type": "slide"
    }
   },
   "source": [
    "<center><img src=\"images/b62.png\" width=\"700\"/></center>\n",
    "\n",
    "http://minesweeperonline.com/"
   ]
  },
  {
   "cell_type": "markdown",
   "metadata": {
    "slideshow": {
     "slide_type": "slide"
    }
   },
   "source": [
    "How do you play Minesweeper?\n",
    "------\n",
    "\n",
    "Minesweeper is a game where the objective is correctly identify the location of all mines in a given grid. \n",
    "\n",
    "You are given a uniform grid of gray squares in the beginning of the game. \n",
    "\n",
    "Each square contains either a mine or an empty square. \n",
    "\n",
    "Empty squares have a number indicating the count of mines in the adjacent squares. \n",
    "\n",
    "Empty squares can have counts from zero (no adjacent mines) up to 8 (all adjacent squares are mines)."
   ]
  },
  {
   "cell_type": "markdown",
   "metadata": {
    "slideshow": {
     "slide_type": "skip"
    }
   },
   "source": [
    "https://techdevguide.withgoogle.com/resources/coding-question-minesweeper/\n",
    "\n",
    "https://www.geeksforgeeks.org/cpp-implementation-minesweeper-game/"
   ]
  },
  {
   "cell_type": "markdown",
   "metadata": {
    "slideshow": {
     "slide_type": "slide"
    }
   },
   "source": [
    "What are the design elements?\n",
    "----------"
   ]
  },
  {
   "cell_type": "markdown",
   "metadata": {
    "slideshow": {
     "slide_type": "fragment"
    }
   },
   "source": [
    "- Board\n",
    "- Mines\n",
    "- Current state of board\n",
    "- Based on action, update board\n",
    "- Scoring\n",
    "- End game"
   ]
  },
  {
   "cell_type": "markdown",
   "metadata": {
    "slideshow": {
     "slide_type": "slide"
    }
   },
   "source": [
    "What user stories do you want to support?\n",
    "------"
   ]
  },
  {
   "cell_type": "markdown",
   "metadata": {
    "slideshow": {
     "slide_type": "fragment"
    }
   },
   "source": [
    "As a Minesweeper player, I would like to:\n",
    "\n",
    "- start the game with a blank board\n",
    "- pick a square to reveal\n",
    "- __mark a potential mine with a flag__\n",
    "- get an updated board\n",
    "- either win or reveal the entire board\n",
    "- play again"
   ]
  },
  {
   "cell_type": "markdown",
   "metadata": {
    "slideshow": {
     "slide_type": "slide"
    }
   },
   "source": [
    "What functions do you need?\n",
    "-------\n",
    "\n",
    "- Primary functions\n",
    "    - playgame / main function\n",
    "    - parseinput\n",
    "    - getnumbers (Separate actions from display, return vs print)\n",
    "    - showcells "
   ]
  },
  {
   "cell_type": "markdown",
   "metadata": {
    "slideshow": {
     "slide_type": "slide"
    }
   },
   "source": [
    "What functions do you need?\n",
    "-------\n",
    "\n",
    "- Helper functions\n",
    "    - setupgrid\n",
    "    - showgrid\n",
    "    - getrandomcell\n",
    "    - getmines\n",
    "    - getneighbors"
   ]
  },
  {
   "cell_type": "markdown",
   "metadata": {
    "format": "row",
    "slideshow": {
     "slide_type": "slide"
    }
   },
   "source": [
    "Given that you are not a designer, how would you represent it?\n",
    "-------"
   ]
  },
  {
   "cell_type": "markdown",
   "metadata": {
    "slideshow": {
     "slide_type": "fragment"
    }
   },
   "source": [
    "```\n",
    " a   b   c   d   e   f   g   h   i   \n",
    "   -------------------------------------\n",
    " 1 | 0 | 0 | 0 | 0 | 0 | 1 |   |   |   |\n",
    "   -------------------------------------\n",
    " 2 | 1 | 1 | 1 | 1 | 2 | 2 |   |   |   |\n",
    "   -------------------------------------\n",
    " 3 |   |   |   |   |   |   |   |   |   |\n",
    "   -------------------------------------\n",
    " 4 |   |   |   |   |   |   |   |   |   |\n",
    "   -------------------------------------\n",
    " 5 |   |   |   |   |   |   |   |   |   |\n",
    "   -------------------------------------\n",
    " 6 |   |   |   |   |   |   |   |   |   |\n",
    "   -------------------------------------\n",
    " 7 |   |   |   |   |   |   |   |   |   |\n",
    "   -------------------------------------\n",
    " 8 |   |   |   |   |   |   |   |   |   |\n",
    "   -------------------------------------\n",
    " 9 |   |   |   |   |   |   |   |   |   |\n",
    "   -------------------------------------\n",
    "```"
   ]
  },
  {
   "cell_type": "code",
   "execution_count": 1,
   "metadata": {
    "slideshow": {
     "slide_type": "slide"
    }
   },
   "outputs": [
    {
     "name": "stdout",
     "output_type": "stream",
     "text": [
      "     a   b   c   d   e   f   g   h   i   \n",
      "   -------------------------------------\n",
      " 1 |   |   |   |   |   |   |   |   |   |\n",
      "   -------------------------------------\n",
      " 2 |   |   |   |   |   |   |   |   |   |\n",
      "   -------------------------------------\n",
      " 3 |   |   |   |   |   |   |   |   |   |\n",
      "   -------------------------------------\n",
      " 4 |   |   |   |   |   |   |   |   |   |\n",
      "   -------------------------------------\n",
      " 5 |   |   |   |   |   |   |   |   |   |\n",
      "   -------------------------------------\n",
      " 6 |   |   |   |   |   |   |   |   |   |\n",
      "   -------------------------------------\n",
      " 7 |   |   |   |   |   |   |   |   |   |\n",
      "   -------------------------------------\n",
      " 8 |   |   |   |   |   |   |   |   |   |\n",
      "   -------------------------------------\n",
      " 9 |   |   |   |   |   |   |   |   |   |\n",
      "   -------------------------------------\n",
      "\n",
      "Type the column followed by the row (eg. a5). To put or remove a flag, add 'f' to the cell (eg. a5f). Type 'help' to show this message again.\n",
      "\n",
      "Enter the cell (10 mines left): a1\n",
      "\n",
      "\n",
      "\n",
      "     a   b   c   d   e   f   g   h   i   \n",
      "   -------------------------------------\n",
      " 1 | 0 | 0 | 0 | 0 | 0 | 1 |   |   |   |\n",
      "   -------------------------------------\n",
      " 2 | 1 | 1 | 1 | 1 | 2 | 2 |   |   |   |\n",
      "   -------------------------------------\n",
      " 3 |   |   |   |   |   |   |   |   |   |\n",
      "   -------------------------------------\n",
      " 4 |   |   |   |   |   |   |   |   |   |\n",
      "   -------------------------------------\n",
      " 5 |   |   |   |   |   |   |   |   |   |\n",
      "   -------------------------------------\n",
      " 6 |   |   |   |   |   |   |   |   |   |\n",
      "   -------------------------------------\n",
      " 7 |   |   |   |   |   |   |   |   |   |\n",
      "   -------------------------------------\n",
      " 8 |   |   |   |   |   |   |   |   |   |\n",
      "   -------------------------------------\n",
      " 9 |   |   |   |   |   |   |   |   |   |\n",
      "   -------------------------------------\n",
      "\n",
      "\n",
      "Enter the cell (10 mines left): g1\n",
      "\n",
      "\n",
      "\n",
      "     a   b   c   d   e   f   g   h   i   \n",
      "   -------------------------------------\n",
      " 1 | 0 | 0 | 0 | 0 | 0 | 1 | 1 |   |   |\n",
      "   -------------------------------------\n",
      " 2 | 1 | 1 | 1 | 1 | 2 | 2 |   |   |   |\n",
      "   -------------------------------------\n",
      " 3 |   |   |   |   |   |   |   |   |   |\n",
      "   -------------------------------------\n",
      " 4 |   |   |   |   |   |   |   |   |   |\n",
      "   -------------------------------------\n",
      " 5 |   |   |   |   |   |   |   |   |   |\n",
      "   -------------------------------------\n",
      " 6 |   |   |   |   |   |   |   |   |   |\n",
      "   -------------------------------------\n",
      " 7 |   |   |   |   |   |   |   |   |   |\n",
      "   -------------------------------------\n",
      " 8 |   |   |   |   |   |   |   |   |   |\n",
      "   -------------------------------------\n",
      " 9 |   |   |   |   |   |   |   |   |   |\n",
      "   -------------------------------------\n",
      "\n",
      "\n",
      "Enter the cell (10 mines left): 1\n",
      "     a   b   c   d   e   f   g   h   i   \n",
      "   -------------------------------------\n",
      " 1 | 0 | 0 | 0 | 0 | 0 | 1 | 1 |   |   |\n",
      "   -------------------------------------\n",
      " 2 | 1 | 1 | 1 | 1 | 2 | 2 |   |   |   |\n",
      "   -------------------------------------\n",
      " 3 |   |   |   |   |   |   |   |   |   |\n",
      "   -------------------------------------\n",
      " 4 |   |   |   |   |   |   |   |   |   |\n",
      "   -------------------------------------\n",
      " 5 |   |   |   |   |   |   |   |   |   |\n",
      "   -------------------------------------\n",
      " 6 |   |   |   |   |   |   |   |   |   |\n",
      "   -------------------------------------\n",
      " 7 |   |   |   |   |   |   |   |   |   |\n",
      "   -------------------------------------\n",
      " 8 |   |   |   |   |   |   |   |   |   |\n",
      "   -------------------------------------\n",
      " 9 |   |   |   |   |   |   |   |   |   |\n",
      "   -------------------------------------\n",
      "\n",
      "Invalid cell. Type the column followed by the row (eg. a5). To put or remove a flag, add 'f' to the cell (eg. a5f).\n",
      "\n",
      "Enter the cell (10 mines left): \n",
      "     a   b   c   d   e   f   g   h   i   \n",
      "   -------------------------------------\n",
      " 1 | 0 | 0 | 0 | 0 | 0 | 1 | 1 |   |   |\n",
      "   -------------------------------------\n",
      " 2 | 1 | 1 | 1 | 1 | 2 | 2 |   |   |   |\n",
      "   -------------------------------------\n",
      " 3 |   |   |   |   |   |   |   |   |   |\n",
      "   -------------------------------------\n",
      " 4 |   |   |   |   |   |   |   |   |   |\n",
      "   -------------------------------------\n",
      " 5 |   |   |   |   |   |   |   |   |   |\n",
      "   -------------------------------------\n",
      " 6 |   |   |   |   |   |   |   |   |   |\n",
      "   -------------------------------------\n",
      " 7 |   |   |   |   |   |   |   |   |   |\n",
      "   -------------------------------------\n",
      " 8 |   |   |   |   |   |   |   |   |   |\n",
      "   -------------------------------------\n",
      " 9 |   |   |   |   |   |   |   |   |   |\n",
      "   -------------------------------------\n",
      "\n",
      "Invalid cell. Type the column followed by the row (eg. a5). To put or remove a flag, add 'f' to the cell (eg. a5f).\n",
      "\n"
     ]
    },
    {
     "ename": "KeyboardInterrupt",
     "evalue": "",
     "output_type": "error",
     "traceback": [
      "\u001b[0;31m---------------------------------------------------------------------------\u001b[0m",
      "\u001b[0;31mKeyboardInterrupt\u001b[0m                         Traceback (most recent call last)",
      "\u001b[0;32m~/anaconda3/envs/prep/lib/python3.6/site-packages/ipykernel/kernelbase.py\u001b[0m in \u001b[0;36m_input_request\u001b[0;34m(self, prompt, ident, parent, password)\u001b[0m\n\u001b[1;32m    728\u001b[0m             \u001b[0;32mtry\u001b[0m\u001b[0;34m:\u001b[0m\u001b[0;34m\u001b[0m\u001b[0m\n\u001b[0;32m--> 729\u001b[0;31m                 \u001b[0mident\u001b[0m\u001b[0;34m,\u001b[0m \u001b[0mreply\u001b[0m \u001b[0;34m=\u001b[0m \u001b[0mself\u001b[0m\u001b[0;34m.\u001b[0m\u001b[0msession\u001b[0m\u001b[0;34m.\u001b[0m\u001b[0mrecv\u001b[0m\u001b[0;34m(\u001b[0m\u001b[0mself\u001b[0m\u001b[0;34m.\u001b[0m\u001b[0mstdin_socket\u001b[0m\u001b[0;34m,\u001b[0m \u001b[0;36m0\u001b[0m\u001b[0;34m)\u001b[0m\u001b[0;34m\u001b[0m\u001b[0m\n\u001b[0m\u001b[1;32m    730\u001b[0m             \u001b[0;32mexcept\u001b[0m \u001b[0mException\u001b[0m\u001b[0;34m:\u001b[0m\u001b[0;34m\u001b[0m\u001b[0m\n",
      "\u001b[0;32m~/anaconda3/envs/prep/lib/python3.6/site-packages/jupyter_client/session.py\u001b[0m in \u001b[0;36mrecv\u001b[0;34m(self, socket, mode, content, copy)\u001b[0m\n\u001b[1;32m    802\u001b[0m         \u001b[0;32mtry\u001b[0m\u001b[0;34m:\u001b[0m\u001b[0;34m\u001b[0m\u001b[0m\n\u001b[0;32m--> 803\u001b[0;31m             \u001b[0mmsg_list\u001b[0m \u001b[0;34m=\u001b[0m \u001b[0msocket\u001b[0m\u001b[0;34m.\u001b[0m\u001b[0mrecv_multipart\u001b[0m\u001b[0;34m(\u001b[0m\u001b[0mmode\u001b[0m\u001b[0;34m,\u001b[0m \u001b[0mcopy\u001b[0m\u001b[0;34m=\u001b[0m\u001b[0mcopy\u001b[0m\u001b[0;34m)\u001b[0m\u001b[0;34m\u001b[0m\u001b[0m\n\u001b[0m\u001b[1;32m    804\u001b[0m         \u001b[0;32mexcept\u001b[0m \u001b[0mzmq\u001b[0m\u001b[0;34m.\u001b[0m\u001b[0mZMQError\u001b[0m \u001b[0;32mas\u001b[0m \u001b[0me\u001b[0m\u001b[0;34m:\u001b[0m\u001b[0;34m\u001b[0m\u001b[0m\n",
      "\u001b[0;32m~/anaconda3/envs/prep/lib/python3.6/site-packages/zmq/sugar/socket.py\u001b[0m in \u001b[0;36mrecv_multipart\u001b[0;34m(self, flags, copy, track)\u001b[0m\n\u001b[1;32m    465\u001b[0m         \"\"\"\n\u001b[0;32m--> 466\u001b[0;31m         \u001b[0mparts\u001b[0m \u001b[0;34m=\u001b[0m \u001b[0;34m[\u001b[0m\u001b[0mself\u001b[0m\u001b[0;34m.\u001b[0m\u001b[0mrecv\u001b[0m\u001b[0;34m(\u001b[0m\u001b[0mflags\u001b[0m\u001b[0;34m,\u001b[0m \u001b[0mcopy\u001b[0m\u001b[0;34m=\u001b[0m\u001b[0mcopy\u001b[0m\u001b[0;34m,\u001b[0m \u001b[0mtrack\u001b[0m\u001b[0;34m=\u001b[0m\u001b[0mtrack\u001b[0m\u001b[0;34m)\u001b[0m\u001b[0;34m]\u001b[0m\u001b[0;34m\u001b[0m\u001b[0m\n\u001b[0m\u001b[1;32m    467\u001b[0m         \u001b[0;31m# have first part already, only loop while more to receive\u001b[0m\u001b[0;34m\u001b[0m\u001b[0;34m\u001b[0m\u001b[0m\n",
      "\u001b[0;32mzmq/backend/cython/socket.pyx\u001b[0m in \u001b[0;36mzmq.backend.cython.socket.Socket.recv\u001b[0;34m()\u001b[0m\n",
      "\u001b[0;32mzmq/backend/cython/socket.pyx\u001b[0m in \u001b[0;36mzmq.backend.cython.socket.Socket.recv\u001b[0;34m()\u001b[0m\n",
      "\u001b[0;32mzmq/backend/cython/socket.pyx\u001b[0m in \u001b[0;36mzmq.backend.cython.socket._recv_copy\u001b[0;34m()\u001b[0m\n",
      "\u001b[0;32m~/anaconda3/envs/prep/lib/python3.6/site-packages/zmq/backend/cython/checkrc.pxd\u001b[0m in \u001b[0;36mzmq.backend.cython.checkrc._check_rc\u001b[0;34m()\u001b[0m\n",
      "\u001b[0;31mKeyboardInterrupt\u001b[0m: ",
      "\nDuring handling of the above exception, another exception occurred:\n",
      "\u001b[0;31mKeyboardInterrupt\u001b[0m                         Traceback (most recent call last)",
      "\u001b[0;32m<ipython-input-1-420d2c044f6d>\u001b[0m in \u001b[0;36m<module>\u001b[0;34m()\u001b[0m\n\u001b[1;32m    217\u001b[0m         \u001b[0mprint\u001b[0m\u001b[0;34m(\u001b[0m\u001b[0mmessage\u001b[0m\u001b[0;34m)\u001b[0m\u001b[0;34m\u001b[0m\u001b[0m\n\u001b[1;32m    218\u001b[0m \u001b[0;34m\u001b[0m\u001b[0m\n\u001b[0;32m--> 219\u001b[0;31m \u001b[0mplaygame\u001b[0m\u001b[0;34m(\u001b[0m\u001b[0;34m)\u001b[0m\u001b[0;34m\u001b[0m\u001b[0m\n\u001b[0m",
      "\u001b[0;32m<ipython-input-1-420d2c044f6d>\u001b[0m in \u001b[0;36mplaygame\u001b[0;34m()\u001b[0m\n\u001b[1;32m    157\u001b[0m     \u001b[0;32mwhile\u001b[0m \u001b[0;32mTrue\u001b[0m\u001b[0;34m:\u001b[0m\u001b[0;34m\u001b[0m\u001b[0m\n\u001b[1;32m    158\u001b[0m         \u001b[0mminesleft\u001b[0m \u001b[0;34m=\u001b[0m \u001b[0mnumberofmines\u001b[0m \u001b[0;34m-\u001b[0m \u001b[0mlen\u001b[0m\u001b[0;34m(\u001b[0m\u001b[0mflags\u001b[0m\u001b[0;34m)\u001b[0m\u001b[0;34m\u001b[0m\u001b[0m\n\u001b[0;32m--> 159\u001b[0;31m         \u001b[0mprompt\u001b[0m \u001b[0;34m=\u001b[0m \u001b[0minput\u001b[0m\u001b[0;34m(\u001b[0m\u001b[0;34m'Enter the cell ({} mines left): '\u001b[0m\u001b[0;34m.\u001b[0m\u001b[0mformat\u001b[0m\u001b[0;34m(\u001b[0m\u001b[0mminesleft\u001b[0m\u001b[0;34m)\u001b[0m\u001b[0;34m)\u001b[0m\u001b[0;34m\u001b[0m\u001b[0m\n\u001b[0m\u001b[1;32m    160\u001b[0m         \u001b[0mresult\u001b[0m \u001b[0;34m=\u001b[0m \u001b[0mparseinput\u001b[0m\u001b[0;34m(\u001b[0m\u001b[0mprompt\u001b[0m\u001b[0;34m,\u001b[0m \u001b[0mgridsize\u001b[0m\u001b[0;34m,\u001b[0m \u001b[0mhelpmessage\u001b[0m \u001b[0;34m+\u001b[0m \u001b[0;34m'\\n'\u001b[0m\u001b[0;34m)\u001b[0m\u001b[0;34m\u001b[0m\u001b[0m\n\u001b[1;32m    161\u001b[0m \u001b[0;34m\u001b[0m\u001b[0m\n",
      "\u001b[0;32m~/anaconda3/envs/prep/lib/python3.6/site-packages/ipykernel/kernelbase.py\u001b[0m in \u001b[0;36mraw_input\u001b[0;34m(self, prompt)\u001b[0m\n\u001b[1;32m    702\u001b[0m             \u001b[0mself\u001b[0m\u001b[0;34m.\u001b[0m\u001b[0m_parent_ident\u001b[0m\u001b[0;34m,\u001b[0m\u001b[0;34m\u001b[0m\u001b[0m\n\u001b[1;32m    703\u001b[0m             \u001b[0mself\u001b[0m\u001b[0;34m.\u001b[0m\u001b[0m_parent_header\u001b[0m\u001b[0;34m,\u001b[0m\u001b[0;34m\u001b[0m\u001b[0m\n\u001b[0;32m--> 704\u001b[0;31m             \u001b[0mpassword\u001b[0m\u001b[0;34m=\u001b[0m\u001b[0;32mFalse\u001b[0m\u001b[0;34m,\u001b[0m\u001b[0;34m\u001b[0m\u001b[0m\n\u001b[0m\u001b[1;32m    705\u001b[0m         )\n\u001b[1;32m    706\u001b[0m \u001b[0;34m\u001b[0m\u001b[0m\n",
      "\u001b[0;32m~/anaconda3/envs/prep/lib/python3.6/site-packages/ipykernel/kernelbase.py\u001b[0m in \u001b[0;36m_input_request\u001b[0;34m(self, prompt, ident, parent, password)\u001b[0m\n\u001b[1;32m    732\u001b[0m             \u001b[0;32mexcept\u001b[0m \u001b[0mKeyboardInterrupt\u001b[0m\u001b[0;34m:\u001b[0m\u001b[0;34m\u001b[0m\u001b[0m\n\u001b[1;32m    733\u001b[0m                 \u001b[0;31m# re-raise KeyboardInterrupt, to truncate traceback\u001b[0m\u001b[0;34m\u001b[0m\u001b[0;34m\u001b[0m\u001b[0m\n\u001b[0;32m--> 734\u001b[0;31m                 \u001b[0;32mraise\u001b[0m \u001b[0mKeyboardInterrupt\u001b[0m\u001b[0;34m\u001b[0m\u001b[0m\n\u001b[0m\u001b[1;32m    735\u001b[0m             \u001b[0;32melse\u001b[0m\u001b[0;34m:\u001b[0m\u001b[0;34m\u001b[0m\u001b[0m\n\u001b[1;32m    736\u001b[0m                 \u001b[0;32mbreak\u001b[0m\u001b[0;34m\u001b[0m\u001b[0m\n",
      "\u001b[0;31mKeyboardInterrupt\u001b[0m: "
     ]
    }
   ],
   "source": [
    "\"\"\"A command line version of Minesweeper\"\"\"\n",
    "import random\n",
    "import re\n",
    "import time\n",
    "from string import ascii_lowercase as letters\n",
    "\n",
    "\n",
    "def setupgrid(gridsize, start, n_mines):\n",
    "    emptygrid = [['0' for i in range(gridsize)] \n",
    "                  for i in range(gridsize)]\n",
    "\n",
    "    mines = getmines(emptygrid, start, n_mines)\n",
    "\n",
    "    for i, j in mines:\n",
    "        emptygrid[i][j] = 'X'\n",
    "\n",
    "    grid = getnumbers(emptygrid)\n",
    "\n",
    "    return grid, mines\n",
    "\n",
    "\n",
    "def showgrid(grid):\n",
    "    gridsize = len(grid)\n",
    "\n",
    "    horizontal = '   ' + (4 * gridsize * '-') + '-'\n",
    "\n",
    "    # Print top column letters\n",
    "    toplabel = '     '\n",
    "\n",
    "    for i in letters[:gridsize]:\n",
    "        toplabel = toplabel + i + '   '\n",
    "\n",
    "    print(toplabel + '\\n' + horizontal)\n",
    "\n",
    "    # Print left row numbers\n",
    "    for idx, i in enumerate(grid):\n",
    "        row = '{0:2} |'.format(idx + 1)\n",
    "\n",
    "        for j in i:\n",
    "            row = row + ' ' + j + ' |'\n",
    "\n",
    "        print(row + '\\n' + horizontal)\n",
    "\n",
    "    print('')\n",
    "\n",
    "\n",
    "def getrandomcell(grid):\n",
    "    gridsize = len(grid)\n",
    "\n",
    "    a = random.randint(0, gridsize - 1)\n",
    "    b = random.randint(0, gridsize - 1)\n",
    "\n",
    "    return a, b\n",
    "\n",
    "\n",
    "def getneighbors(grid, rowno, colno):\n",
    "    gridsize = len(grid)\n",
    "    neighbors = []\n",
    "\n",
    "    for i in range(-1, 2):\n",
    "        for j in range(-1, 2):\n",
    "            if (i == 0) and (j == 0):\n",
    "                continue\n",
    "            elif (-1 < (rowno + i) < gridsize) and (-1 < (colno + j) < gridsize):\n",
    "                neighbors.append((rowno + i, colno + j))\n",
    "\n",
    "    return neighbors\n",
    "\n",
    "\n",
    "def getmines(grid, start, n_mines):\n",
    "    mines = []\n",
    "    neighbors = getneighbors(grid, *start)\n",
    "\n",
    "    for _ in range(n_mines):\n",
    "        cell = getrandomcell(grid)\n",
    "        while (cell == start or cell in mines) or (cell in neighbors):\n",
    "            cell = getrandomcell(grid)\n",
    "        mines.append(cell)\n",
    "\n",
    "    return mines\n",
    "\n",
    "\n",
    "def getnumbers(grid):\n",
    "    for rowno, row in enumerate(grid):\n",
    "        for colno, cell in enumerate(row):\n",
    "            if cell != 'X':\n",
    "                # Gets the values of the neighbors\n",
    "                values = [grid[r][c] for r, c in getneighbors(grid, rowno, colno)]\n",
    "\n",
    "                # Counts how many are mines\n",
    "                grid[rowno][colno] = str(values.count('X'))\n",
    "\n",
    "    return grid\n",
    "\n",
    "\n",
    "def showcells(grid, currgrid, rowno, colno):\n",
    "    # Exit function if the cell was already shown\n",
    "    if currgrid[rowno][colno] != ' ':\n",
    "        return\n",
    "\n",
    "    # Show current cell\n",
    "    currgrid[rowno][colno] = grid[rowno][colno]\n",
    "\n",
    "    # Get the neighbors if the cell is empty\n",
    "    if grid[rowno][colno] == '0':\n",
    "        for r, c in getneighbors(grid, rowno, colno):\n",
    "            # Repeat function for each neighbor that doesn't have a flag\n",
    "            if currgrid[r][c] != 'F':\n",
    "                showcells(grid, currgrid, r, c)\n",
    "\n",
    "\n",
    "def playagain():\n",
    "    choice = input('Play again? (y/n): ')\n",
    "\n",
    "    return choice.lower() == 'y'\n",
    "\n",
    "\n",
    "def parseinput(inputstring, gridsize, helpmessage):\n",
    "    cell = ()\n",
    "    flag = False\n",
    "    message = \"Invalid cell. \" + helpmessage\n",
    "\n",
    "    pattern = r'([a-{}])([0-9]+)(f?)'.format(letters[gridsize - 1])\n",
    "    validinput = re.match(pattern, inputstring)\n",
    "\n",
    "    if inputstring == 'help':\n",
    "        message = helpmessage\n",
    "\n",
    "    elif validinput:\n",
    "        rowno = int(validinput.group(2)) - 1\n",
    "        colno = letters.index(validinput.group(1))\n",
    "        flag = bool(validinput.group(3))\n",
    "\n",
    "        if -1 < rowno < gridsize:\n",
    "            cell = (rowno, colno)\n",
    "            message = ''\n",
    "\n",
    "    return {'cell': cell, 'flag': flag, 'message': message}\n",
    "\n",
    "\n",
    "def playgame():\n",
    "    gridsize = 9\n",
    "    numberofmines = 10\n",
    "\n",
    "    currgrid = [[' ' for i in range(gridsize)] for i in range(gridsize)]\n",
    "\n",
    "    grid = []\n",
    "    flags = []\n",
    "    starttime = 0\n",
    "\n",
    "    helpmessage = (\"Type the column followed by the row (eg. a5). \"\n",
    "                   \"To put or remove a flag, add 'f' to the cell (eg. a5f).\")\n",
    "\n",
    "    showgrid(currgrid)\n",
    "    print(helpmessage + \" Type 'help' to show this message again.\\n\")\n",
    "\n",
    "    while True:\n",
    "        minesleft = numberofmines - len(flags)\n",
    "        prompt = input('Enter the cell ({} mines left): '.format(minesleft))\n",
    "        result = parseinput(prompt, gridsize, helpmessage + '\\n')\n",
    "\n",
    "        message = result['message']\n",
    "        cell = result['cell']\n",
    "\n",
    "        if cell:\n",
    "            print('\\n\\n')\n",
    "            rowno, colno = cell\n",
    "            currcell = currgrid[rowno][colno]\n",
    "            flag = result['flag']\n",
    "\n",
    "            if not grid:\n",
    "                grid, mines = setupgrid(gridsize, cell, numberofmines)\n",
    "            if not starttime:\n",
    "                starttime = time.time()\n",
    "\n",
    "            if flag:\n",
    "                # Add a flag if the cell is empty\n",
    "                if currcell == ' ':\n",
    "                    currgrid[rowno][colno] = 'F'\n",
    "                    flags.append(cell)\n",
    "                # Remove the flag if there is one\n",
    "                elif currcell == 'F':\n",
    "                    currgrid[rowno][colno] = ' '\n",
    "                    flags.remove(cell)\n",
    "                else:\n",
    "                    message = 'Cannot put a flag there'\n",
    "\n",
    "            # If there is a flag there, show a message\n",
    "            elif cell in flags:\n",
    "                message = 'There is a flag there'\n",
    "\n",
    "            elif grid[rowno][colno] == 'X':\n",
    "                print('Game Over\\n')\n",
    "                showgrid(grid)\n",
    "                if playagain():\n",
    "                    playgame()\n",
    "                return\n",
    "\n",
    "            elif currcell == ' ':\n",
    "                showcells(grid, currgrid, rowno, colno)\n",
    "\n",
    "            else:\n",
    "                message = \"That cell is already shown\"\n",
    "\n",
    "            if set(flags) == set(mines):\n",
    "                minutes, seconds = divmod(int(time.time() - starttime), 60)\n",
    "                print(\n",
    "                    'You Win. '\n",
    "                    'It took you {} minutes and {} seconds.\\n'.format(minutes,\n",
    "                                                                      seconds))\n",
    "                showgrid(grid)\n",
    "                if playagain():\n",
    "                    playgame()\n",
    "                return\n",
    "\n",
    "        showgrid(currgrid)\n",
    "        print(message)\n",
    "\n",
    "playgame()"
   ]
  },
  {
   "cell_type": "markdown",
   "metadata": {
    "slideshow": {
     "slide_type": "skip"
    }
   },
   "source": [
    "[Source](https://gist.github.com/mohd-akram/3057736)\n",
    "\n",
    "[A nice implementation in C](https://gist.github.com/dgossow/d28083522608771e1c65f49822820ba9)\n",
    "\n",
    "[A nice implementation in Java](https://www.careercup.com/question?id=5633651648757760)"
   ]
  },
  {
   "cell_type": "markdown",
   "metadata": {
    "slideshow": {
     "slide_type": "slide"
    }
   },
   "source": [
    "<br>\n",
    "<br> \n",
    "<br>\n",
    "\n",
    "----"
   ]
  }
 ],
 "metadata": {
  "celltoolbar": "Slideshow",
  "kernelspec": {
   "display_name": "Python 3",
   "language": "python",
   "name": "python3"
  },
  "language_info": {
   "codemirror_mode": {
    "name": "ipython",
    "version": 3
   },
   "file_extension": ".py",
   "mimetype": "text/x-python",
   "name": "python",
   "nbconvert_exporter": "python",
   "pygments_lexer": "ipython3",
   "version": "3.6.4"
  }
 },
 "nbformat": 4,
 "nbformat_minor": 2
}
