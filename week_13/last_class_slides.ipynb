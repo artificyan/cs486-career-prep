{
 "cells": [
  {
   "cell_type": "markdown",
   "metadata": {
    "slideshow": {
     "slide_type": "slide"
    }
   },
   "source": [
    "Last Class: Review of Course\n",
    "--------\n",
    "\n",
    "\n",
    "<center><img src=\"images/remebered.jpg\" width=\"700\"/></center>"
   ]
  },
  {
   "cell_type": "markdown",
   "metadata": {
    "slideshow": {
     "slide_type": "slide"
    }
   },
   "source": [
    "Steps in Job Searching (typical) \n",
    "-------\n",
    "\n",
    "1. Find about a job\n",
    "2. Apply  \n",
    "3. Phone screen\n",
    "4. Technical screen\n",
    "5. Onsite interviews (from 1-4)\n",
    "6. Offer, Negotiation, and Resolution \n",
    "7. Start job"
   ]
  },
  {
   "cell_type": "markdown",
   "metadata": {
    "slideshow": {
     "slide_type": "slide"
    }
   },
   "source": [
    "Where is the best place to find out about a job?\n",
    "-----"
   ]
  },
  {
   "cell_type": "markdown",
   "metadata": {
    "slideshow": {
     "slide_type": "fragment"
    }
   },
   "source": [
    "<center><img src=\"images/dream.jpg\" width=\"500\"/></center>\n",
    "\n",
    "Network! (In-person is far better than electronic)"
   ]
  },
  {
   "cell_type": "markdown",
   "metadata": {
    "slideshow": {
     "slide_type": "slide"
    }
   },
   "source": [
    "Activity: Network\n",
    "------\n",
    "\n",
    "Pretend you are a meetup:\n",
    "\n",
    "- Break the ice (say 'hi' is a good gambit)\n",
    "- Build rapport (ask a open-end question or make an observation)\n",
    "- Introduce yourself and what you are up to\n",
    "- Make small talk for bit\n",
    "- Mention that you are looking for a job (be specific)"
   ]
  },
  {
   "cell_type": "markdown",
   "metadata": {
    "slideshow": {
     "slide_type": "slide"
    }
   },
   "source": [
    "Where do most people find jobs?\n",
    "------"
   ]
  },
  {
   "cell_type": "markdown",
   "metadata": {
    "format": "row",
    "slideshow": {
     "slide_type": "fragment"
    }
   },
   "source": [
    "Internet job sites"
   ]
  },
  {
   "cell_type": "markdown",
   "metadata": {
    "slideshow": {
     "slide_type": "slide"
    }
   },
   "source": [
    "What is the best way to apply?\n",
    "--------"
   ]
  },
  {
   "cell_type": "markdown",
   "metadata": {
    "slideshow": {
     "slide_type": "fragment"
    }
   },
   "source": [
    "Warm introduction\n",
    "\n",
    "Do __not__ be afraid to ask for a warm introduction (a great success rate is 30%)"
   ]
  },
  {
   "cell_type": "markdown",
   "metadata": {
    "slideshow": {
     "slide_type": "slide"
    }
   },
   "source": [
    "How do most people apply for jobs?"
   ]
  },
  {
   "cell_type": "markdown",
   "metadata": {
    "slideshow": {
     "slide_type": "fragment"
    }
   },
   "source": [
    "Spray and pray resumes"
   ]
  },
  {
   "cell_type": "markdown",
   "metadata": {
    "slideshow": {
     "slide_type": "slide"
    }
   },
   "source": [
    "What is the purpose of a resume?\n",
    "-------\n",
    "\n",
    "1. Get you to the next stage. \n",
    "2. Be your avatar in the system."
   ]
  },
  {
   "cell_type": "markdown",
   "metadata": {
    "slideshow": {
     "slide_type": "slide"
    }
   },
   "source": [
    "Activity: Resume review\n",
    "--------"
   ]
  },
  {
   "cell_type": "markdown",
   "metadata": {
    "slideshow": {
     "slide_type": "slide"
    }
   },
   "source": [
    "Activity: Phone screen\n",
    "--------\n",
    "\n",
    "Answer these questions:\n",
    "\n",
    "- What have you been up to lately?   \n",
    "- Why are interested in this company and position?\n",
    "- What are your salary expectations?\n",
    "- Do you have any questions for me (the internal recruiter)?"
   ]
  },
  {
   "cell_type": "markdown",
   "metadata": {
    "slideshow": {
     "slide_type": "slide"
    }
   },
   "source": [
    "4. Technical screen\n",
    "--------\n",
    "\n",
    "See previous days\n",
    "\n",
    "Tips:\n",
    "\n",
    "- Ask questions\n",
    "- Explain your thought process and reasoning\n",
    "- Do __not__ guess (say \"I would have to look that up\")\n",
    "- Do __not__ quit (ask for help)"
   ]
  },
  {
   "cell_type": "markdown",
   "metadata": {
    "slideshow": {
     "slide_type": "slide"
    }
   },
   "source": [
    "5. Onsite interviews (from 1-4)\n",
    "--------\n",
    "Tips: \n",
    "\n",
    "- Show up on time\n",
    "- Dress 1 level better than people at the company (look for photos)\n",
    "- Be nice and polite \n",
    "- A.A.P.C.R.T.\n",
    "- __Always have questions for them__\n",
    "    - What is your greatest challenge right now?\n",
    "    - Where is the product / the team going to be 1 year?"
   ]
  },
  {
   "cell_type": "markdown",
   "metadata": {
    "slideshow": {
     "slide_type": "slide"
    }
   },
   "source": [
    "6. Offer, Negotiation, and Resolution \n",
    "--------\n",
    "\n",
    "- Follow up\n",
    "- Keep following up\n",
    "- Listen to their offer\n",
    "- Never say \"yes\" right away\n",
    "- __Always negotiate__\n",
    "    - Starting level / pay\n",
    "    - Start date\n",
    "    - Previous vacation"
   ]
  },
  {
   "cell_type": "markdown",
   "metadata": {
    "slideshow": {
     "slide_type": "slide"
    }
   },
   "source": [
    "7. Start job (at the bottom)\n",
    "------\n",
    "\n",
    "<center><img src=\"images/hierachy.jpg\" width=\"700\"/></center>"
   ]
  },
  {
   "cell_type": "markdown",
   "metadata": {
    "format": "column",
    "slideshow": {
     "slide_type": "slide"
    }
   },
   "source": [
    "Surviving a Job 101\n",
    "-------"
   ]
  },
  {
   "cell_type": "markdown",
   "metadata": {
    "slideshow": {
     "slide_type": "slide"
    }
   },
   "source": [
    "Show up & be useful\n",
    "------\n",
    "\n",
    "<center><img src=\"images/doing_things.jpg\" width=\"700\"/></center>"
   ]
  },
  {
   "cell_type": "markdown",
   "metadata": {
    "slideshow": {
     "slide_type": "slide"
    }
   },
   "source": [
    "Everyone is replaceable\n",
    "--------\n",
    "\n",
    "<center><img src=\"images/fire_me.png\" width=\"400\"/></center>"
   ]
  },
  {
   "cell_type": "markdown",
   "metadata": {
    "slideshow": {
     "slide_type": "slide"
    }
   },
   "source": [
    "It is just work\n",
    "-------\n",
    "\n",
    "- It is at best a team, it is never a family\n",
    "- You can't get back the hours or stress\n",
    "- Do __not__ write anything on a company device that you do not want the CEO (or TechCrunch) to read\n",
    "    - Do not check personal email or social media on their device\n",
    "    - Do not forgot \"private\" messages on messaging apps "
   ]
  },
  {
   "cell_type": "markdown",
   "metadata": {
    "format": "column",
    "scrolled": true,
    "slideshow": {
     "slide_type": "slide"
    }
   },
   "source": [
    "Try to make more\n",
    "-----\n",
    "\n",
    "<center><img src=\"images/heaven_on_earth.jpg\" width=\"700\"/></center>"
   ]
  },
  {
   "cell_type": "markdown",
   "metadata": {
    "format": "column",
    "slideshow": {
     "slide_type": "slide"
    }
   },
   "source": [
    "Career Advice\n",
    "--------\n",
    "\n",
    "<center><img src=\"images/hendrix.jpg\" width=\"700\"/></center>"
   ]
  },
  {
   "cell_type": "markdown",
   "metadata": {
    "slideshow": {
     "slide_type": "slide"
    }
   },
   "source": [
    "Careers: Sometimes you move sideways <br> (and sometimes you down)\n",
    "------\n",
    "\n",
    "<center><img src=\"images/jungle.jpg\" width=\"700\"/></center>"
   ]
  },
  {
   "cell_type": "markdown",
   "metadata": {
    "format": "column",
    "slideshow": {
     "slide_type": "slide"
    }
   },
   "source": [
    "<center><img src=\"images/hard.jpg\" width=\"700\"/></center>"
   ]
  },
  {
   "cell_type": "markdown",
   "metadata": {
    "slideshow": {
     "slide_type": "slide"
    }
   },
   "source": [
    "<br>\n",
    "<br> \n",
    "<br>\n",
    "\n",
    "----"
   ]
  }
 ],
 "metadata": {
  "celltoolbar": "Slideshow",
  "kernelspec": {
   "display_name": "Python 3",
   "language": "python",
   "name": "python3"
  },
  "language_info": {
   "codemirror_mode": {
    "name": "ipython",
    "version": 3
   },
   "file_extension": ".py",
   "mimetype": "text/x-python",
   "name": "python",
   "nbconvert_exporter": "python",
   "pygments_lexer": "ipython3",
   "version": "3.6.4"
  }
 },
 "nbformat": 4,
 "nbformat_minor": 2
}
