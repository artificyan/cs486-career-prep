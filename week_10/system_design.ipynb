{
 "cells": [
  {
   "cell_type": "markdown",
   "metadata": {
    "slideshow": {
     "slide_type": "slide"
    }
   },
   "source": [
    "Why ask System Design questions?\n",
    "------"
   ]
  },
  {
   "cell_type": "markdown",
   "metadata": {
    "slideshow": {
     "slide_type": "fragment"
    }
   },
   "source": [
    "- Another view into your thinking and problem solving\n",
    "- Assess what level of abstraction you can work with\n",
    "- Are you just a code monkey or could you be a tech lead?"
   ]
  },
  {
   "cell_type": "markdown",
   "metadata": {
    "slideshow": {
     "slide_type": "slide"
    }
   },
   "source": [
    "Tips & Tricks for System Design\n",
    "--------\n",
    "\n",
    "- Embrace the fact they are open-ended problems\n",
    "- Functional and nonfunctional requirements \n",
    "- Define stakeholders then make-up user stories \n",
    "    - \"Who is wants to what for why reason?\""
   ]
  },
  {
   "cell_type": "markdown",
   "metadata": {
    "slideshow": {
     "slide_type": "slide"
    }
   },
   "source": [
    "Tips & Tricks for System Design\n",
    "--------\n",
    "\n",
    "- Do back-of-the-envelope calculations for something you’re building and then write benchmarks to verify them\n",
    "- Everything is a tradeoff!"
   ]
  },
  {
   "cell_type": "markdown",
   "metadata": {
    "slideshow": {
     "slide_type": "slide"
    }
   },
   "source": [
    "Tips & Tricks for System Design\n",
    "--------\n",
    "\n",
    "- Design Pattterns - \"Uber for X\" or \"Blockchain for Y\"\n",
    "- First Principle thinking - \"The raw materials cost X, therefore...\""
   ]
  },
  {
   "cell_type": "markdown",
   "metadata": {
    "slideshow": {
     "slide_type": "slide"
    }
   },
   "source": [
    "Interview Question: Design a database for Handshake\n",
    "--------"
   ]
  },
  {
   "cell_type": "markdown",
   "metadata": {
    "slideshow": {
     "slide_type": "slide"
    }
   },
   "source": [
    "https://www.wisdomjobs.com/e-university/database-design-interview-questions.html"
   ]
  },
  {
   "cell_type": "markdown",
   "metadata": {
    "format": "row",
    "slideshow": {
     "slide_type": "slide"
    }
   },
   "source": [
    "Issues\n",
    "-----\n",
    "\n",
    "- RDMS or NoSQL\n",
    "- Define stakeholders. Who wants to do what why?\n",
    "- Entity-relationship (ER) diagram"
   ]
  },
  {
   "cell_type": "markdown",
   "metadata": {
    "slideshow": {
     "slide_type": "slide"
    }
   },
   "source": [
    "Things to study\n",
    "-------\n",
    "\n",
    "- Explore \"what happens when\"\n",
    "    - https://github.com/alex/what-happens-when\n",
    "    - https://github.com/vasanthk/how-web-works\n",
    "- Dig into the performance characteristics of existing open source systems \n",
    "- Be prepared to implement system"
   ]
  },
  {
   "cell_type": "markdown",
   "metadata": {
    "slideshow": {
     "slide_type": "slide"
    }
   },
   "source": [
    "For Next Time\n",
    "-------\n",
    "\n",
    "- https://interviewing.io/ FREE coding interviews\n",
    "- Be prepared for \"How would you make Twitter\"\n",
    "    - System design then implementation"
   ]
  },
  {
   "cell_type": "markdown",
   "metadata": {
    "slideshow": {
     "slide_type": "slide"
    }
   },
   "source": [
    "<br>\n",
    "<br> \n",
    "<br>\n",
    "\n",
    "----"
   ]
  }
 ],
 "metadata": {
  "celltoolbar": "Slideshow",
  "kernelspec": {
   "display_name": "Python 3",
   "language": "python",
   "name": "python3"
  },
  "language_info": {
   "codemirror_mode": {
    "name": "ipython",
    "version": 3
   },
   "file_extension": ".py",
   "mimetype": "text/x-python",
   "name": "python",
   "nbconvert_exporter": "python",
   "pygments_lexer": "ipython3",
   "version": "3.6.4"
  }
 },
 "nbformat": 4,
 "nbformat_minor": 2
}
