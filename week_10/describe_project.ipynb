{
 "cells": [
  {
   "cell_type": "markdown",
   "metadata": {
    "slideshow": {
     "slide_type": "slide"
    }
   },
   "source": [
    "Behavioral Interview: Describe a Recent Project\n",
    "-------\n",
    "\n",
    "<center><img src=\"https://tse2.mm.bing.net/th?id=OIP._uJpMEQk4AV3bN9uwICi8QHaIX&pid=Api\" width=\"700\"/></center>"
   ]
  },
  {
   "cell_type": "markdown",
   "metadata": {
    "slideshow": {
     "slide_type": "slide"
    }
   },
   "source": [
    "Tips & Tricks: Structure your response \n",
    "-----\n",
    "\n",
    "CAR: Context Action Result\n",
    "\n",
    "Funnel: Big to small picture\n",
    "\n",
    "Timeline: First this, Second that, then..."
   ]
  },
  {
   "cell_type": "markdown",
   "metadata": {
    "slideshow": {
     "slide_type": "slide"
    }
   },
   "source": [
    "Tips & Tricks: Appropriate disposition\n",
    "--------\n",
    "\n",
    "Be clear and precise, not arrogant.\n",
    "\n",
    "Assume your interviewer is bright, curious, but has no specific knowledge.\n",
    "\n"
   ]
  },
  {
   "cell_type": "markdown",
   "metadata": {
    "slideshow": {
     "slide_type": "slide"
    }
   },
   "source": [
    "Tips & Tricks: Length\n",
    "--------\n",
    "\n",
    "- 2-5 minute answer\n",
    "- If at possible, pivot it to the company's mission or products\n",
    "- Leave out implementation details:\n",
    "\n",
    "> “My project was building web pages that automatically refresh\n",
    "with ReactJS and BlinkDB. I can go into that in more detail and how I built it if you want. But the most interesting part was deploying to a production environment…”"
   ]
  },
  {
   "cell_type": "markdown",
   "metadata": {
    "slideshow": {
     "slide_type": "slide"
    }
   },
   "source": [
    "Tips & Tricks: Don't be nervous \n",
    "------\n",
    "<center><img src=\"http://cdn.shopify.com/s/files/1/0535/6917/products/consultingdemotivator.jpeg?v=1416776147\" width=\"700\"/></center>\n",
    "\n",
    "You are the expert on the project in that room"
   ]
  },
  {
   "cell_type": "markdown",
   "metadata": {
    "slideshow": {
     "slide_type": "slide"
    }
   },
   "source": [
    "Mock Interview: Tell me about a recent project\n",
    "-----\n",
    "\n",
    "Pick new pairs"
   ]
  },
  {
   "cell_type": "markdown",
   "metadata": {
    "slideshow": {
     "slide_type": "slide"
    }
   },
   "source": [
    "Prompts\n",
    "------\n",
    "\n",
    "- Why did you choose x instead of y technology?\n",
    "- If could have hired outside help, what kind of help did you need?\n",
    "- If it had to scale to 100x, what would you have to change?"
   ]
  },
  {
   "cell_type": "markdown",
   "metadata": {
    "slideshow": {
     "slide_type": "slide"
    }
   },
   "source": [
    "<br>\n",
    "<br> \n",
    "<br>\n",
    "\n",
    "----"
   ]
  }
 ],
 "metadata": {
  "celltoolbar": "Slideshow",
  "kernelspec": {
   "display_name": "Python 3",
   "language": "python",
   "name": "python3"
  },
  "language_info": {
   "codemirror_mode": {
    "name": "ipython",
    "version": 3
   },
   "file_extension": ".py",
   "mimetype": "text/x-python",
   "name": "python",
   "nbconvert_exporter": "python",
   "pygments_lexer": "ipython3",
   "version": "3.6.4"
  }
 },
 "nbformat": 4,
 "nbformat_minor": 2
}
