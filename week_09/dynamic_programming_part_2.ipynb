{
 "cells": [
  {
   "cell_type": "markdown",
   "metadata": {
    "slideshow": {
     "slide_type": "slide"
    }
   },
   "source": [
    "<center><img src=\"http://i.imgur.com/gNEGBME.jpg\" width=\"700\"/></center>"
   ]
  },
  {
   "cell_type": "markdown",
   "metadata": {
    "slideshow": {
     "slide_type": "slide"
    }
   },
   "source": [
    "Dynamic Programming (DP) Review: Think, Pair, Share\n",
    "------\n",
    "\n",
    "- What is DP?\n",
    "- When do we use DP?\n",
    "- List as many problems as possible that can be solved with DP."
   ]
  },
  {
   "cell_type": "markdown",
   "metadata": {
    "slideshow": {
     "slide_type": "slide"
    }
   },
   "source": [
    "Working Definition of Dynamic Programming\n",
    "-----\n",
    "\n",
    "DP is ideal method to find an optimal solution composed of overlapping subproblems.\n",
    "\n",
    "We store the solutions to each subproblem so it only has to be computed once."
   ]
  },
  {
   "cell_type": "markdown",
   "metadata": {
    "slideshow": {
     "slide_type": "slide"
    }
   },
   "source": [
    "DP Problems\n",
    "-----\n",
    "\n",
    "- Anything with repeated recursion\n",
    "    - Fibonacci Sequence\n",
    "    - Factorial\n",
    "- Knapsack problems\n",
    "    - Bin packing\n",
    "- Min Cost Path\n",
    "    - \"Make change\"\n",
    "- Optimal Substructure \n",
    "    - \"Max Profit\""
   ]
  },
  {
   "cell_type": "markdown",
   "metadata": {
    "slideshow": {
     "slide_type": "slide"
    }
   },
   "source": [
    "Interview Problem: Max Profit\n",
    "-----\n",
    "\n",
    "<center><img src=\"images/stock.png\" width=\"400\"/></center>\n",
    "\n",
    "Say you have an array for which the ith element is the price of a given stock on day i.\n",
    "\n",
    "Design an algorithm to find the maximum profit. You may complete as many transactions as you like (ie, buy one and sell one share of the stock multiple times) with the following restrictions:\n",
    "\n",
    "- You may not engage in multiple transactions at the same time (ie, you must sell the stock before you buy again).\n",
    "- After you sell your stock, you cannot buy stock on next day. (ie, cooldown 1 day)\n",
    "\n",
    "```python\n",
    "prices = [1, 2, 3, 0, 2] # Input\n",
    "max_profit = 3 # Output\n",
    "transactions = [buy, sell, cooldown, buy, sell] # What your algorithm should do\n",
    "```"
   ]
  },
  {
   "cell_type": "markdown",
   "metadata": {
    "slideshow": {
     "slide_type": "skip"
    }
   },
   "source": [
    "https://leetcode.com/problems/best-time-to-buy-and-sell-stock-with-cooldown/description/"
   ]
  },
  {
   "cell_type": "markdown",
   "metadata": {
    "slideshow": {
     "slide_type": "slide"
    }
   },
   "source": [
    "First, think about what we can do on day i? You either have one stock or you don’t on day i. For each case, you have two options, making a total of four possible actions on day i:\n",
    "\n",
    "1. you have 1 stock and you sell it\n",
    "2. you have 1 stock and you do nothing\n",
    "3. you have 0 stock and you buy stock i\n",
    "4. you have 0 stock and you do nothing"
   ]
  },
  {
   "cell_type": "markdown",
   "metadata": {
    "slideshow": {
     "slide_type": "slide"
    }
   },
   "source": [
    "As you can imagine, these four actions are correlated between day i-1 and day i. For example, if you take action 1 on day i, you then have either taken action 2 or 3 on day i-1 but not 1 or 4. In precise, two consecutive days are related as follows:\n",
    "\n",
    "1. if you take action 1 on day i ==> you have either taken action 2 or 3 on day i-1\n",
    "2. if you take action 2 on day i ==> you have either taken action 2 or 3 on day i-1\n",
    "3. if you take action 3 on day i ==> you must have taken action 4 on day i-1 (you can not sell on day i-1 due to cool down)\n",
    "4. if you take action 4 on day i ==> you have either taken action 1 or 4 on day i-1"
   ]
  },
  {
   "cell_type": "markdown",
   "metadata": {
    "slideshow": {
     "slide_type": "slide"
    }
   },
   "source": [
    "Now you want to maximize your total profit, but you don’t know what action to take on day i such that you get the total maximum profit, so you try all 4 actions on every day. \n",
    "\n",
    "Suppose you take action 1 on day i, since there are two possible actions on day i-1, namely actions 2 and 3, you would definitely choose the one that makes your profit on day i more. Same thing for actions 2 and 4. \n",
    "\n",
    "So we now have an iterative algorithm."
   ]
  },
  {
   "cell_type": "markdown",
   "metadata": {
    "slideshow": {
     "slide_type": "skip"
    }
   },
   "source": [
    "https://leetcode.com/problems/best-time-to-buy-and-sell-stock-with-cooldown/discuss/75930/Very-Easy-to-Understand-One-Pass-O(n)-Solution-with-No-Extra-Space"
   ]
  },
  {
   "cell_type": "markdown",
   "metadata": {
    "slideshow": {
     "slide_type": "slide"
    }
   },
   "source": [
    "<center><img src=\"http://www.oracle.com/ocom/groups/public/@otn/documents/digitalasset/144986.gif\" width=\"700\"/></center>"
   ]
  },
  {
   "cell_type": "markdown",
   "metadata": {
    "slideshow": {
     "slide_type": "slide"
    }
   },
   "source": [
    "<center><img src=\"images/stock_state.jpg\" width=\"1200\"/></center>"
   ]
  },
  {
   "cell_type": "markdown",
   "metadata": {
    "slideshow": {
     "slide_type": "slide"
    }
   },
   "source": [
    "```java\n",
    "public int maxProfit(int[] prices) {\n",
    "\tint L = prices.length;\n",
    "\tif(L < 2) return 0;\n",
    "\n",
    "\tint has1_doNothing = -prices[0];\n",
    "\tint has1_Sell = 0;\n",
    "\tint has0_doNothing = 0;\n",
    "\tint has0_Buy = -prices[0];\n",
    "\tfor(int i=1; i<L; i++) {\n",
    "\t\thas1_doNothing = has1_doNothing > has0_Buy ? has1_doNothing : has0_Buy;\n",
    "\t\thas0_Buy = -prices[i] + has0_doNothing;\n",
    "\t\thas0_doNothing = has0_doNothing > has1_Sell ? has0_doNothing : has1_Sell;\n",
    "\t\thas1_Sell = prices[i] + has1_doNothing;\n",
    "\t}\n",
    "\treturn has1_Sell > has0_doNothing ? has1_Sell : has0_doNothing;\n",
    "}\n",
    "```"
   ]
  },
  {
   "cell_type": "code",
   "execution_count": 1,
   "metadata": {
    "slideshow": {
     "slide_type": "slide"
    }
   },
   "outputs": [],
   "source": [
    "def max_profit(prices):\n",
    "    free = 0             # Max profit while being free to buy\n",
    "    have = float('-inf') # Max profit while having a stock\n",
    "    cool = float('-inf') # Max profit while cooling down\n",
    "    for p in prices:\n",
    "        free, have, cool = max(free, cool), max(have, free - p), have + p\n",
    "    return max(free, cool)"
   ]
  },
  {
   "cell_type": "code",
   "execution_count": 3,
   "metadata": {
    "slideshow": {
     "slide_type": "fragment"
    }
   },
   "outputs": [],
   "source": [
    "assert max_profit([1, 2, 3, 0, 2]) == 3         # Transactions = [Buy, Sell, Cooldown, Buy, Sell]\n",
    "assert max_profit([2, 1, 1]) == 0               # Transactions = [None, None, None]             \n",
    "assert max_profit([1, 2, 3, 0, 2, 0, 5]) == 7"
   ]
  },
  {
   "cell_type": "markdown",
   "metadata": {
    "slideshow": {
     "slide_type": "slide"
    }
   },
   "source": [
    "Summary\n",
    "------\n",
    "\n",
    "- Dynamic Programming (DP) is a \"goto move\" for programming interviews\n",
    "- Many complex problems become simple with DP\n",
    "- Work the DP gameplan:\n",
    "    - Find the input\n",
    "    - Find the output\n",
    "    - Find the steps\n",
    "    - Find the cache\n",
    "- Practice, Practice, Practice"
   ]
  },
  {
   "cell_type": "markdown",
   "metadata": {
    "slideshow": {
     "slide_type": "slide"
    }
   },
   "source": [
    "Further Study: \"Making Change\" Problem\n",
    "----- \n",
    "\n",
    "__Problem__: Making change problem. The objective is to determine the smallest number of currency of a particular denomination required to make change for a given amount. \n",
    "\n",
    "For example, if the denomination of the currency are \\$1 and \\$2 and it was required to make change for \\$3 then we would use \\$1 + \\$2 i.e. 2 units of currency. \n",
    "\n",
    "However if the amount was \\$4 then we would could either use \n",
    "\n",
    "1. \\$1+\\$1+\\$1+\\$1  \n",
    "2. \\$1+\\$1+\\$2   \n",
    "3. \\$2+\\$2  \n",
    "\n",
    "The minimum number of currency units would  be 2 (\\$2+\\$2)."
   ]
  },
  {
   "cell_type": "code",
   "execution_count": null,
   "metadata": {
    "slideshow": {
     "slide_type": "slide"
    }
   },
   "outputs": [],
   "source": [
    "assert make_change(currency=[1, 5, 10],      value=10) == (1, [10])             # 1 piece of  currency, value of 10\n",
    "assert make_change(currency=[1, 5, 10],      value=15) == (2, [10, 5])          # 2 pieces of currency, values of 10 and 5\n",
    "assert make_change(currency=[1, 5, 10],      value=30) == (3, [10, 10, 10])     # 3 pieces of currency, all values of 10\n",
    "assert make_change(currency=[1, 5, 21, 25],  value=63) == (3, [21, 21, 21])     # 2 pieces of currency, all values of 21\n",
    "assert make_change(currency=[5, 10],         value=3)  == 'No solution possible'# Error handling"
   ]
  },
  {
   "cell_type": "markdown",
   "metadata": {
    "slideshow": {
     "slide_type": "slide"
    }
   },
   "source": [
    "<br>\n",
    "<br> \n",
    "<br>\n",
    "\n",
    "----"
   ]
  }
 ],
 "metadata": {
  "celltoolbar": "Slideshow",
  "kernelspec": {
   "display_name": "Python 3",
   "language": "python",
   "name": "python3"
  },
  "language_info": {
   "codemirror_mode": {
    "name": "ipython",
    "version": 3
   },
   "file_extension": ".py",
   "mimetype": "text/x-python",
   "name": "python",
   "nbconvert_exporter": "python",
   "pygments_lexer": "ipython3",
   "version": "3.6.4"
  }
 },
 "nbformat": 4,
 "nbformat_minor": 2
}
