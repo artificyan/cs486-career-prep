{
 "cells": [
  {
   "cell_type": "markdown",
   "metadata": {
    "slideshow": {
     "slide_type": "slide"
    }
   },
   "source": [
    "\n",
    "CS CareerPrep: Week 2\n",
    "-------\n",
    "<center><img src=\"images/failure.jpg\" width=\"400\"/></center>\n",
    "\n",
    "__Disscusion__\n",
    "You are asked to write a palindrome checker, a palindrome is a sequence of characters which reads the same backward or forward.\n",
    "\n",
    "Brainstorm all the ways to reverse a string…"
   ]
  },
  {
   "cell_type": "markdown",
   "metadata": {
    "slideshow": {
     "slide_type": "slide"
    }
   },
   "source": [
    "Interview Lifecycle\n",
    "------\n",
    "\n",
    "1. Identify company and contacts (Last week)\n",
    "1. Preparation (Next weeks)\n",
    "1. Application\n",
    "1. Phone screenings\n",
    "1. Onsite interviews\n",
    "1. Negotiating offer  "
   ]
  },
  {
   "cell_type": "markdown",
   "metadata": {
    "slideshow": {
     "slide_type": "slide"
    }
   },
   "source": [
    "Understanding the Job Posting\n",
    "-----\n",
    "\n",
    "[A “random” job posting](https://boards.greenhouse.io/robinhood/jobs/266914) from a company called Robinhood\n",
    "\n",
    "[Check out the company on Glassdoor](https://www.glassdoor.com/Reviews/Robinhood-Reviews-E1167765.htm?sort.sortType=RD&sort.ascending=false&filter.employmentStatus=REGULAR&filter.employmentStatus=PART_TIME&filter.employmentStatus=UNKNOWN)"
   ]
  },
  {
   "cell_type": "markdown",
   "metadata": {
    "slideshow": {
     "slide_type": "slide"
    }
   },
   "source": [
    "<center><img src=\"images/resume.png\" width=\"700\"/></center>"
   ]
  },
  {
   "cell_type": "markdown",
   "metadata": {
    "slideshow": {
     "slide_type": "slide"
    }
   },
   "source": [
    "Resume 101\n",
    "-----\n",
    "\n",
    "- Reverse chronological order\n",
    "- Include projects, hackathons, and courses\n",
    "- Do not be fancy\n",
    "- Use evidence\n",
    "- Have a template that can be tweaked for each position"
   ]
  },
  {
   "cell_type": "markdown",
   "metadata": {
    "slideshow": {
     "slide_type": "slide"
    }
   },
   "source": [
    "For next time\n",
    "----\n",
    "\n",
    "- Make a resume (can be a rough draft)\n",
    "    - Create a resume shared Google Drive. \n",
    "    - DM [@brianspiering](https://usf-cs-courses.slack.com/messages/D8Y9C8EDQ) on Slack the link by Friday 5pm\n",
    "- Review Big O notation. Also common data structure and algorithm performance wrt time and space complexity\n",
    "- Next topic: Hash Maps"
   ]
  },
  {
   "cell_type": "markdown",
   "metadata": {
    "slideshow": {
     "slide_type": "slide"
    }
   },
   "source": [
    "Slides will be GitHub in the repo - https://github.com/brianspiering/cs486-career-prep \n",
    "\n",
    "Using [Jupyter Notebook](http://jupyter.org/)."
   ]
  },
  {
   "cell_type": "markdown",
   "metadata": {
    "slideshow": {
     "slide_type": "slide"
    }
   },
   "source": [
    "<br>\n",
    "<br> \n",
    "<br>\n",
    "\n",
    "----"
   ]
  }
 ],
 "metadata": {
  "celltoolbar": "Slideshow",
  "kernelspec": {
   "display_name": "Python 3",
   "language": "python",
   "name": "python3"
  },
  "language_info": {
   "codemirror_mode": {
    "name": "ipython",
    "version": 3
   },
   "file_extension": ".py",
   "mimetype": "text/x-python",
   "name": "python",
   "nbconvert_exporter": "python",
   "pygments_lexer": "ipython3",
   "version": "3.6.4"
  }
 },
 "nbformat": 4,
 "nbformat_minor": 2
}
