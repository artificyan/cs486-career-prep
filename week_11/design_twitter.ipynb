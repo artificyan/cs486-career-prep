{
 "cells": [
  {
   "cell_type": "markdown",
   "metadata": {
    "slideshow": {
     "slide_type": "slide"
    }
   },
   "source": [
    "<center><img src=\"images/careers.jpg\" width=\"700\"/></center>"
   ]
  },
  {
   "cell_type": "markdown",
   "metadata": {
    "slideshow": {
     "slide_type": "slide"
    }
   },
   "source": [
    "\"How would you design Twitter?\"\n",
    "-------\n",
    "\n",
    "<center><img src=\"https://tse3.mm.bing.net/th?id=OIP.ciFOF2jCpcN28FVQKpOokgHaEC&pid=Api\" width=\"700\"/></center>"
   ]
  },
  {
   "cell_type": "markdown",
   "metadata": {
    "slideshow": {
     "slide_type": "slide"
    }
   },
   "source": [
    "Why System Design Questions?\n",
    "-----\n",
    "\n",
    "- Fuzzy definitions\n",
    "- Open ended\n",
    "- Testing your analytical ability "
   ]
  },
  {
   "cell_type": "markdown",
   "metadata": {
    "slideshow": {
     "slide_type": "skip"
    }
   },
   "source": [
    "[Source](https://www.quora.com/What-are-some-of-the-best-answers-to-the-question-How-would-you-design-Twitter-in-a-system-design-interview)"
   ]
  },
  {
   "cell_type": "markdown",
   "metadata": {
    "slideshow": {
     "slide_type": "slide"
    }
   },
   "source": [
    "Steps\n",
    "------\n",
    "\n",
    "1. Requirements clarifications\n",
    "1. Back-of-the-envelope estimation\n",
    "2. System interface definition\n",
    "4. Defining data model\n",
    "5. High-level design\n",
    "6. Detailed design\n",
    "7. Bottlenecks "
   ]
  },
  {
   "cell_type": "markdown",
   "metadata": {
    "slideshow": {
     "slide_type": "slide"
    }
   },
   "source": [
    "Anti-Steps\n",
    "-----\n",
    "\n",
    "- Jump into implementation\n",
    "- Pick specific technologies"
   ]
  },
  {
   "cell_type": "markdown",
   "metadata": {
    "slideshow": {
     "slide_type": "slide"
    }
   },
   "source": [
    "Requirements clarifications\n",
    "-------\n",
    "\n",
    "__Always ask__\n",
    "\n",
    "Then compress Twitter to its MVP (minimum viable product)..."
   ]
  },
  {
   "cell_type": "markdown",
   "metadata": {
    "slideshow": {
     "slide_type": "slide"
    }
   },
   "source": [
    "Tweeter MVP\n",
    "-----\n",
    "\n",
    "<center><img src=\"images/publish_subscribe.png\" width=\"700\"/></center>\n",
    "\n",
    "Pub (Publishers): People tweeting \n",
    "\n",
    "Sub (Subscribers): People following"
   ]
  },
  {
   "cell_type": "markdown",
   "metadata": {
    "slideshow": {
     "slide_type": "slide"
    }
   },
   "source": [
    "What are other examples of [Pub Sub Models](https://en.wikipedia.org/wiki/Publish%E2%80%93subscribe_pattern)?\n",
    "------"
   ]
  },
  {
   "cell_type": "markdown",
   "metadata": {
    "slideshow": {
     "slide_type": "fragment"
    }
   },
   "source": [
    "- Newspapers 📰\n",
    "- Video Streaming 📼\n",
    "- Data Systems (Kafka)"
   ]
  },
  {
   "cell_type": "markdown",
   "metadata": {
    "format": "row",
    "slideshow": {
     "slide_type": "slide"
    }
   },
   "source": [
    "Back-of-the-envelope estimation\n",
    "-------\n",
    "\n",
    "- Estimate scale and speed\n",
    "    - Number of concurrent users\n",
    "    - Volume of data at rest "
   ]
  },
  {
   "cell_type": "markdown",
   "metadata": {
    "slideshow": {
     "slide_type": "slide"
    }
   },
   "source": [
    "Estimation Example\n",
    "-----\n",
    "\n",
    "Number of tweets per day : 500 million    \n",
    "Maximum size of a tweet : 140 chars + 1 byte for timestamp + 1 byte for userId = 142 bytes   \n",
    "Provisioning for : 5 years = 365 * 5 days   \n",
    "Space required : 142bytes * 500M * 365 * 5 = 129  "
   ]
  },
  {
   "cell_type": "markdown",
   "metadata": {
    "slideshow": {
     "slide_type": "skip"
    }
   },
   "source": [
    "[Source](http://massivetechinterview.blogspot.com/2016/07/design-twitter.html)"
   ]
  },
  {
   "cell_type": "markdown",
   "metadata": {
    "slideshow": {
     "slide_type": "slide"
    }
   },
   "source": [
    "System interface definition\n",
    "------\n",
    "\n",
    "Define APIs \n",
    "\n",
    "Nouns & Verbs\n",
    "\n",
    "`postTweet(user_id, tweet_data, tweet_location, user_location, timestamp, …)`"
   ]
  },
  {
   "cell_type": "markdown",
   "metadata": {
    "slideshow": {
     "slide_type": "slide"
    }
   },
   "source": [
    "Defining data model\n",
    "--------"
   ]
  },
  {
   "cell_type": "markdown",
   "metadata": {
    "slideshow": {
     "slide_type": "slide"
    }
   },
   "source": [
    "What the 4 things in data modeling 101?\n",
    "-------\n",
    "\n",
    "1. Entity - discrete thing in the real world\n",
    "2. Attribute - information about an entity\n",
    "3. Fact - level of attribute\n",
    "4. Events - thing that happens in the real world"
   ]
  },
  {
   "cell_type": "markdown",
   "metadata": {
    "slideshow": {
     "slide_type": "slide"
    }
   },
   "source": [
    "What are the Entities (nouns) for Twitter?\n",
    "-----"
   ]
  },
  {
   "cell_type": "markdown",
   "metadata": {
    "slideshow": {
     "slide_type": "fragment"
    }
   },
   "source": [
    "1. Users \n",
    "\n",
    "2. Tweets"
   ]
  },
  {
   "cell_type": "markdown",
   "metadata": {
    "slideshow": {
     "slide_type": "slide"
    }
   },
   "source": [
    "Possible Data Model\n",
    "-------\n",
    "\n",
    "`User: UserID, UserName, FirstName, LastName, Password (salted), Email, DoB, TimeStamp`\n",
    "\n",
    "`Tweet: TweetID, Content, UserID, TimeStamp`"
   ]
  },
  {
   "cell_type": "markdown",
   "metadata": {
    "slideshow": {
     "slide_type": "slide"
    }
   },
   "source": [
    "Relations\n",
    "------\n",
    "\n",
    "`Follers: FollowerID, FolloweeID, TimeStamp`\n",
    "`Favorites: UserID, TweetID, TimeStamp`"
   ]
  },
  {
   "cell_type": "markdown",
   "metadata": {
    "slideshow": {
     "slide_type": "slide"
    }
   },
   "source": [
    "High-level design\n",
    "-------\n",
    "\n",
    "Draw a block diagram with 5-6 boxes representing core components of your system"
   ]
  },
  {
   "cell_type": "markdown",
   "metadata": {
    "slideshow": {
     "slide_type": "slide"
    }
   },
   "source": [
    "<center><img src=\"images/db.png\" width=\"700\"/></center>"
   ]
  },
  {
   "cell_type": "markdown",
   "metadata": {
    "slideshow": {
     "slide_type": "slide"
    }
   },
   "source": [
    "Detailed design\n",
    "------\n",
    "\n",
    "Focus on developing the most important 2-3 components"
   ]
  },
  {
   "cell_type": "markdown",
   "metadata": {
    "slideshow": {
     "slide_type": "slide"
    }
   },
   "source": [
    "Verbs\n",
    "-----\n",
    "\n",
    "1. Create account\n",
    "1. Post a tweet\n",
    "1. Follow a user\n",
    "1. Get feed\n",
    "1. Search!"
   ]
  },
  {
   "cell_type": "markdown",
   "metadata": {
    "slideshow": {
     "slide_type": "slide"
    }
   },
   "source": [
    "Implement Twitter\n",
    "--------"
   ]
  },
  {
   "cell_type": "markdown",
   "metadata": {
    "slideshow": {
     "slide_type": "fragment"
    }
   },
   "source": [
    "Data Structures first!"
   ]
  },
  {
   "cell_type": "markdown",
   "metadata": {
    "slideshow": {
     "slide_type": "slide"
    }
   },
   "source": [
    "[Source](https://github.com/rhettinger/modernpython/tree/master/pubsub)"
   ]
  },
  {
   "cell_type": "code",
   "execution_count": 195,
   "metadata": {
    "slideshow": {
     "slide_type": "slide"
    }
   },
   "outputs": [],
   "source": [
    "from collections import namedtuple"
   ]
  },
  {
   "cell_type": "code",
   "execution_count": 196,
   "metadata": {
    "slideshow": {
     "slide_type": "slide"
    }
   },
   "outputs": [],
   "source": [
    "Post = namedtuple('Post', ['timestamp', 'user', 'content'])"
   ]
  },
  {
   "cell_type": "code",
   "execution_count": 197,
   "metadata": {
    "slideshow": {
     "slide_type": "slide"
    }
   },
   "outputs": [],
   "source": [
    "# A collection of all posts \n",
    "posts = None"
   ]
  },
  {
   "cell_type": "code",
   "execution_count": 198,
   "metadata": {
    "slideshow": {
     "slide_type": "fragment"
    }
   },
   "outputs": [],
   "source": [
    "# Efficient append left\n",
    "from collections import deque"
   ]
  },
  {
   "cell_type": "code",
   "execution_count": 199,
   "metadata": {
    "slideshow": {
     "slide_type": "fragment"
    }
   },
   "outputs": [],
   "source": [
    "posts = deque() # From newest to oldest"
   ]
  },
  {
   "cell_type": "code",
   "execution_count": 200,
   "metadata": {
    "slideshow": {
     "slide_type": "slide"
    }
   },
   "outputs": [],
   "source": [
    "# A collection of posts by user \n",
    "user_posts = None # user: posts"
   ]
  },
  {
   "cell_type": "code",
   "execution_count": 201,
   "metadata": {
    "slideshow": {
     "slide_type": "fragment"
    }
   },
   "outputs": [],
   "source": [
    "# A dictionary\n",
    "# A special dictionary that accumulates post\n",
    "from collections import defaultdict"
   ]
  },
  {
   "cell_type": "code",
   "execution_count": 202,
   "metadata": {
    "slideshow": {
     "slide_type": "fragment"
    }
   },
   "outputs": [],
   "source": [
    "# When a key is encountered for the first time, automatically create an empty deque\n",
    "user_posts = defaultdict(deque) "
   ]
  },
  {
   "cell_type": "markdown",
   "metadata": {
    "slideshow": {
     "slide_type": "slide"
    }
   },
   "source": [
    "After data structures (nouns), come functions (verbs)\n",
    "------"
   ]
  },
  {
   "cell_type": "code",
   "execution_count": 203,
   "metadata": {
    "slideshow": {
     "slide_type": "fragment"
    }
   },
   "outputs": [],
   "source": [
    "from time import time\n",
    "\n",
    "def post_message(user, text, timestamp=None):\n",
    "    timestamp = timestamp or time()\n",
    "    post = Post(timestamp, user, text) # Most of the data\n",
    "    posts.appendleft(post)             # Pass by reference\n",
    "    user_posts[user].appendleft(post)  # Pass by reference"
   ]
  },
  {
   "cell_type": "code",
   "execution_count": 204,
   "metadata": {
    "slideshow": {
     "slide_type": "slide"
    }
   },
   "outputs": [],
   "source": [
    "# Run sample data\n",
    "now = time()\n",
    "post_message('brianspiering', '#python tip: use the correctdata structures', now-3600*48)\n",
    "post_message('jay', 'graded papers', now-3600)\n",
    "post_message('selik', 'gradient descent save me money on travel', now-2500)\n",
    "post_message('brianspiering', '#python tip: develop interactively', now-500)\n",
    "post_message('jay', 'plan to heckle brianspiering', now-80)\n",
    "post_message('jeffjohnson', 'teaching #python today', now-50)\n",
    "post_message('selik', 'have you ever wanted to unpack mappings?', now-46)\n",
    "post_message('brianspiering', '#python tip: have fun programming', now-40)\n",
    "post_message('jeffjohnson', '#camping tip:  always take water', now-30)\n",
    "post_message('barry', 'enums rock', now-20)\n",
    "post_message('brianspiering', '#life tip: take frequent naps', now-10)\n",
    "post_message('jeffjohnson', 'coriander and cilantro come from the same plant', now)"
   ]
  },
  {
   "cell_type": "code",
   "execution_count": 205,
   "metadata": {
    "slideshow": {
     "slide_type": "slide"
    }
   },
   "outputs": [
    {
     "data": {
      "text/plain": [
       "deque([Post(timestamp=1523406271.574185, user='jeffjohnson', content='coriander and cilantro come from the same plant'),\n",
       "       Post(timestamp=1523406261.574185, user='brianspiering', content='#life tip: take frequent naps'),\n",
       "       Post(timestamp=1523406251.574185, user='barry', content='enums rock'),\n",
       "       Post(timestamp=1523406241.574185, user='jeffjohnson', content='#camping tip:  always take water'),\n",
       "       Post(timestamp=1523406231.574185, user='brianspiering', content='#python tip: have fun programming'),\n",
       "       Post(timestamp=1523406225.574185, user='selik', content='have you ever wanted to unpack mappings?'),\n",
       "       Post(timestamp=1523406221.574185, user='jeffjohnson', content='teaching #python today'),\n",
       "       Post(timestamp=1523406191.574185, user='jay', content='plan to heckle brianspiering'),\n",
       "       Post(timestamp=1523405771.574185, user='brianspiering', content='#python tip: develop interactively'),\n",
       "       Post(timestamp=1523403771.574185, user='selik', content='gradient descent save me money on travel'),\n",
       "       Post(timestamp=1523402671.574185, user='jay', content='graded papers'),\n",
       "       Post(timestamp=1523233471.574185, user='brianspiering', content='#python tip: use the correctdata structures')])"
      ]
     },
     "execution_count": 205,
     "metadata": {},
     "output_type": "execute_result"
    }
   ],
   "source": [
    "posts"
   ]
  },
  {
   "cell_type": "code",
   "execution_count": 206,
   "metadata": {
    "slideshow": {
     "slide_type": "slide"
    }
   },
   "outputs": [
    {
     "data": {
      "text/plain": [
       "deque([Post(timestamp=1523406261.574185, user='brianspiering', content='#life tip: take frequent naps'),\n",
       "       Post(timestamp=1523406231.574185, user='brianspiering', content='#python tip: have fun programming'),\n",
       "       Post(timestamp=1523405771.574185, user='brianspiering', content='#python tip: develop interactively'),\n",
       "       Post(timestamp=1523233471.574185, user='brianspiering', content='#python tip: use the correctdata structures')])"
      ]
     },
     "execution_count": 206,
     "metadata": {},
     "output_type": "execute_result"
    }
   ],
   "source": [
    "user_posts['brianspiering']"
   ]
  },
  {
   "cell_type": "code",
   "execution_count": 207,
   "metadata": {
    "slideshow": {
     "slide_type": "fragment"
    }
   },
   "outputs": [],
   "source": [
    "UserInfo = namedtuple('UserInfo', ['displayname', \n",
    "                                   'email',\n",
    "                                   'hashed_password', \n",
    "                                   'bio'])"
   ]
  },
  {
   "cell_type": "markdown",
   "metadata": {
    "slideshow": {
     "slide_type": "slide"
    }
   },
   "source": [
    "Let's add following feature\n",
    "------"
   ]
  },
  {
   "cell_type": "code",
   "execution_count": 208,
   "metadata": {
    "slideshow": {
     "slide_type": "fragment"
    }
   },
   "outputs": [],
   "source": [
    "following = defaultdict(set) # User: Other Users        \n",
    "followers = defaultdict(set) # User: Other Users   "
   ]
  },
  {
   "cell_type": "markdown",
   "metadata": {
    "slideshow": {
     "slide_type": "slide"
    }
   },
   "source": [
    "Follow function\n",
    "-------"
   ]
  },
  {
   "cell_type": "code",
   "execution_count": 209,
   "metadata": {
    "slideshow": {
     "slide_type": "fragment"
    }
   },
   "outputs": [],
   "source": [
    "def follow(user, followed_user):\n",
    "    \"Update symmetric dicts\"\n",
    "    following[user].add(followed_user)\n",
    "    followers[followed_user].add(user)"
   ]
  },
  {
   "cell_type": "code",
   "execution_count": 210,
   "metadata": {
    "slideshow": {
     "slide_type": "slide"
    }
   },
   "outputs": [],
   "source": [
    "follow('jay', followed_user='brianspiering')\n",
    "follow('jay', followed_user='barry')\n",
    "follow('selik', followed_user='davin')\n",
    "follow('brianspiering', followed_user='jay')\n",
    "follow('brianspiering', followed_user='barry')"
   ]
  },
  {
   "cell_type": "code",
   "execution_count": 211,
   "metadata": {
    "slideshow": {
     "slide_type": "fragment"
    }
   },
   "outputs": [
    {
     "data": {
      "text/plain": [
       "defaultdict(set,\n",
       "            {'barry': {'brianspiering', 'jay'},\n",
       "             'brianspiering': {'jay'},\n",
       "             'davin': {'selik'},\n",
       "             'jay': {'brianspiering'}})"
      ]
     },
     "execution_count": 211,
     "metadata": {},
     "output_type": "execute_result"
    }
   ],
   "source": [
    "followers"
   ]
  },
  {
   "cell_type": "markdown",
   "metadata": {
    "slideshow": {
     "slide_type": "slide"
    }
   },
   "source": [
    "Let's get a couple post from a user\n",
    "------"
   ]
  },
  {
   "cell_type": "code",
   "execution_count": 212,
   "metadata": {
    "slideshow": {
     "slide_type": "slide"
    }
   },
   "outputs": [
    {
     "data": {
      "text/plain": [
       "deque([Post(timestamp=1523406261.574185, user='brianspiering', content='#life tip: take frequent naps'),\n",
       "       Post(timestamp=1523406231.574185, user='brianspiering', content='#python tip: have fun programming'),\n",
       "       Post(timestamp=1523405771.574185, user='brianspiering', content='#python tip: develop interactively'),\n",
       "       Post(timestamp=1523233471.574185, user='brianspiering', content='#python tip: use the correctdata structures')])"
      ]
     },
     "execution_count": 212,
     "metadata": {},
     "output_type": "execute_result"
    }
   ],
   "source": [
    "def posts_by_user(user):\n",
    "    return user_posts[user]\n",
    "\n",
    "posts_by_user('brianspiering')"
   ]
  },
  {
   "cell_type": "markdown",
   "metadata": {
    "slideshow": {
     "slide_type": "fragment"
    }
   },
   "source": [
    "What if the person has thousands of posts?"
   ]
  },
  {
   "cell_type": "code",
   "execution_count": 213,
   "metadata": {
    "slideshow": {
     "slide_type": "fragment"
    }
   },
   "outputs": [],
   "source": [
    "# Efficentlly select elements from an iterator\n",
    "from itertools import islice"
   ]
  },
  {
   "cell_type": "code",
   "execution_count": 214,
   "metadata": {
    "slideshow": {
     "slide_type": "fragment"
    }
   },
   "outputs": [
    {
     "data": {
      "text/plain": [
       "[Post(timestamp=1523406261.574185, user='brianspiering', content='#life tip: take frequent naps'),\n",
       " Post(timestamp=1523406231.574185, user='brianspiering', content='#python tip: have fun programming')]"
      ]
     },
     "execution_count": 214,
     "metadata": {},
     "output_type": "execute_result"
    }
   ],
   "source": [
    "def posts_by_user(user, limit=2):\n",
    "    return list(islice(user_posts[user], limit))\n",
    "\n",
    "posts_by_user('brianspiering')"
   ]
  },
  {
   "cell_type": "markdown",
   "metadata": {
    "slideshow": {
     "slide_type": "slide"
    }
   },
   "source": [
    "How about search?\n",
    "-----"
   ]
  },
  {
   "cell_type": "code",
   "execution_count": 219,
   "metadata": {
    "slideshow": {
     "slide_type": "slide"
    }
   },
   "outputs": [
    {
     "name": "stdout",
     "output_type": "stream",
     "text": [
      "Post(timestamp=1523406231.574185, user='brianspiering', content='#python tip: have fun programming')\n",
      "Post(timestamp=1523406221.574185, user='jeffjohnson', content='teaching #python today')\n",
      "Post(timestamp=1523405771.574185, user='brianspiering', content='#python tip: develop interactively')\n",
      "Post(timestamp=1523233471.574185, user='brianspiering', content='#python tip: use the correctdata structures')\n"
     ]
    }
   ],
   "source": [
    "phrase = 'python'\n",
    "\n",
    "relevant_posts = []\n",
    "for post in posts:\n",
    "    if phrase in post.content:\n",
    "        relevant_posts.append(post) \n",
    "print(*relevant_posts, sep=\"\\n\")"
   ]
  },
  {
   "cell_type": "code",
   "execution_count": 220,
   "metadata": {
    "slideshow": {
     "slide_type": "slide"
    }
   },
   "outputs": [],
   "source": [
    "# itertools.islice efficiently selects elements from an iterator\n",
    "# Indexing only works with sequences.\n",
    "\n",
    "def search(phrase, limit=2):\n",
    "    return list(islice((post for post in posts if phrase in post.content), limit))\n",
    "\n",
    "search(phrase='python')"
   ]
  },
  {
   "cell_type": "markdown",
   "metadata": {
    "slideshow": {
     "slide_type": "slide"
    }
   },
   "source": [
    "Bottlenecks\n",
    "------\n",
    "\n",
    "Search is often a bottleneck.\n",
    "\n",
    "For example, my code could benefit from caching and from building a index ahead of time."
   ]
  },
  {
   "cell_type": "markdown",
   "metadata": {
    "slideshow": {
     "slide_type": "slide"
    }
   },
   "source": [
    "On Your Own - \"How would you design a search engine?\"\n",
    "------\n",
    "\n",
    "<center><img src=\"https://upload.wikimedia.org/wikipedia/en/thumb/f/fa/MLR-search-engine-example.png/260px-MLR-search-engine-example.png\" width=\"700\"/></center>"
   ]
  },
  {
   "cell_type": "markdown",
   "metadata": {
    "slideshow": {
     "slide_type": "slide"
    }
   },
   "source": [
    "Bottlenecks\n",
    "------\n",
    "\n",
    "Refactor for easy wins (sets, modularize, parallelize)\n",
    "\n",
    "__Where would the pub-sub system fail first?__"
   ]
  },
  {
   "cell_type": "markdown",
   "metadata": {
    "slideshow": {
     "slide_type": "slide"
    }
   },
   "source": [
    "Twitter is Power Law Distributed\n",
    "-------\n",
    "\n",
    "<center><img src=\"http://trak.in/wp-content/uploads/2009/07/Twitteruserfollowers.jpg\" width=\"700\"/></center>"
   ]
  },
  {
   "cell_type": "markdown",
   "metadata": {
    "slideshow": {
     "slide_type": "slide"
    }
   },
   "source": [
    "For Next Time\n",
    "------\n",
    "\n",
    "- Search Algorithms\n",
    "    - Binary Search\n",
    "    - [Bisect](https://en.wikipedia.org/wiki/Bisect)\n",
    "    - 2d matrices search\n",
    "    - XOR might be helpful\n",
    "- Linked List or Student's Choice\n",
    "\n",
    "-------\n",
    "\n",
    "Only 2 more sessions"
   ]
  },
  {
   "cell_type": "markdown",
   "metadata": {
    "slideshow": {
     "slide_type": "slide"
    }
   },
   "source": [
    "<br>\n",
    "<br> \n",
    "<br>\n",
    "\n",
    "----"
   ]
  }
 ],
 "metadata": {
  "celltoolbar": "Slideshow",
  "kernelspec": {
   "display_name": "Python 3",
   "language": "python",
   "name": "python3"
  },
  "language_info": {
   "codemirror_mode": {
    "name": "ipython",
    "version": 3
   },
   "file_extension": ".py",
   "mimetype": "text/x-python",
   "name": "python",
   "nbconvert_exporter": "python",
   "pygments_lexer": "ipython3",
   "version": "3.6.4"
  }
 },
 "nbformat": 4,
 "nbformat_minor": 2
}
