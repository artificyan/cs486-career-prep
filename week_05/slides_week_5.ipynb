{
 "cells": [
  {
   "cell_type": "markdown",
   "metadata": {
    "slideshow": {
     "slide_type": "slide"
    }
   },
   "source": [
    "Object Oriented Programming (OOP)\n",
    "------\n",
    "\n",
    "<center><img src=\"http://i.imgur.com/Q0vFcHd.png\" width=\"700\"/></center>"
   ]
  },
  {
   "cell_type": "markdown",
   "metadata": {
    "slideshow": {
     "slide_type": "slide"
    }
   },
   "source": [
    "GitHub Profile Tips\n",
    "-----\n",
    "\n",
    "- Just Needs to exist\n",
    "    - Photo\n",
    "    - Bio\n",
    "- Keep it simple\n",
    "    - A pinned repo of __your own work__\n",
    "    - README"
   ]
  },
  {
   "cell_type": "markdown",
   "metadata": {
    "slideshow": {
     "slide_type": "skip"
    }
   },
   "source": [
    "https://gist.github.com/ndelage/7583138"
   ]
  },
  {
   "cell_type": "markdown",
   "metadata": {
    "slideshow": {
     "slide_type": "slide"
    }
   },
   "source": [
    "The goal of programming: Create value while managing complexity\n",
    "------\n",
    "\n",
    "<center><img src=\"images/wisdom.jpg\" width=\"700\"/></center>"
   ]
  },
  {
   "cell_type": "markdown",
   "metadata": {
    "slideshow": {
     "slide_type": "slide"
    }
   },
   "source": [
    "Interview Question: Explain OOP to your neice or nephew...\n",
    "------"
   ]
  },
  {
   "cell_type": "markdown",
   "metadata": {
    "slideshow": {
     "slide_type": "slide"
    }
   },
   "source": [
    "OOP\n",
    "-----\n",
    "\n",
    "Classes are a category with nouns (attributes) and verbs (methods).\n",
    "\n",
    "Specific examples of a category are instances of a class."
   ]
  },
  {
   "cell_type": "code",
   "execution_count": 1,
   "metadata": {
    "slideshow": {
     "slide_type": "fragment"
    }
   },
   "outputs": [
    {
     "name": "stdout",
     "output_type": "stream",
     "text": [
      "Whoof!\n"
     ]
    }
   ],
   "source": [
    "class Dog:\n",
    "    def __init__(self, name, breed):\n",
    "        self.name = name\n",
    "        self.breed = breed\n",
    "        \n",
    "    def speak(self):\n",
    "        print('Whoof!')\n",
    "        \n",
    "fluffy = Dog(name='Fluffy', \n",
    "             breed='Caucasian Shepherd')\n",
    "fluffy.speak()"
   ]
  },
  {
   "cell_type": "markdown",
   "metadata": {
    "slideshow": {
     "slide_type": "slide"
    }
   },
   "source": [
    "Design Pattern\n",
    "-----\n",
    "\n",
    "A repeatable solution to a commonly occurring problem within a specific context."
   ]
  },
  {
   "cell_type": "markdown",
   "metadata": {
    "format": "row",
    "slideshow": {
     "slide_type": "slide"
    }
   },
   "source": [
    "What are common OOP Design Patterns?\n",
    "------"
   ]
  },
  {
   "cell_type": "markdown",
   "metadata": {
    "slideshow": {
     "slide_type": "fragment"
    }
   },
   "source": [
    "<center><img src=\"https://i.pinimg.com/564x/e3/7b/9a/e37b9a49f22d3334d26927816f9f1000.jpg\" width=\"700\"/></center>"
   ]
  },
  {
   "cell_type": "markdown",
   "metadata": {
    "slideshow": {
     "slide_type": "slide"
    }
   },
   "source": [
    "Interview Problem: Define either a Singleton or Flyweight pattern. Then implement it.\n",
    "-------\n",
    "\n",
    "(In a real interview, they would only ask for one)"
   ]
  },
  {
   "cell_type": "markdown",
   "metadata": {
    "slideshow": {
     "slide_type": "slide"
    }
   },
   "source": [
    "Singleton\n",
    "----\n",
    "\n",
    "A class with only one instance"
   ]
  },
  {
   "cell_type": "markdown",
   "metadata": {
    "slideshow": {
     "slide_type": "fragment"
    }
   },
   "source": [
    "```python\n",
    "# Most common: main function\n",
    "if __name__ == '__main__':    \n",
    "    main()    \n",
    "```"
   ]
  },
  {
   "cell_type": "code",
   "execution_count": 9,
   "metadata": {
    "slideshow": {
     "slide_type": "slide"
    }
   },
   "outputs": [],
   "source": [
    "# Alex Martelli's 'Borg'\n",
    "\n",
    "class Borg:\n",
    "    _shared_state = {}\n",
    "    def __init__(self):\n",
    "        self.__dict__ = self._shared_state\n",
    "\n",
    "class Singleton(Borg):\n",
    "    \n",
    "    def __init__(self, arg):\n",
    "        Borg.__init__(self)\n",
    "        self.val = arg\n",
    "    \n",
    "    def __str__(self): \n",
    "        return self.val"
   ]
  },
  {
   "cell_type": "code",
   "execution_count": 10,
   "metadata": {
    "slideshow": {
     "slide_type": "fragment"
    }
   },
   "outputs": [
    {
     "name": "stdout",
     "output_type": "stream",
     "text": [
      "sausage\n",
      "eggs\n",
      "ham\n"
     ]
    }
   ],
   "source": [
    "x = Singleton('sausage')\n",
    "print(x)\n",
    "\n",
    "y = Singleton('eggs')\n",
    "print(y)\n",
    "\n",
    "z = Singleton('ham')\n",
    "print(z)"
   ]
  },
  {
   "cell_type": "code",
   "execution_count": 28,
   "metadata": {
    "slideshow": {
     "slide_type": "fragment"
    }
   },
   "outputs": [
    {
     "data": {
      "text/plain": [
       "{'val': 'ham'}"
      ]
     },
     "execution_count": 28,
     "metadata": {},
     "output_type": "execute_result"
    }
   ],
   "source": [
    "x._shared_state"
   ]
  },
  {
   "cell_type": "markdown",
   "metadata": {
    "slideshow": {
     "slide_type": "skip"
    }
   },
   "source": [
    "http://python-3-patterns-idioms-test.readthedocs.io/en/latest/Singleton.html"
   ]
  },
  {
   "cell_type": "markdown",
   "metadata": {
    "slideshow": {
     "slide_type": "slide"
    }
   },
   "source": [
    "Flyweight\n",
    "----\n",
    "\n",
    "Share data as much as possible, reducing memory footprint"
   ]
  },
  {
   "cell_type": "code",
   "execution_count": 29,
   "metadata": {
    "slideshow": {
     "slide_type": "slide"
    }
   },
   "outputs": [],
   "source": [
    "# Simpliest example\n",
    "\n",
    "global foo"
   ]
  },
  {
   "cell_type": "code",
   "execution_count": 11,
   "metadata": {
    "slideshow": {
     "slide_type": "slide"
    }
   },
   "outputs": [],
   "source": [
    "class Bunch:\n",
    "    \"Bunch is a dictionary that supports attribute-style access, a la JavaScript.\"\n",
    "    def __init__(self, **kwargs):\n",
    "        self.__dict__.update(kwargs)"
   ]
  },
  {
   "cell_type": "code",
   "execution_count": 12,
   "metadata": {
    "slideshow": {
     "slide_type": "fragment"
    }
   },
   "outputs": [
    {
     "data": {
      "text/plain": [
       "'Jayne Cobb'"
      ]
     },
     "execution_count": 12,
     "metadata": {},
     "output_type": "execute_result"
    }
   ],
   "source": [
    "global employee\n",
    "\n",
    "employee = Bunch(name=\"Jayne Cobb\", \n",
    "                 position=\"Senior Engineer\")\n",
    "employee.name # NOTE: No specifically named attributes / No data validation"
   ]
  },
  {
   "cell_type": "code",
   "execution_count": 13,
   "metadata": {
    "slideshow": {
     "slide_type": "fragment"
    }
   },
   "outputs": [],
   "source": [
    "employee.lunch = '🌯'"
   ]
  },
  {
   "cell_type": "code",
   "execution_count": 3,
   "metadata": {
    "slideshow": {
     "slide_type": "fragment"
    }
   },
   "outputs": [],
   "source": [
    "#employee.<tab>"
   ]
  },
  {
   "cell_type": "markdown",
   "metadata": {
    "slideshow": {
     "slide_type": "slide"
    }
   },
   "source": [
    "Interview Problem\n",
    "------\n",
    "\n",
    "Create a class for a deck of cards."
   ]
  },
  {
   "cell_type": "markdown",
   "metadata": {
    "slideshow": {
     "slide_type": "fragment"
    }
   },
   "source": [
    "Deal 1 hand of poker"
   ]
  },
  {
   "cell_type": "code",
   "execution_count": 14,
   "metadata": {
    "slideshow": {
     "slide_type": "slide"
    }
   },
   "outputs": [],
   "source": [
    "import collections\n",
    "import random\n",
    "\n",
    "Card = collections.namedtuple('Card', ['rank', 'suit'])\n",
    "\n",
    "class Deck:\n",
    "    ranks = [str(_) for _ in range(2, 11)] + list('JQKA')\n",
    "    suits = list('♠♥◆♣')\n",
    "    \n",
    "    def __init__(self):\n",
    "         self.cards = [Card(rank, suit) for suit in self.suits\n",
    "                                         for rank in self.ranks]\n",
    "\n",
    "    def __len__(self):\n",
    "        return len(self.cards)\n",
    "\n",
    "    def __getitem__(self, position):\n",
    "        return self.cards[position]\n",
    "    \n",
    "    def deal_poker(self, n_cards=5, n_hands=2):\n",
    "        \"Shuffle the deck and deal out n_hands with n_card for each hand.\"\n",
    "        self.shuffle()\n",
    "        return [self.cards[n_cards*i:n_cards*(i+1)] for i in range(n_hands)]\n",
    "    \n",
    "    def shuffle(self):\n",
    "        random.shuffle(self.cards)"
   ]
  },
  {
   "cell_type": "code",
   "execution_count": 18,
   "metadata": {
    "slideshow": {
     "slide_type": "slide"
    }
   },
   "outputs": [
    {
     "data": {
      "text/plain": [
       "[Card(rank='4', suit='♥'), Card(rank='J', suit='♠'), Card(rank='10', suit='♣')]"
      ]
     },
     "execution_count": 18,
     "metadata": {},
     "output_type": "execute_result"
    }
   ],
   "source": [
    "d = Deck()\n",
    "assert len(d.cards) == 52\n",
    "d.shuffle()\n",
    "d.cards[:3]"
   ]
  },
  {
   "cell_type": "code",
   "execution_count": 20,
   "metadata": {
    "slideshow": {
     "slide_type": "slide"
    }
   },
   "outputs": [
    {
     "data": {
      "text/plain": [
       "[[Card(rank='7', suit='♣'),\n",
       "  Card(rank='9', suit='♠'),\n",
       "  Card(rank='5', suit='♣')],\n",
       " [Card(rank='6', suit='♠'),\n",
       "  Card(rank='Q', suit='◆'),\n",
       "  Card(rank='6', suit='♥')],\n",
       " [Card(rank='Q', suit='♣'),\n",
       "  Card(rank='7', suit='◆'),\n",
       "  Card(rank='3', suit='♣')]]"
      ]
     },
     "execution_count": 20,
     "metadata": {},
     "output_type": "execute_result"
    }
   ],
   "source": [
    "d.deal_poker(n_cards=3, \n",
    "            n_hands=3)"
   ]
  },
  {
   "cell_type": "markdown",
   "metadata": {
    "slideshow": {
     "slide_type": "slide"
    }
   },
   "source": [
    "<center><img src=\"https://pbs.twimg.com/media/B93U1iBIgAA7OXt.jpg\" width=\"700\"/></center>"
   ]
  },
  {
   "cell_type": "markdown",
   "metadata": {
    "slideshow": {
     "slide_type": "slide"
    }
   },
   "source": [
    "Break\n",
    "======="
   ]
  },
  {
   "cell_type": "markdown",
   "metadata": {
    "slideshow": {
     "slide_type": "slide"
    }
   },
   "source": [
    "Negotiation Myths\n",
    "------\n",
    "\n",
    "1. Salary negotiations need to be adversarial\n",
    "2. I need to read (and read, and read) a lot about negotiating before I do anything\n",
    "3. You can negotiate everything\n",
    "4. Some people are born negotiators\n",
    "5. I need to know as much as the other person to “win” at negotiations"
   ]
  },
  {
   "cell_type": "markdown",
   "metadata": {
    "slideshow": {
     "slide_type": "skip"
    }
   },
   "source": [
    "https://www.iwillteachyoutoberich.com/blog/salary-negotiation/"
   ]
  },
  {
   "cell_type": "markdown",
   "metadata": {
    "slideshow": {
     "slide_type": "slide"
    }
   },
   "source": [
    "ARMS technique\n",
    "-----\n",
    "\n",
    "1. Agree\n",
    "2. Reframe\n",
    "3. Make your case\n",
    "4. Shut up after asking"
   ]
  },
  {
   "cell_type": "markdown",
   "metadata": {
    "slideshow": {
     "slide_type": "slide"
    }
   },
   "source": [
    "Negotiating Practice\n",
    "-----\n",
    "\n",
    "Ask to work from home 1 day per week…\n",
    "\n",
    "Think, Pair, Share"
   ]
  },
  {
   "cell_type": "markdown",
   "metadata": {
    "slideshow": {
     "slide_type": "slide"
    }
   },
   "source": [
    "Salary Negotiation Steps:\n",
    "-----\n",
    "\n",
    "1. Find the exact salary you want\n",
    "2. Identify the issues the company is facing and how you can solve them\n",
    "3. Prepare a fallback position\n",
    "4. Practice negotiating relentlessly"
   ]
  },
  {
   "cell_type": "markdown",
   "metadata": {
    "slideshow": {
     "slide_type": "slide"
    }
   },
   "source": [
    "Negotiating Practice\n",
    "-----\n",
    "\n",
    "Ask for a high starting salary\n",
    "\n",
    "(The average salary for an Entry-Level Software Engineer at Facebook Inc is $114,783 per year.)"
   ]
  },
  {
   "cell_type": "markdown",
   "metadata": {
    "slideshow": {
     "slide_type": "slide"
    }
   },
   "source": [
    "For Next Time\n",
    "-----\n",
    "\n",
    "- Review Binary Trees / Binary Search Trees\n",
    "- Complete Behavioral Interview Martix:   \n",
    "\n",
    "| Prompt | Context | Action |  Results | \n",
    "|:-------|:------|:------|:------|\n",
    "| What is your greatest strength? |   |    |    |\n",
    "| What is your greatest weakness? |   |    |   |\n",
    "| Give me an example of a time you faced a conflict while working on a team. How did you handle that? |   |   |   | \n",
    "|Tell me about a time you failed. How did you deal with the situation?  |   |   |  |\n",
    "| Sometimes it’s just not possible to get everything on your to-do list done. Tell me about a time your responsibilities got a little overwhelming. What did you do? |   |    |   |\n",
    "| Tell me about a time when you worked under close supervision or extremely loose supervision. How did you handle that? |   |    |   |\n"
   ]
  },
  {
   "cell_type": "markdown",
   "metadata": {
    "slideshow": {
     "slide_type": "slide"
    }
   },
   "source": [
    "<br>\n",
    "<br> \n",
    "<br>\n",
    "\n",
    "----"
   ]
  }
 ],
 "metadata": {
  "celltoolbar": "Slideshow",
  "kernelspec": {
   "display_name": "Python 3",
   "language": "python",
   "name": "python3"
  },
  "language_info": {
   "codemirror_mode": {
    "name": "ipython",
    "version": 3
   },
   "file_extension": ".py",
   "mimetype": "text/x-python",
   "name": "python",
   "nbconvert_exporter": "python",
   "pygments_lexer": "ipython3",
   "version": "3.6.4"
  }
 },
 "nbformat": 4,
 "nbformat_minor": 2
}
