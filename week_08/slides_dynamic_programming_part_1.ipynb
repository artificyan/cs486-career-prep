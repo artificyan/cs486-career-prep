{
 "cells": [
  {
   "cell_type": "markdown",
   "metadata": {
    "slideshow": {
     "slide_type": "slide"
    }
   },
   "source": [
    "<center><img src=\"https://imgs.xkcd.com/comics/travelling_salesman_problem.png\" width=\"700\"/></center>"
   ]
  },
  {
   "cell_type": "markdown",
   "metadata": {
    "slideshow": {
     "slide_type": "slide"
    }
   },
   "source": [
    "What is dynamic programming (DP)?\n",
    "------"
   ]
  },
  {
   "cell_type": "markdown",
   "metadata": {
    "slideshow": {
     "slide_type": "fragment"
    }
   },
   "source": [
    "Reduce computations by storing and reusing partial results"
   ]
  },
  {
   "cell_type": "markdown",
   "metadata": {
    "slideshow": {
     "slide_type": "fragment"
    }
   },
   "source": [
    "The results are stored in a __cache__ (From the French `cacher`, meaning to hide)"
   ]
  },
  {
   "cell_type": "markdown",
   "metadata": {
    "slideshow": {
     "slide_type": "slide"
    }
   },
   "source": [
    "Cache: A honkin' great idea 💡\n",
    "-----\n",
    "\n",
    "One of the best ideas in Computer Science:\n",
    "\n",
    "Store commonly used data, instead of recomputing it"
   ]
  },
  {
   "cell_type": "markdown",
   "metadata": {
    "slideshow": {
     "slide_type": "slide"
    }
   },
   "source": [
    "What are examples of caches?\n",
    "-------"
   ]
  },
  {
   "cell_type": "markdown",
   "metadata": {
    "slideshow": {
     "slide_type": "fragment"
    }
   },
   "source": [
    "- FAQs - Have frequentlly asked questions in a single location\n",
    "- Static content for websites (vs. sending a request to a database)\n",
    "- Memory cache (vs. reading everything from disk all the time)"
   ]
  },
  {
   "cell_type": "markdown",
   "metadata": {
    "slideshow": {
     "slide_type": "slide"
    }
   },
   "source": [
    "Check for Understanding\n",
    "------\n",
    "\n",
    "List common data structures and the best type of data to cache in them:"
   ]
  },
  {
   "cell_type": "markdown",
   "metadata": {
    "slideshow": {
     "slide_type": "fragment"
    }
   },
   "source": [
    "- array/list: Ordered list of items, such as sequence\n",
    "- matrix/list of lists: Ordered list of items in 2 dimensions\n",
    "- tensors: Ordered list of items in n dimensions\n",
    "- dictionary: precomputed key/value pairs\n",
    "- trie: prefixes of words\n",
    "…"
   ]
  },
  {
   "cell_type": "markdown",
   "metadata": {
    "slideshow": {
     "slide_type": "slide"
    }
   },
   "source": [
    "Dynamic Programming\n",
    "-----\n",
    "<br>\n",
    "<center><img src=\"https://he-s3.s3.amazonaws.com/media/uploads/6b68f98.png\" width=\"700\"/></center>"
   ]
  },
  {
   "cell_type": "markdown",
   "metadata": {
    "slideshow": {
     "slide_type": "slide"
    }
   },
   "source": [
    "What is the difference between recursion and dynamic programming?\n",
    "----"
   ]
  },
  {
   "cell_type": "markdown",
   "metadata": {
    "slideshow": {
     "slide_type": "fragment"
    }
   },
   "source": [
    "They are \"cousins\" (recursion being the inbred side of the family). \n",
    "\n",
    "Both use suproblems to build solutions to larger problems. "
   ]
  },
  {
   "cell_type": "markdown",
   "metadata": {
    "format": "row",
    "slideshow": {
     "slide_type": "slide"
    }
   },
   "source": [
    "During recursion, there may exist a case where same sub-problems are solved multiple times.\n",
    "\n",
    "DP does not repeat the same sub-problem, it just looks up the answer in the cache."
   ]
  },
  {
   "cell_type": "markdown",
   "metadata": {
    "slideshow": {
     "slide_type": "slide"
    }
   },
   "source": [
    "What are the characteristics of problems that can be solved with dynamic programming?\n",
    "----"
   ]
  },
  {
   "cell_type": "markdown",
   "metadata": {
    "slideshow": {
     "slide_type": "slide"
    }
   },
   "source": [
    "An optimal solution composed of overlapping subproblems"
   ]
  },
  {
   "cell_type": "markdown",
   "metadata": {
    "slideshow": {
     "slide_type": "slide"
    }
   },
   "source": [
    "Examples of overlapping subproblems\n",
    "-------"
   ]
  },
  {
   "cell_type": "markdown",
   "metadata": {
    "slideshow": {
     "slide_type": "fragment"
    }
   },
   "source": [
    "<center><img src=\"images/trie.png\" width=\"700\"/></center>"
   ]
  },
  {
   "cell_type": "markdown",
   "metadata": {
    "slideshow": {
     "slide_type": "slide"
    }
   },
   "source": [
    "Dynamic programming for optimal solution search\n",
    "-------\n",
    "\n",
    "Often there are multiple subsolutions that give satisfactory solutions for a given problem.\n",
    "\n",
    "Dynamic programming uses bottom-up search to find all subsolutions then select __final optimal solution__.\n",
    "\n",
    "This avoid locally optimal solutions when using greedy search."
   ]
  },
  {
   "cell_type": "markdown",
   "metadata": {
    "slideshow": {
     "slide_type": "slide"
    }
   },
   "source": [
    "Making change\n",
    "------\n",
    "\n",
    "A example of overlapping subproblems for an optimal solution\n",
    "\n",
    "An optimal solution is the fewest number of available bills.\n",
    "\n",
    "Start with making change for $1, then $2, then $3, …\n",
    "\n",
    "Making change for $13 is the optimal solution for $10 plus the optimal solution for $3."
   ]
  },
  {
   "cell_type": "markdown",
   "metadata": {
    "slideshow": {
     "slide_type": "slide"
    }
   },
   "source": [
    "What are examples of overlapping subsolution search?\n",
    "------"
   ]
  },
  {
   "cell_type": "markdown",
   "metadata": {
    "slideshow": {
     "slide_type": "fragment"
    }
   },
   "source": [
    "What is the best time to buy and sell to stocks?\n",
    "------\n",
    "<center><img src=\"images/stock.png\" width=\"700\"/></center>"
   ]
  },
  {
   "cell_type": "markdown",
   "metadata": {
    "slideshow": {
     "slide_type": "slide"
    }
   },
   "source": [
    "Interview Problem: The 🐇 problem\n",
    "-------\n",
    "\n",
    "🐇  \n",
    "🐇   \n",
    "🐇🐇   \n",
    "🐇🐇🐇   \n",
    "🐇🐇🐇🐇🐇  \n",
    "🐇🐇🐇🐇🐇🐇🐇🐇  \n",
    "\n",
    "Write a function that calculates the n<sup>th</sup> Fibonacci number. "
   ]
  },
  {
   "cell_type": "markdown",
   "metadata": {
    "slideshow": {
     "slide_type": "fragment"
    }
   },
   "source": [
    "Try this in your non-dominant language (switch from compiled to dynamic or visa versa)"
   ]
  },
  {
   "cell_type": "markdown",
   "metadata": {
    "slideshow": {
     "slide_type": "fragment"
    }
   },
   "source": [
    "Solve this in as many different ways as possible"
   ]
  },
  {
   "cell_type": "code",
   "execution_count": 113,
   "metadata": {
    "slideshow": {
     "slide_type": "skip"
    }
   },
   "outputs": [],
   "source": [
    "reset -fs"
   ]
  },
  {
   "cell_type": "code",
   "execution_count": 114,
   "metadata": {
    "slideshow": {
     "slide_type": "slide"
    }
   },
   "outputs": [],
   "source": [
    "def test_fib(f):\n",
    "    fib_sequence = {0: 0,\n",
    "                   1: 1,\n",
    "                   2: 1,\n",
    "                   3: 2,\n",
    "                   9: 34,\n",
    "                   37: 24_157_817}\n",
    "\n",
    "    for key, fib_value in fib_sequence.items():\n",
    "        assert f(key) == fib_value\n",
    "    \n",
    "    print('tests pass 😁')"
   ]
  },
  {
   "cell_type": "code",
   "execution_count": 121,
   "metadata": {
    "slideshow": {
     "slide_type": "slide"
    }
   },
   "outputs": [],
   "source": [
    "def fib_subproblems(n):\n",
    "    \"Calculate nth Fibonacci number as overlapping subproblems while storing all computations\"\n",
    "    fib_seq = [0, 1]\n",
    "    for i in range(2, n+1):\n",
    "        fib_seq.append(fib_seq[i-1] + fib_seq[i-2])\n",
    "    return fib_seq[n]"
   ]
  },
  {
   "cell_type": "code",
   "execution_count": 122,
   "metadata": {
    "slideshow": {
     "slide_type": "fragment"
    }
   },
   "outputs": [
    {
     "name": "stdout",
     "output_type": "stream",
     "text": [
      "tests pass 😁\n"
     ]
    }
   ],
   "source": [
    "test_fib(fib_subproblems)"
   ]
  },
  {
   "cell_type": "markdown",
   "metadata": {
    "slideshow": {
     "slide_type": "slide"
    }
   },
   "source": [
    "What is the Big O for both time and space?"
   ]
  },
  {
   "cell_type": "markdown",
   "metadata": {
    "slideshow": {
     "slide_type": "fragment"
    }
   },
   "source": [
    "Time is O(n).\n",
    "\n",
    "Space is O(n). (YIKES!)"
   ]
  },
  {
   "cell_type": "code",
   "execution_count": 123,
   "metadata": {
    "slideshow": {
     "slide_type": "fragment"
    }
   },
   "outputs": [
    {
     "name": "stdout",
     "output_type": "stream",
     "text": [
      "13.5 µs ± 2.87 µs per loop (mean ± std. dev. of 7 runs, 4 loops each)\n"
     ]
    }
   ],
   "source": [
    "# Benchmark\n",
    "%timeit -n4 fib_subproblems(30)"
   ]
  },
  {
   "cell_type": "markdown",
   "metadata": {
    "slideshow": {
     "slide_type": "slide"
    }
   },
   "source": [
    "How can we reduce the space?\n",
    "----"
   ]
  },
  {
   "cell_type": "code",
   "execution_count": 2,
   "metadata": {
    "slideshow": {
     "slide_type": "slide"
    }
   },
   "outputs": [],
   "source": [
    "def fib_swap(n):\n",
    "    \"Calculate nth Fibonacci number\"\n",
    "    a, b = 0, 1\n",
    "    for _ in range(n):\n",
    "        a, b = b, a+b\n",
    "    return a"
   ]
  },
  {
   "cell_type": "code",
   "execution_count": 3,
   "metadata": {
    "slideshow": {
     "slide_type": "skip"
    }
   },
   "outputs": [
    {
     "data": {
      "text/plain": [
       "[0, 1, 1, 2, 3, 5, 8, 13, 21, 34]"
      ]
     },
     "execution_count": 3,
     "metadata": {},
     "output_type": "execute_result"
    }
   ],
   "source": [
    "# Manually inspect to make sure it works\n",
    "[fib_swap(n) for n in range(10)]"
   ]
  },
  {
   "cell_type": "code",
   "execution_count": 116,
   "metadata": {
    "slideshow": {
     "slide_type": "slide"
    }
   },
   "outputs": [
    {
     "name": "stdout",
     "output_type": "stream",
     "text": [
      "tests pass 😁\n"
     ]
    }
   ],
   "source": [
    "test_fib(fib_swap)"
   ]
  },
  {
   "cell_type": "code",
   "execution_count": 117,
   "metadata": {
    "slideshow": {
     "slide_type": "fragment"
    }
   },
   "outputs": [
    {
     "name": "stdout",
     "output_type": "stream",
     "text": [
      "5.58 µs ± 2.88 µs per loop (mean ± std. dev. of 7 runs, 4 loops each)\n"
     ]
    }
   ],
   "source": [
    "# Benchmark\n",
    "%timeit -n4 fib_swap(30)"
   ]
  },
  {
   "cell_type": "markdown",
   "metadata": {
    "slideshow": {
     "slide_type": "fragment"
    }
   },
   "source": [
    "What is the Big O for both time and space?"
   ]
  },
  {
   "cell_type": "markdown",
   "metadata": {
    "slideshow": {
     "slide_type": "fragment"
    }
   },
   "source": [
    "Time is O(n).\n",
    "\n",
    "Space is O(1)."
   ]
  },
  {
   "cell_type": "markdown",
   "metadata": {
    "slideshow": {
     "slide_type": "slide"
    }
   },
   "source": [
    "How can we reduce the time complexity?\n",
    "-----\n"
   ]
  },
  {
   "cell_type": "markdown",
   "metadata": {
    "slideshow": {
     "slide_type": "fragment"
    }
   },
   "source": [
    "We should strive for constant time. \n",
    "\n",
    "Constant time in math is a closed-form or analyticial solution\n",
    "\n",
    "MathOps FTW!\n",
    "\n",
    "<center><img src=\"https://i.stack.imgur.com/elWkx.png\" width=\"700\"/></center>"
   ]
  },
  {
   "cell_type": "markdown",
   "metadata": {
    "slideshow": {
     "slide_type": "slide"
    }
   },
   "source": [
    "Interview Problem\n",
    "-------\n",
    "\n",
    "Write function that calculate nth Fibonacci number using dynamic programming"
   ]
  },
  {
   "cell_type": "code",
   "execution_count": 118,
   "metadata": {
    "slideshow": {
     "slide_type": "slide"
    }
   },
   "outputs": [],
   "source": [
    "def fib_recursive(n):\n",
    "    \"Calculate nth Fibonacci number using recursion\"\n",
    "    if n == 0: return 0\n",
    "    if n == 1: return 1\n",
    "    return fib_recursive(n-1) + fib_recursive(n-2)"
   ]
  },
  {
   "cell_type": "code",
   "execution_count": 119,
   "metadata": {
    "slideshow": {
     "slide_type": "fragment"
    }
   },
   "outputs": [
    {
     "name": "stdout",
     "output_type": "stream",
     "text": [
      "tests pass 😁\n"
     ]
    }
   ],
   "source": [
    "test_fib(fib_recursive)"
   ]
  },
  {
   "cell_type": "code",
   "execution_count": 120,
   "metadata": {
    "slideshow": {
     "slide_type": "fragment"
    }
   },
   "outputs": [
    {
     "name": "stdout",
     "output_type": "stream",
     "text": [
      "543 ms ± 16.6 ms per loop (mean ± std. dev. of 7 runs, 4 loops each)\n"
     ]
    }
   ],
   "source": [
    "# Benchmark\n",
    "%timeit -n4 fib_recursive(30)"
   ]
  },
  {
   "cell_type": "markdown",
   "metadata": {
    "slideshow": {
     "slide_type": "slide"
    }
   },
   "source": [
    "Apply Dynamic Programming \n",
    "-----\n",
    "\n",
    "Let's store all previous results. Then just look them up instead of recalculating them."
   ]
  },
  {
   "cell_type": "code",
   "execution_count": 124,
   "metadata": {
    "slideshow": {
     "slide_type": "slide"
    }
   },
   "outputs": [],
   "source": [
    "from functools import lru_cache\n",
    "\n",
    "@lru_cache(maxsize=32)\n",
    "def fib_cache(n):\n",
    "    \"Calculate nth Fibonacci number using recursion\"\n",
    "    if n == 0: return 0\n",
    "    if n == 1: return 1\n",
    "    return fib_cache(n-1) + fib_cache(n-2)"
   ]
  },
  {
   "cell_type": "code",
   "execution_count": 125,
   "metadata": {
    "slideshow": {
     "slide_type": "fragment"
    }
   },
   "outputs": [
    {
     "name": "stdout",
     "output_type": "stream",
     "text": [
      "tests pass 😁\n"
     ]
    }
   ],
   "source": [
    "test_fib(fib_cache)"
   ]
  },
  {
   "cell_type": "code",
   "execution_count": 126,
   "metadata": {
    "slideshow": {
     "slide_type": "fragment"
    }
   },
   "outputs": [
    {
     "name": "stdout",
     "output_type": "stream",
     "text": [
      "382 ns ± 152 ns per loop (mean ± std. dev. of 7 runs, 4 loops each)\n"
     ]
    }
   ],
   "source": [
    "# Benchmark\n",
    "%timeit -n4 fib_cache(30)"
   ]
  },
  {
   "cell_type": "code",
   "execution_count": 127,
   "metadata": {
    "slideshow": {
     "slide_type": "slide"
    }
   },
   "outputs": [],
   "source": [
    "def memoize(f):\n",
    "    \"Cache decorator similar to functools.lru_cache\"\n",
    "    memo = {}\n",
    "    def helper(x):\n",
    "        if x not in memo:            \n",
    "            memo[x] = f(x)\n",
    "        return memo[x]\n",
    "    return helper"
   ]
  },
  {
   "cell_type": "code",
   "execution_count": 130,
   "metadata": {
    "slideshow": {
     "slide_type": "fragment"
    }
   },
   "outputs": [],
   "source": [
    "@memoize\n",
    "def fib_cache_user(n):\n",
    "    \"Calculate nth Fibonacci number using recursion\"\n",
    "    if n == 0: return 0\n",
    "    if n == 1: return 1\n",
    "    return fib_cache_user(n-1) + fib_cache_user(n-2)"
   ]
  },
  {
   "cell_type": "code",
   "execution_count": 131,
   "metadata": {
    "slideshow": {
     "slide_type": "slide"
    }
   },
   "outputs": [
    {
     "name": "stdout",
     "output_type": "stream",
     "text": [
      "tests pass 😁\n"
     ]
    }
   ],
   "source": [
    "test_fib(fib_cache_user)"
   ]
  },
  {
   "cell_type": "code",
   "execution_count": 132,
   "metadata": {
    "slideshow": {
     "slide_type": "fragment"
    }
   },
   "outputs": [
    {
     "name": "stdout",
     "output_type": "stream",
     "text": [
      "473 ns ± 200 ns per loop (mean ± std. dev. of 7 runs, 4 loops each)\n"
     ]
    }
   ],
   "source": [
    "# Benchmark\n",
    "%timeit -n4 fib_cache_user(30)"
   ]
  },
  {
   "cell_type": "markdown",
   "metadata": {
    "slideshow": {
     "slide_type": "slide"
    }
   },
   "source": [
    "[Scala Version](scala_example.ipynb)\n",
    "------\n",
    "\n"
   ]
  },
  {
   "cell_type": "markdown",
   "metadata": {
    "slideshow": {
     "slide_type": "slide"
    }
   },
   "source": [
    "Dynamic Programming Playbook\n",
    "------\n",
    "\n",
    "1. What is given?\n",
    "\n",
    "2. What is the output?\n",
    "\n",
    "3. How do I build up the from the given to the output?\n",
    "\n",
    "4. What is the optimal data structure for the cache?"
   ]
  },
  {
   "cell_type": "markdown",
   "metadata": {
    "slideshow": {
     "slide_type": "slide"
    }
   },
   "source": [
    "Brian's way: Functional programming FTW\n",
    "---"
   ]
  },
  {
   "cell_type": "code",
   "execution_count": 133,
   "metadata": {
    "slideshow": {
     "slide_type": "slide"
    }
   },
   "outputs": [],
   "source": [
    "def fib():\n",
    "    \"A Fibonacci sequence generator\"\n",
    "    a, b = 0, 1\n",
    "    while True:\n",
    "        a, b = b, a+b\n",
    "        yield a"
   ]
  },
  {
   "cell_type": "code",
   "execution_count": 140,
   "metadata": {
    "slideshow": {
     "slide_type": "slide"
    }
   },
   "outputs": [
    {
     "name": "stdout",
     "output_type": "stream",
     "text": [
      "33,644,764,876,431,783,266,621,612,005,107,543,310,302,148,460,680,063,906,564,769,974,680,081,442,166,662,368,155,595,513,633,734,025,582,065,332,680,836,159,373,734,790,483,865,268,263,040,892,463,056,431,887,354,544,369,559,827,491,606,602,099,884,183,933,864,652,731,300,088,830,269,235,673,613,135,117,579,297,437,854,413,752,130,520,504,347,701,602,264,758,318,906,527,890,855,154,366,159,582,987,279,682,987,510,631,200,575,428,783,453,215,515,103,870,818,298,969,791,613,127,856,265,033,195,487,140,214,287,532,698,187,962,046,936,097,879,900,350,962,302,291,026,368,131,493,195,275,630,227,837,628,441,540,360,584,402,572,114,334,961,180,023,091,208,287,046,088,923,962,328,835,461,505,776,583,271,252,546,093,591,128,203,925,285,393,434,620,904,245,248,929,403,901,706,233,888,991,085,841,065,183,173,360,437,470,737,908,552,631,764,325,733,993,712,871,937,587,746,897,479,926,305,837,065,742,830,161,637,408,969,178,426,378,624,212,835,258,112,820,516,370,298,089,332,099,905,707,920,064,367,426,202,389,783,111,470,054,074,998,459,250,360,633,560,933,883,831,923,386,783,056,136,435,351,892,133,279,732,908,133,732,642,652,633,989,763,922,723,407,882,928,177,953,580,570,993,691,049,175,470,808,931,841,056,146,322,338,217,465,637,321,248,226,383,092,103,297,701,648,054,726,243,842,374,862,411,453,093,812,206,564,914,032,751,086,643,394,517,512,161,526,545,361,333,111,314,042,436,854,805,106,765,843,493,523,836,959,653,428,071,768,775,328,348,234,345,557,366,719,731,392,746,273,629,108,210,679,280,784,718,035,329,131,176,778,924,659,089,938,635,459,327,894,523,777,674,406,192,240,337,638,674,004,021,330,343,297,496,902,028,328,145,933,418,826,817,683,893,072,003,634,795,623,117,103,101,291,953,169,794,607,632,737,589,253,530,772,552,375,943,788,434,504,067,715,555,779,056,450,443,016,640,119,462,580,972,216,729,758,615,026,968,443,146,952,034,614,932,291,105,970,676,243,268,515,992,834,709,891,284,706,740,862,008,587,135,016,260,312,071,903,172,086,094,081,298,321,581,077,282,076,353,186,624,611,278,245,537,208,532,365,305,775,956,430,072,517,744,315,051,539,600,905,168,603,220,349,163,222,640,885,248,852,433,158,051,534,849,622,434,848,299,380,905,070,483,482,449,327,453,732,624,567,755,879,089,187,190,803,662,058,009,594,743,150,052,402,532,709,746,995,318,770,724,376,825,907,419,939,632,265,984,147,498,193,609,285,223,945,039,707,165,443,156,421,328,157,688,908,058,783,183,404,917,434,556,270,520,223,564,846,495,196,112,460,268,313,970,975,069,382,648,706,613,264,507,665,074,611,512,677,522,748,621,598,642,530,711,298,441,182,622,661,057,163,515,069,260,029,861,704,945,425,047,491,378,115,154,139,941,550,671,256,271,197,133,252,763,631,939,606,902,895,650,288,268,608,362,241,082,050,562,430,701,794,976,171,121,233,066,073,310,059,947,366,875\n"
     ]
    }
   ],
   "source": [
    "from itertools import islice\n",
    "\n",
    "n = 10_000\n",
    "big_fib = next(islice(fib(), n-1, n))\n",
    "print(f\"{big_fib:,}\")"
   ]
  },
  {
   "cell_type": "code",
   "execution_count": 135,
   "metadata": {
    "slideshow": {
     "slide_type": "fragment"
    }
   },
   "outputs": [
    {
     "name": "stdout",
     "output_type": "stream",
     "text": [
      "11.3 µs ± 414 ns per loop (mean ± std. dev. of 7 runs, 4 loops each)\n"
     ]
    }
   ],
   "source": [
    "%timeit -n4 next(islice(fib(), n-1, n))"
   ]
  },
  {
   "cell_type": "markdown",
   "metadata": {
    "slideshow": {
     "slide_type": "slide"
    }
   },
   "source": [
    "<center><img src=\"http://www.quotespedia.info/images/right/mark_twain_right_69.jpg\" width=\"700\"/></center>"
   ]
  },
  {
   "cell_type": "markdown",
   "metadata": {
    "slideshow": {
     "slide_type": "slide"
    }
   },
   "source": [
    "Break\n",
    "------"
   ]
  },
  {
   "cell_type": "markdown",
   "metadata": {
    "slideshow": {
     "slide_type": "slide"
    }
   },
   "source": [
    "Interview Problem: Max Profit\n",
    "-----\n",
    "\n",
    "<center><img src=\"images/stock.png\" width=\"400\"/></center>\n",
    "\n",
    "Say you have an array for which the ith element is the price of a given stock on day i.\n",
    "\n",
    "Design an algorithm to find the maximum profit. You may complete as many transactions as you like (ie, buy one and sell one share of the stock multiple times) with the following restrictions:\n",
    "\n",
    "- You may not engage in multiple transactions at the same time (ie, you must sell the stock before you buy again).\n",
    "- After you sell your stock, you cannot buy stock on next day. (ie, cooldown 1 day)\n",
    "\n",
    "```python\n",
    "prices = [1, 2, 3, 0, 2]\n",
    "max_profit = 3\n",
    "transactions = [buy, sell, cooldown, buy, sell]\n",
    "```"
   ]
  },
  {
   "cell_type": "markdown",
   "metadata": {
    "slideshow": {
     "slide_type": "slide"
    }
   },
   "source": [
    "Summary\n",
    "------\n",
    "\n",
    "- Dynamic Programming (DP) is very common in programming interviews\n",
    "- Many complicated problems become simple with DP\n",
    "- Work the DP gameplan:\n",
    "    - Find the input\n",
    "    - Find the output\n",
    "    - Find the steps\n",
    "    - Find the cache\n",
    "- Practice, Practice, Practice"
   ]
  },
  {
   "cell_type": "markdown",
   "metadata": {
    "slideshow": {
     "slide_type": "slide"
    }
   },
   "source": [
    "<br>\n",
    "<br> \n",
    "<br>\n",
    "\n",
    "----"
   ]
  }
 ],
 "metadata": {
  "celltoolbar": "Slideshow",
  "kernelspec": {
   "display_name": "Python 3",
   "language": "python",
   "name": "python3"
  },
  "language_info": {
   "codemirror_mode": {
    "name": "ipython",
    "version": 3
   },
   "file_extension": ".py",
   "mimetype": "text/x-python",
   "name": "python",
   "nbconvert_exporter": "python",
   "pygments_lexer": "ipython3",
   "version": "3.6.4"
  }
 },
 "nbformat": 4,
 "nbformat_minor": 2
}
